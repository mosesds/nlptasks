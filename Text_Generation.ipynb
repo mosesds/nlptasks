{
 "cells": [
  {
   "cell_type": "markdown",
   "id": "b15545e9",
   "metadata": {},
   "source": [
    "# Text Generation\n",
    "---\n",
    "Honestly, quite dissapointing. The generated text it topical but nonsensical. As if it's just regurgitating any seemingly related information"
   ]
  },
  {
   "cell_type": "code",
   "execution_count": 2,
   "id": "e2a19056",
   "metadata": {},
   "outputs": [],
   "source": [
    "import logging\n",
    "\n",
    "from simpletransformers.language_generation import LanguageGenerationModel, LanguageGenerationArgs\n",
    "\n",
    "\n",
    "logging.basicConfig(level=logging.INFO)\n",
    "transformers_logger = logging.getLogger(\"transformers\")\n",
    "transformers_logger.setLevel(logging.WARNING)\n",
    "\n",
    "model = LanguageGenerationModel(\"gpt2\", \"gpt2\", cuda_device=5)\n"
   ]
  },
  {
   "cell_type": "code",
   "execution_count": 5,
   "id": "aaa4130d",
   "metadata": {},
   "outputs": [
    {
     "name": "stderr",
     "output_type": "stream",
     "text": [
      "Setting `pad_token_id` to `eos_token_id`:50256 for open-end generation.\n",
      "INFO:simpletransformers.language_generation.language_generation_model:=== GENERATED SEQUENCE 1 ===\n",
      "INFO:simpletransformers.language_generation.language_generation_model:Setting aside all the is-it-a-sport-or-not arguments, rhythmic gymnastics (the one with the ribbons) delivered some drama with an unexpected finale.\n",
      "\n",
      "To top that off, this is probably the best performance by an athlete of the last eight years. From his humble beginnings to his current position, Daniel Bryan has yet to get back to a high level of effort that can be summed up as such a major factor in the victory. He might get better, but you don't see that coming on the ring either. We just won't see this coming.\n",
      "\n",
      "The last time this had been discussed, in 2013, John Cena came off\n"
     ]
    },
    {
     "data": {
      "text/plain": [
       "[\"Setting aside all the is-it-a-sport-or-not arguments, rhythmic gymnastics (the one with the ribbons) delivered some drama with an unexpected finale.\\n\\nTo top that off, this is probably the best performance by an athlete of the last eight years. From his humble beginnings to his current position, Daniel Bryan has yet to get back to a high level of effort that can be summed up as such a major factor in the victory. He might get better, but you don't see that coming on the ring either. We just won't see this coming.\\n\\nThe last time this had been discussed, in 2013, John Cena came off\"]"
      ]
     },
     "execution_count": 5,
     "metadata": {},
     "output_type": "execute_result"
    }
   ],
   "source": [
    "'''\n",
    "Setting aside all the is-it-a-sport-or-not arguments, rhythmic gymnastics (the one with the ribbons) delivered some drama with an unexpected finale.\n",
    "\n",
    "And an unsettled loser afterward.\n",
    "\n",
    "The gold medal favorite, Dina Averina of Russia, completed a routine as convoluted as the reason Russia is competing as R.O.C. (for Russian Olympic Committee) at the Olympics instead of its plain old name.\n",
    "\n",
    "'''\n",
    "args = {\n",
    "    \"max_length\" : 100,\n",
    "}\n",
    "\n",
    "model.generate(\"Setting aside all the is-it-a-sport-or-not arguments, rhythmic gymnastics (the one with the ribbons) delivered some drama with an unexpected finale.\", args)\n"
   ]
  },
  {
   "cell_type": "code",
   "execution_count": 6,
   "id": "c75cda64",
   "metadata": {},
   "outputs": [
    {
     "name": "stderr",
     "output_type": "stream",
     "text": [
      "Setting `pad_token_id` to `eos_token_id`:50256 for open-end generation.\n",
      "INFO:simpletransformers.language_generation.language_generation_model:=== GENERATED SEQUENCE 1 ===\n",
      "INFO:simpletransformers.language_generation.language_generation_model:A beauty makeover worthy of an award! Simone Biles closed out the 2020 Tokyo Olympics with a fabulous new hairdo. The four-time Olympic gold medalist, who is regarded as one of the greatest gymnasts of all time, recently debuted a major transformation. Today, she is sporting a stunning red bra, a bold purple belt and a light purple skirt for her best years.\n",
      "\n",
      "I have had a great time with Simone. I have spent the past 20 years of my life supporting her and working with her over time. And I'm thankful to my friends at A-List International, who also support her. I've made wonderful friends at A-List International, and I would like to thank Simone for her amazing work. If you're feeling inspired\n"
     ]
    },
    {
     "data": {
      "text/plain": [
       "[\"A beauty makeover worthy of an award! Simone Biles closed out the 2020 Tokyo Olympics with a fabulous new hairdo. The four-time Olympic gold medalist, who is regarded as one of the greatest gymnasts of all time, recently debuted a major transformation. Today, she is sporting a stunning red bra, a bold purple belt and a light purple skirt for her best years.\\n\\nI have had a great time with Simone. I have spent the past 20 years of my life supporting her and working with her over time. And I'm thankful to my friends at A-List International, who also support her. I've made wonderful friends at A-List International, and I would like to thank Simone for her amazing work. If you're feeling inspired\"]"
      ]
     },
     "execution_count": 6,
     "metadata": {},
     "output_type": "execute_result"
    }
   ],
   "source": [
    "model.generate(\"A beauty makeover worthy of an award! Simone Biles closed out the 2020 Tokyo Olympics with a fabulous new hairdo. The four-time Olympic gold medalist, who is regarded as one of the greatest gymnasts of all time, recently debuted a major transformation.\", args)\n"
   ]
  },
  {
   "cell_type": "code",
   "execution_count": 8,
   "id": "fc78ffdb",
   "metadata": {},
   "outputs": [
    {
     "name": "stderr",
     "output_type": "stream",
     "text": [
      "Setting `pad_token_id` to `eos_token_id`:50256 for open-end generation.\n",
      "INFO:simpletransformers.language_generation.language_generation_model:=== GENERATED SEQUENCE 1 ===\n",
      "INFO:simpletransformers.language_generation.language_generation_model:NBC is giving advertisers who bought airtime during the Tokyo Olympics extra commercials due to underwhelming ratings for this year’s 2020 Olympic Games, fueled by a pandemic-weary population and backlash against woke athletes protesting the U.S. flag and national anthem.\n",
      "\n",
      "The move to boost its coverage of the games, which were hosted in Tokyo, has also put Tokyo Olympics' viewership into a virtual tie with its U.S. counterpart.\n",
      "\n",
      "ADVERTISEMENT\n",
      "\n",
      "\"It's a much bigger deal, because this year Olympics are in Seattle and Los Angeles, and many of the major cities like New York, Boston, Chicago and Boston are also watching,\" said David J. Vohra, the managing partner of Viacom, which in the past\n"
     ]
    },
    {
     "data": {
      "text/plain": [
       "['NBC is giving advertisers who bought airtime during the Tokyo Olympics extra commercials due to underwhelming ratings for this year’s 2020 Olympic Games, fueled by a pandemic-weary population and backlash against woke athletes protesting the U.S. flag and national anthem.\\n\\nThe move to boost its coverage of the games, which were hosted in Tokyo, has also put Tokyo Olympics\\' viewership into a virtual tie with its U.S. counterpart.\\n\\nADVERTISEMENT\\n\\n\"It\\'s a much bigger deal, because this year Olympics are in Seattle and Los Angeles, and many of the major cities like New York, Boston, Chicago and Boston are also watching,\" said David J. Vohra, the managing partner of Viacom, which in the past']"
      ]
     },
     "execution_count": 8,
     "metadata": {},
     "output_type": "execute_result"
    }
   ],
   "source": [
    "model.generate(\"NBC is giving advertisers who bought airtime during the Tokyo Olympics extra commercials due to underwhelming ratings for this year’s 2020 Olympic Games, fueled by a pandemic-weary population and backlash against woke athletes protesting the U.S. flag and national anthem.\", args)"
   ]
  },
  {
   "cell_type": "code",
   "execution_count": 9,
   "id": "9263d1a4",
   "metadata": {},
   "outputs": [
    {
     "name": "stderr",
     "output_type": "stream",
     "text": [
      "Setting `pad_token_id` to `eos_token_id`:50256 for open-end generation.\n",
      "INFO:simpletransformers.language_generation.language_generation_model:=== GENERATED SEQUENCE 1 ===\n",
      "INFO:simpletransformers.language_generation.language_generation_model:NBC is giving advertisers who bought airtime during the Tokyo Olympics extra commercials due to underwhelming ratings for this year’s 2020 Olympic Games, fueled by a pandemic-weary population and backlash against woke athletes protesting the U.S. flag and national anthem. NBC Sports Chairman Pete Bevacqua insisted to the Associated Press that the network would still make money on the 2020 Olympics – but left out details about how much. NBC’s primetime coverage of the Tokyo Olympics on July 26 averaged 14.7 million viewers -- for a 49% drop compared to the equivalent night from the 2016 Rio de Janeiro Games and 53% less than the 2012 London Olympics. The opening ceremonies saw their lowest viewership since 1988.\n",
      "\n",
      "NBC and CNN combined to produce 13.6 million live and online viewers in a single day, down only slightly from the year 2016. The average U.S. cable package (including local and online channels) fell to 1.1 million viewers in total, down from 2.2 million in the same period a year ago. (In 2016, NBC was up 4% to 1.6 million viewers on local and online, 1.6 million on cable and 1.3 million on\n"
     ]
    },
    {
     "data": {
      "text/plain": [
       "['NBC is giving advertisers who bought airtime during the Tokyo Olympics extra commercials due to underwhelming ratings for this year’s 2020 Olympic Games, fueled by a pandemic-weary population and backlash against woke athletes protesting the U.S. flag and national anthem. NBC Sports Chairman Pete Bevacqua insisted to the Associated Press that the network would still make money on the 2020 Olympics – but left out details about how much. NBC’s primetime coverage of the Tokyo Olympics on July 26 averaged 14.7 million viewers -- for a 49% drop compared to the equivalent night from the 2016 Rio de Janeiro Games and 53% less than the 2012 London Olympics. The opening ceremonies saw their lowest viewership since 1988.\\n\\nNBC and CNN combined to produce 13.6 million live and online viewers in a single day, down only slightly from the year 2016. The average U.S. cable package (including local and online channels) fell to 1.1 million viewers in total, down from 2.2 million in the same period a year ago. (In 2016, NBC was up 4% to 1.6 million viewers on local and online, 1.6 million on cable and 1.3 million on']"
      ]
     },
     "execution_count": 9,
     "metadata": {},
     "output_type": "execute_result"
    }
   ],
   "source": [
    "model.generate(\"NBC is giving advertisers who bought airtime during the Tokyo Olympics extra commercials due to underwhelming ratings for this year’s 2020 Olympic Games, fueled by a pandemic-weary population and backlash against woke athletes protesting the U.S. flag and national anthem. NBC Sports Chairman Pete Bevacqua insisted to the Associated Press that the network would still make money on the 2020 Olympics – but left out details about how much. NBC’s primetime coverage of the Tokyo Olympics on July 26 averaged 14.7 million viewers -- for a 49% drop compared to the equivalent night from the 2016 Rio de Janeiro Games and 53% less than the 2012 London Olympics. The opening ceremonies saw their lowest viewership since 1988.\", args)"
   ]
  },
  {
   "cell_type": "code",
   "execution_count": null,
   "id": "60ce5c54",
   "metadata": {},
   "outputs": [],
   "source": []
  }
 ],
 "metadata": {
  "kernelspec": {
   "display_name": "Python [conda env:.conda-nlp] *",
   "language": "python",
   "name": "conda-env-.conda-nlp-py"
  },
  "language_info": {
   "codemirror_mode": {
    "name": "ipython",
    "version": 3
   },
   "file_extension": ".py",
   "mimetype": "text/x-python",
   "name": "python",
   "nbconvert_exporter": "python",
   "pygments_lexer": "ipython3",
   "version": "3.8.0"
  }
 },
 "nbformat": 4,
 "nbformat_minor": 5
}

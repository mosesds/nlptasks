{
 "cells": [
  {
   "cell_type": "markdown",
   "id": "b81d9970",
   "metadata": {},
   "source": [
    "# Comparison of Vectorizer Models using Classification task\n",
    "---\n",
    "This is a simple comparins using a simple spam/ham <a href=\"https://archive.ics.uci.edu/ml/datasets/SMS+Spam+Collection\">dataset</a>. The entire process was left as is with minimal clean-up as a learning exercise."
   ]
  },
  {
   "cell_type": "code",
   "execution_count": 2,
   "id": "18b74c99",
   "metadata": {},
   "outputs": [],
   "source": [
    "import pandas as pd\n",
    "import sklearn as skl"
   ]
  },
  {
   "cell_type": "code",
   "execution_count": 3,
   "id": "dfdecb37",
   "metadata": {},
   "outputs": [],
   "source": [
    "data = pd.read_csv(\"train.txt\", delimiter = \"\\t\", header=None, names=[\"label\", \"text\"])"
   ]
  },
  {
   "cell_type": "markdown",
   "id": "b5ec144b",
   "metadata": {},
   "source": [
    "My first thought here is to take a look at the data and see exactly what we're working with. I've got the check if the data needs any preprocessing. This includes checking the distribution of spam to ham as this will affect how the model is trained."
   ]
  },
  {
   "cell_type": "code",
   "execution_count": 4,
   "id": "815a5141",
   "metadata": {},
   "outputs": [
    {
     "data": {
      "text/html": [
       "<div>\n",
       "<style scoped>\n",
       "    .dataframe tbody tr th:only-of-type {\n",
       "        vertical-align: middle;\n",
       "    }\n",
       "\n",
       "    .dataframe tbody tr th {\n",
       "        vertical-align: top;\n",
       "    }\n",
       "\n",
       "    .dataframe thead th {\n",
       "        text-align: right;\n",
       "    }\n",
       "</style>\n",
       "<table border=\"1\" class=\"dataframe\">\n",
       "  <thead>\n",
       "    <tr style=\"text-align: right;\">\n",
       "      <th></th>\n",
       "      <th>label</th>\n",
       "      <th>text</th>\n",
       "    </tr>\n",
       "  </thead>\n",
       "  <tbody>\n",
       "    <tr>\n",
       "      <th>0</th>\n",
       "      <td>ham</td>\n",
       "      <td>Go until jurong point, crazy.. Available only ...</td>\n",
       "    </tr>\n",
       "    <tr>\n",
       "      <th>1</th>\n",
       "      <td>ham</td>\n",
       "      <td>Ok lar... Joking wif u oni...</td>\n",
       "    </tr>\n",
       "    <tr>\n",
       "      <th>2</th>\n",
       "      <td>spam</td>\n",
       "      <td>Free entry in 2 a wkly comp to win FA Cup fina...</td>\n",
       "    </tr>\n",
       "    <tr>\n",
       "      <th>3</th>\n",
       "      <td>ham</td>\n",
       "      <td>U dun say so early hor... U c already then say...</td>\n",
       "    </tr>\n",
       "    <tr>\n",
       "      <th>4</th>\n",
       "      <td>ham</td>\n",
       "      <td>Nah I don't think he goes to usf, he lives aro...</td>\n",
       "    </tr>\n",
       "  </tbody>\n",
       "</table>\n",
       "</div>"
      ],
      "text/plain": [
       "  label                                               text\n",
       "0   ham  Go until jurong point, crazy.. Available only ...\n",
       "1   ham                      Ok lar... Joking wif u oni...\n",
       "2  spam  Free entry in 2 a wkly comp to win FA Cup fina...\n",
       "3   ham  U dun say so early hor... U c already then say...\n",
       "4   ham  Nah I don't think he goes to usf, he lives aro..."
      ]
     },
     "execution_count": 4,
     "metadata": {},
     "output_type": "execute_result"
    }
   ],
   "source": [
    "data.head()"
   ]
  },
  {
   "cell_type": "code",
   "execution_count": 5,
   "id": "05984891",
   "metadata": {},
   "outputs": [
    {
     "data": {
      "text/plain": [
       "ham     0.865937\n",
       "spam    0.134063\n",
       "Name: label, dtype: float64"
      ]
     },
     "execution_count": 5,
     "metadata": {},
     "output_type": "execute_result"
    }
   ],
   "source": [
    "# better than .86\n",
    "data.label.value_counts() / data.shape[0]"
   ]
  },
  {
   "cell_type": "markdown",
   "id": "788388df",
   "metadata": {},
   "source": [
    "Here I take a look at each sentences number of tokens and the dataframe's shape. I want to have an idea of what the BOW vectorizer will look like. I also look at a counter of each word in the corpus, this can also give me an idea of how TFIDF will weigh the tokens."
   ]
  },
  {
   "cell_type": "code",
   "execution_count": 6,
   "id": "769798cf",
   "metadata": {},
   "outputs": [
    {
     "data": {
      "text/plain": [
       "0       20\n",
       "1        6\n",
       "2       28\n",
       "3       11\n",
       "4       13\n",
       "        ..\n",
       "5567    30\n",
       "5568     8\n",
       "5569    10\n",
       "5570    26\n",
       "5571     6\n",
       "Name: text, Length: 5572, dtype: int64"
      ]
     },
     "execution_count": 6,
     "metadata": {},
     "output_type": "execute_result"
    }
   ],
   "source": [
    "# bag of words\n",
    "data.text.str.lower().str.split(\" \").apply(lambda x: len(x))"
   ]
  },
  {
   "cell_type": "code",
   "execution_count": 7,
   "id": "b350209e",
   "metadata": {},
   "outputs": [
    {
     "name": "stdout",
     "output_type": "stream",
     "text": [
      "Counter({'to': 2237, 'i': 2217, 'you': 1921, 'a': 1433, 'the': 1329, 'u': 998, 'and': 968, 'is': 869, 'in': 859, 'my': 755, 'for': 704, 'your': 677, 'of': 614, 'me': 611, 'have': 571, 'call': 559, 'on': 521, 'are': 487, 'that': 470, 'it': 466, '2': 457, 'so': 423, 'but': 422, 'or': 415, 'not': 411, 'at': 400, 'can': 386, 'ur': 385, 'if': 382, 'with': 379, 'will': 379, \"i'm\": 377, 'be': 376, 'get': 375, 'just': 365, 'do': 364, 'we': 346, 'this': 312, 'when': 283, 'from': 277, '&lt;#&gt;': 276, 'go': 265, 'up': 264, 'all': 261, 'no': 258, '4': 255, 'how': 254, 'what': 252, 'now': 247, '.': 241, 'like': 236, 'got': 235, 'know': 230, 'was': 230, 'free': 228, 'out': 220, 'come': 220, 'am': 217, 'its': 209, 'then': 205, 'good': 201, 'send': 187, '?': 187, 'only': 184, 'want': 183, 'he': 180, 'as': 177, 'text': 175, 'time': 169, \"i'll\": 168, 'by': 168, 'love': 163, '...': 163, 'going': 161, 'ok': 160, 'ü': 157, 'need': 157, 'about': 156, 'r': 153, 'still': 151, 'one': 150, 'txt': 149, 'n': 146, 'see': 145, 'our': 142, 'dont': 140, \"don't\": 137, 'new': 136, 'there': 135, 'tell': 135, 'she': 130, 'been': 129, 'any': 129, 'think': 127, 'reply': 126, 'they': 125, 'mobile': 124, 'take': 124, 'back': 121, 'stop': 119, 'some': 118, 'please': 118, 'has': 116, 'did': 116, 'home': 112, 'an': 112, '&': 111, 'day': 111, 'who': 108, 'hi': 108, 'claim': 106, 'her': 104, 'hope': 103, 'had': 101, 'make': 101, 'give': 100, 'pls': 99, 'more': 99, 'where': 99, 'me.': 98, 'd': 98, 'phone': 97, \"it's\": 96, 'should': 95, 'later': 94, 'now.': 94, 'happy': 93, 'much': 93, 'him': 93, 'hey': 88, '-': 88, 'great': 87, 'sorry': 87, 'after': 87, 'ask': 85, '&amp;': 84, 'dear': 84, 'you.': 83, 'da': 82, 'im': 82, 'say': 81, 'well': 81, 'e': 80, 'really': 80, 'here': 78, 'last': 78, 'way': 77, 'very': 77, 'meet': 76, 'why': 76, 'now!': 76, 'night': 76, 'miss': 75, 'would': 75, 'cos': 75, 'c': 74, 'oh': 73, 'too': 73, 'today': 73, 'every': 72, 'find': 71, 'week': 70, 'let': 70, 'pick': 70, 'them': 70, 'number': 70, 'win': 69, 'work': 69, 'contact': 68, 'lor.': 67, 'doing': 67, 'nokia': 67, 'said': 67, 'right': 66, 'keep': 66, \"i've\": 65, 'cash': 65, 'sent': 65, 'won': 64, '1': 64, 'cant': 64, 'even': 63, 'b': 63, 'yeah': 63, 'wat': 63, 'thanks': 62, 'also': 62, 'message': 61, 'were': 61, 'went': 61, 'next': 60, 'his': 60, 'anything': 60, 'could': 60, 'which': 60, 'lol': 59, 'feel': 59, 'buy': 59, 'gud': 59, 'many': 59, 'prize': 58, 'gonna': 58, 'tomorrow': 58, ':)': 58, 'it.': 58, 'sure': 57, 'msg': 57, \"can't\": 57, 'someone': 57, 'per': 56, \"that's\": 56, 'lor...': 56, '!': 56, 'before': 56, 'dun': 55, 'always': 55, 'us': 55, 'sorry,': 54, 'around': 53, 'yes': 53, 'wait': 53, 'told': 53, 'wan': 53, 'over': 52, 'service': 52, 'something': 52, '3': 51, 'waiting': 51, \"you're\": 51, 'first': 50, 'leave': 50, 'customer': 49, 'chat': 49, 'care': 49, 'other': 49, 'already': 48, 'down': 48, 'getting': 48, 'life': 48, 'thk': 48, 'ok.': 48, 'day.': 48, 'try': 46, 'off': 46, 'thing': 46, 'may': 45, 'x': 45, 'place': 45, 'being': 44, 'morning': 44, 'never': 44, 'u.': 44, 'urgent!': 43, 'trying': 43, 'things': 43, 'coming': 43, 'nice': 43, 'few': 43, 'wish': 43, 'you!': 43, \"didn't\": 42, 'thought': 42, 'draw': 42, 'money': 42, 'people': 42, 'having': 42, 'talk': 41, 'use': 41, 'k': 41, 'late': 41, 'ill': 41, 'bit': 40, 'babe': 40, 'same': 40, 'holiday': 40, 'tone': 40, 'finish': 39, 'no.': 39, 'thats': 39, 'ya': 39, 'friends': 38, 'live': 38, 'half': 38, 'awarded': 38, 'y': 38, 'box': 38, 'than': 38, 'sleep': 38, 'receive': 37, 'latest': 37, 'v': 37, 'best': 37, 'wanna': 37, 'name': 37, 'friend': 37, '*': 37, 'long': 36, 'account': 36, 'because': 36, 'da.': 36, '1st': 36, 'you,': 35, 'another': 35, 'po': 35, 'better': 35, 'shows': 35, 'jus': 35, 'dat': 35, 'meeting': 35, 'mins': 35, 'watching': 34, 'smile': 34, 'guess': 34, 'into': 34, 'might': 34, 'quite': 34, 'soon': 33, 'stuff': 33, 'wont': 33, 'help': 33, 'eat': 33, 'car': 33, 'sms': 33, 'special': 33, 'check': 33, 'there.': 33, 'real': 33, '£1000': 33, 'guys': 33, 'ready': 33, 'speak': 32, 'lunch': 32, 'end': 32, 'year': 32, 'again': 32, 'big': 32, 'called': 32, 'chance': 32, 'enjoy': 32, 'heart': 32, ',': 31, 'man': 31, 'play': 31, 'home.': 31, 'once': 31, 'yup': 31, 'between': 31, 'ok...': 31, 'person': 31, 'made': 31, '5': 31, 'actually': 31, 'probably': 31, 'does': 30, 'look': 30, '2nd': 30, 'maybe': 30, '150ppm': 30, 'reach': 30, 'watch': 30, 'video': 30, 'ever': 30, 'remember': 29, 'pay': 29, 'you?': 29, 'done': 29, \"how's\": 29, '+': 29, \"he's\": 29, 'dis': 29, 'hear': 29, 'looking': 29, 'guaranteed': 29, 'little': 29, 'luv': 29, 'didnt': 29, 'shit': 29, 'two': 29, 'put': 29, 'den': 29, 'start': 29, 'shall': 29, 'xxx': 28, 'camera': 28, 'cost': 28, \"there's\": 28, 'most': 28, 'tonight': 28, 'now?': 28, 'without': 28, 'i.ll': 28, 'time.': 28, 'dunno': 28, 'minutes': 28, 'mind': 28, 'days': 28, 'until': 27, 'wif': 27, 'selected': 27, 'today.': 27, 'thank': 27, 'wanted': 27, 'part': 27, 'class': 27, '16': 27, 'forgot': 27, 'nothing': 27, 'says': 27, 'lot': 27, 'those': 27, 'collect': 27, 'hour': 27, 'entry': 26, 'goes': 26, 'left': 26, 'sweet': 26, 'since': 26, 'came': 26, 'must': 26, 'bt': 26, 'job': 26, 'able': 26, 'hav': 26, 'shopping': 26, 'bring': 26, 'god': 26, 'bad': 26, 'dad': 26, 'early': 25, 'network': 25, 'room': 25, 'means': 25, 'abt': 25, 'u?': 25, 'juz': 25, 'join': 25, 'asked': 25, 'yo': 25, 'fuck': 25, 'plus': 25, 'world': 24, 'dinner': 24, 'till': 24, 'ringtone': 24, 'it,': 24, 'wen': 24, 'later.': 24, 'birthday': 24, '4*': 24, 'do.': 24, 'tv': 24, 'haha': 24, 'face': 24, 'everything': 24, 'wake': 24, 'line': 24, 'orange': 24, 'tones': 24, 'fun': 23, 'valid': 23, 'bus': 23, 'that.': 23, 'saw': 23, 'making': 23, 'out.': 23, 'xmas': 23, '&lt;decimal&gt;': 23, 'important': 23, '500': 23, 'plan': 23, 'wot': 23, 'min': 23, 'attempt': 23, 'lor': 23, 'makes': 23, 'word': 22, 'update': 22, 'enough': 22, '16+': 22, \"we're\": 22, \"won't\": 22, 'tried': 22, 'double': 22, 'me?': 22, \"haven't\": 22, 'havent': 22, 'show': 22, 'top': 22, 'haf': 22, 'til': 22, 'working': 22, \"what's\": 22, 'sexy': 22, '18': 22, 'missed': 22, 'girl': 22, 'plz': 22, 'weekly': 22, ':-)': 22, 'guy': 22, 'town': 22, '£100': 22, 'colour': 21, 'price': 21, 'school': 21, 'todays': 21, 'house': 21, 'liao...': 21, 'run': 21, 'wid': 21, 'texts': 21, 'sat': 21, 'stay': 21, 'tot': 21, 'details': 21, 'wants': 21, 'boy': 21, 'yet': 21, 'gift': 21, '8007': 21, 'set': 20, 'free!': 20, 'ard': 20, 'delivery': 20, 'pain': 20, 'bonus': 20, 'driving': 20, '£2000': 20, 'tonight?': 20, 'missing': 20, 'years': 20, 'hello': 20, 'oh.': 20, 'full': 20, \"we'll\": 20, 'change': 20, '150p': 20, 'g': 20, 'either': 20, 'these': 20, 'while': 20, 'saying': 20, 'away': 20, 'await': 20, '6': 20, 'pounds': 19, 'work.': 19, 'calls': 19, 'hair': 19, '£5000': 19, 'guaranteed.': 19, 'offer': 19, 'times': 19, 'wil': 19, 'coz': 19, 'hot': 19, '86688': 19, 'hurt': 19, 'babe,': 19, 'yeah,': 19, 'landline.': 19, 't&cs': 19, 'good.': 19, 'lar...': 18, 'final': 18, 'forget': 18, 're': 18, 'took': 18, 'month': 18, 'finished': 18, 'stop.': 18, 'started': 18, 'cause': 18, 'mean': 18, 'taking': 18, 'both': 18, 'happen': 18, 'vouchers': 18, 'music': 18, '750': 18, 'book': 18, 'land': 18, '£500': 18, 'princess!': 18, 'thinking': 18, 'lose': 18, 'shop': 18, 'neva': 18, 'feeling': 18, 'drive': 18, \"she's\": 18, 'beautiful': 18, 'apply': 17, '£1.50': 17, 'hours': 17, 'no:': 17, 'aft': 17, 'now,': 17, 'mob': 17, 'urgent': 17, 'test': 17, 'old': 17, '12hrs': 17, 'expires': 17, 'answer': 17, 'each': 17, 'believe': 17, 'smoke': 17, 'worth': 17, 'gr8': 17, 'tmr': 17, 'found': 17, 'aight': 17, 'anyway': 17, 'walk': 17, 'up.': 17, 'ring': 17, 'baby': 17, 'mail': 17, 'right?': 17, 'post': 17, 'evening': 17, 'busy': 17, 'week.': 17, 'head': 17, 'line.': 17, '7': 17, 'bored': 17, 'sch': 17, 'family': 17, 'knw': 17, 'prize.': 17, 'it?': 17, 'dude': 17, 'sad': 17, 'goin': 17, 'though': 16, 'code': 16, '100': 16, 'pobox': 16, 'date': 16, 'decided': 16, 'yourself': 16, 'me...': 16, 'trip': 16, 'comes': 16, 'too.': 16, 'search': 16, 'private!': 16, 'statement': 16, 'points.': 16, 'identifier': 16, 'me,': 16, 'lots': 16, 'leaving': 16, 'today?': 16, 'needs': 16, 'sis': 16, 'story': 16, 'id': 16, 'oso': 16, 'sounds': 16, 'thanx': 16, 'angry': 16, 'takes': 16, 'unsubscribe': 16, 'choose': 16, 'food': 16, 'lets': 16, 'message.': 16, 'calling': 16, 'problem': 16, 'mobileupd8': 16, 'bed': 16, 'office': 16, 't': 16, 'together': 16, 's': 16, 'o': 16, 'hows': 16, 'only.': 15, 'words': 15, 'fine': 15, 'alright': 15, \"doesn't\": 15, 'lucky': 15, 'pa.': 15, 'close': 15, 'aight,': 15, 'u!': 15, 'sir,': 15, 'open': 15, '..': 15, 'order': 15, 'wit': 15, 'noe': 15, 'morning.': 15, 'hold': 15, '08000839402': 15, 'bout': 15, 'back.': 15, 'tomorrow.': 15, 'drink': 15, 'dating': 15, 'fucking': 15, 'sae': 15, 'u...': 15, 'visit': 15, 'kind': 15, '18+': 15, 'pics': 15, 'drop': 15, 'fine.': 15, 'collection.': 15, ':-(': 15, 'haha...': 15, 'available': 14, 'wkly': 14, 'brother': 14, 'wonderful': 14, 'already?': 14, '08000930705': 14, 'telling': 14, 'class.': 14, 'whole': 14, 'second': 14, 'girls': 14, 'free.': 14, 'ah?': 14, 'wk': 14, 'address': 14, 'operator': 14, 'code:': 14, \"you'll\": 14, 'services': 14, 'yr': 14, 'k,': 14, 'their': 14, 'fancy': 14, \"you've\": 14, 'carlos': 14, 'log': 14, 'weekend': 14, 'easy': 14, 'secret': 14, 'thinks': 14, 'true': 14, 'anytime': 14, 'card': 14, 'sister': 14, 'great.': 14, 'touch': 14, 'light': 14, 'cool': 14, 'messages': 14, 'poly': 14, '£250': 14, 'question': 14, 'ten': 14, '10': 14, 'outside': 14, 'pretty': 14, 'voucher': 14, 'b4': 14, 'anyone': 14, 'break': 14, 'lovely': 14, 'movie': 14, 'de': 14, 'online': 14, 'lei...': 14, 't&c': 13, 'lesson': 13, 'almost': 13, 'used': 13, '0800': 13, 'prize!': 13, 'else': 13, 'gone': 13, 'hit': 13, 'felt': 13, 'caller': 13, 'landline': 13, 'player': 13, 'ni8': 13, 'everyone': 13, 'already.': 13, 'night.': 13, 'her.': 13, 'awesome,': 13, 'year.': 13, 'darlin': 13, 'finally': 13, 'nite': 13, 'meant': 13, 'fr': 13, 'congratulations': 13, '87066': 13, 'u,': 13, 'dnt': 13, 'unlimited': 13, 'type': 13, 'bslvyl': 13, 'yes.': 13, 'friendship': 13, 'cool,': 13, 'read': 13, 'seeing': 13, 'currently': 13, 'talking': 13, 'worry': 13, 'couple': 13, 'care.': 13, 'eve': 13, 'apply.': 13, 'within': 13, '2003': 13, '800': 13, 'kiss': 13, 'it!': 13, 'mum': 13, 'opt': 13, '10p': 13, 'week!': 13, 'rate': 13, 'wife': 13, 'ok?': 13, 'party': 13, '!!': 13, 'mine': 13, 'dear.': 13, 'alone': 13, 'w': 13, 'gas': 13, '||': 13, 'wat...': 12, \"i'd\": 12, 'treat': 12, 'national': 12, 'smth': 12, 'complimentary': 12, 'cool.': 12, 'here.': 12, 'gotta': 12, 'afternoon': 12, 'sorry.': 12, 'mom': 12, 'direct': 12, 'frnd': 12, 'download': 12, 'bank': 12, 'well,': 12, 'minute': 12, 'leh...': 12, 'know.': 12, 'hard': 12, 'company': 12, 'case': 12, 'then.': 12, 'day,': 12, 'blue': 12, 'swing': 12, 'award': 12, 'th': 12, 'supposed': 12, 'month.': 12, 'easy,': 12, '2.': 12, '4.': 12, 'offers': 12, 'un-redeemed': 12, 'sea': 12, 'yar': 12, 'news': 12, 'pub': 12, 'weeks': 12, 'game': 12, 'mayb': 12, 'gd': 12, 'soon.': 12, 'nt': 12, 'picking': 12, 'kiss*': 12, 'least': 12, 'pic': 12, 'sex': 12, 'enter': 12, 'in.': 12, 'smiling': 12, 'it...': 12, 'valued': 11, 'eh': 11, 'eg': 11, 'ha': 11, 'charged': 11, 'crave': 11, 'gets': 11, '@': 11, 'pass': 11, 'yours.': 11, 'checking': 11, 'cut': 11, 'xx': 11, 'loads': 11, 'hi.': 11, 'prob': 11, 'yet.': 11, \"isn't\": 11, 'entered': 11, 'askd': 11, 'invited': 11, 'winner': 11, 'numbers': 11, 'award.': 11, 'dogging': 11, 'txting': 11, 'age': 11, 'whats': 11, 'wine': 11, 'one.': 11, 'love.': 11, 'way.': 11, 'ya,': 11, 'muz': 11, 'sleeping': 11, 'march': 11, 'txt:': 11, 'tel': 11, 'okay.': 11, 'wana': 11, 'club': 11, 'fone': 11, 'somebody': 11, '1.': 11, 'problem.': 11, 'reading': 11, 'via': 11, 'jay': 11, 'here,': 11, 'st': 11, 'discount': 11, 'seen': 11, 'phones': 11, 'call.': 11, 'asking': 11, 'sending': 11, '3.': 11, '8': 11, '£2,000': 11, 'listen': 11, 'through': 11, 'darren': 11, '£350': 11, 'sun': 11, 'whatever': 11, '…': 11, 'extra': 11, 'yesterday': 11, 'collection': 11, 'whenever': 11, 'sort': 11, 'knew': 11, 'already...': 11, 'feels': 11, 'it..': 11, 'heard': 11, 'crazy': 11, 'frm': 11, 'don': 11, 'yes,': 11, 'support': 11, 'surprise': 11, '*grins*': 11, 'wrong': 11, 'ok,': 11, 'life.': 11, 'loved': 11, '9': 11, 'auction': 11, \"wasn't\": 11, 'number.': 11, 'this.': 11, 'okie': 11, 'comp': 10, 'callertune': 10, 'press': 10, 'mobiles': 10, 'knows': 10, '=': 10, 'out!': 10, 'lar': 10, 'rply': 10, 'now...': 10, 'night?': 10, 'representative': 10, 'gave': 10, 'computer': 10, 'pa': 10, \"''\": 10, 'uncle': 10, 'match': 10, 'rates': 10, 'mu': 10, 'del': 10, 'msgs': 10, 'tired': 10, 'doing?': 10, 'spend': 10, 'tomo': 10, 'later?': 10, 'boytoy': 10, 'orchard': 10, 'kate': 10, 'college': 10, 'well.': 10, 'yours': 10, 'no,': 10, 'sleep.': 10, 'leaves': 10, 'hmv': 10, 'thanx...': 10, 'far': 10, 'figure': 10, 'woke': 10, 'me..': 10, 'reason': 10, 'mm': 10, 'pm': 10, 'point': 10, 'booked': 10, 'help.': 10, 'cum': 10, 'wat.': 10, 'near': 10, 'mobile!': 10, 'hoping': 10, 'across': 10, ':': 10, 's.': 10, 'fine,': 10, 'ts&cs': 10, 'fantastic': 10, 'fri': 10, 'email': 10, 'wishing': 10, 'wonder': 10, 'lost': 10, 'ugh': 10, 'sir.': 10, 'charge': 10, 'camcorder': 10, 'poor': 10, 'min.': 10, 'otherwise': 10, 'ntt': 10, 'project': 10, 'truth': 10, 'happened': 10, 'loving': 10, 'thanks.': 10, 'she.s': 10, 'dreams': 10, 'write': 10, 'parents': 10, 'empty': 10, 'cup': 9, 'copy': 9, 'word:': 9, 'myself': 9, 'hungry': 9, 'catch': 9, 'uk': 9, 'abiola': 9, 'great!': 9, 'reached': 9, 'song': 9, 'frnds': 9, 'save': 9, 'hee...': 9, 'tickets': 9, 'okay': 9, 'up?': 9, 'said,': 9, 'specially': 9, 'friday': 9, 'that,': 9, 'quiz': 9, 'lovable': 9, 'dream': 9, 'hello,': 9, 'safe': 9, 'completely': 9, 'mr': 9, 'bath': 9, 'staying': 9, 'doesnt': 9, 'money.': 9, 'trust': 9, 'using': 9, 'ive': 9, 'exam': 9, 'lar.': 9, 'bcoz': 9, 'street': 9, 'cd': 9, 'disturb': 9, 'yet?': 9, 'stupid': 9, 'unless': 9, 'somewhere': 9, 'accept': 9, '£200': 9, 'normal': 9, ':(': 9, 'merry': 9, 'but,': 9, 'small': 9, 'txts': 9, 'there,': 9, 'brings': 9, 'sir': 9, 'huh': 9, 'days.': 9, 'ass': 9, 'starts': 9, 'there?': 9, 'remove': 9, 'terms': 9, 'less': 9, '£150': 9, 'cs': 9, 'can...': 9, 'em': 9, 'i.': 9, 'm.': 9, 'train': 9, 'area': 9, '–': 9, 'day!': 9, 'seems': 9, 'sell': 9, 'rite...': 9, 'summer': 9, 'store': 9, 'today!': 9, 'www.getzed.co.uk': 9, 'gettin': 9, 'tampa': 9, 'want.': 9, 'm': 9, 'against': 9, '£800': 9, 'comin': 9, 'convey': 9, 'information': 9, 'drugs': 9, 'nobody': 9, 'tht': 9, 'congrats': 9, 'doin': 9, 'thinkin': 9, 'flag': 9, '12': 8, 'entitled': 8, 'info': 8, 'link': 8, 'quick': 8, 'confirm': 8, \"you'd\": 8, 'weekend.': 8, 'sms.': 8, 'congrats!': 8, 'nice.': 8, 'k.': 8, 'spent': 8, 'loves': 8, 'planning': 8, 'coffee': 8, 'ave': 8, 'men': 8, 'wishes': 8, 'know!': 8, 'boss': 8, 'lunch.': 8, 'ending': 8, 'friend.': 8, 'stop?': 8, 'goto': 8, 'especially': 8, \"where's\": 8, 'freephone': 8, 'bathe': 8, 'however': 8, 'mrng': 8, 'yo,': 8, 'bill': 8, 'course': 8, 'to.': 8, 'side': 8, 'kick': 8, 'admirer': 8, 'u-find': 8, 'r*reveal': 8, 'special-call': 8, 'laptop': 8, 'late.': 8, 'lemme': 8, 'own': 8, 'content': 8, 'charge.': 8, 'usf': 8, 'ends': 8, 'rose': 8, 'u..': 8, 'haha,': 8, 'christmas': 8, 'pete': 8, 'plans': 8, 'valentines': 8, 'wiv': 8, 'met': 8, 'hg/suite342/2lands': 8, 'you...': 8, 'reference': 8, 'bluetooth': 8, 'rental': 8, 'mrt': 8, 'giving': 8, 'din': 8, 'kinda': 8, 'is,': 8, 'baby!': 8, 'credit': 8, 'park': 8, 'simple': 8, 'him.': 8, 'slow': 8, 'afternoon,': 8, 'self': 8, 'cheap': 8, 'nope': 8, '150': 8, 'kids': 8, 'day?': 8, 'tho': 8, 'pound': 8, 'noon': 8, 'friends.': 8, 'wish.': 8, 'starting': 8, 'again!': 8, 'study': 8, 'xy': 8, 'ans': 8, 'again.': 8, 'home...': 8, 'add': 8, 'tc': 8, 'glad': 8, 'snow': 8, 'omg': 8, 'house.': 8, 'no1': 8, 'understand': 8, 'possible': 8, 'games': 8, 'registered': 8, 'medical': 8, 'decide': 8, 'love,': 8, 'il': 8, 'de.': 8, 'miracle': 8, 'good,': 8, 'during': 8, 'happiness': 8, 'digital': 8, 'place.': 8, 'phone.': 8, 'awaiting': 8, 'film': 8, 'chennai': 8, 'tmr?': 8, 'picked': 8, 'mode': 8, 'others': 8, 'oh...': 8, 'wow': 8, 'ltd,': 8, 'oredi...': 8, 'mind.': 8, 'tomorrow,': 8, 'oops': 8, 'wondering': 8, 'difficult': 8, 'south': 8, 'john': 8, 'simple..': 8, 'hi,': 8, \"joy's\": 8, 'babe.': 8, 'sitting': 8, 'wat?': 8, 'them.': 8, 'nah': 7, 'request': 7, '£900': 7, '11': 7, 'months': 7, 'promise': 7, 'click': 7, 'wap': 7, 'england': 7, '87077': 7, 'mark': 7, 'sick': 7, 'that!': 7, 'replying': 7, 'learn': 7, 'saturday': 7, 'kept': 7, 'liked': 7, 'ice': 7, 'correct': 7, 'etc': 7, 'wun': 7, 'following': 7, 'stand': 7, 'trouble': 7, 'rain': 7, 'hurts': 7, 'password': 7, 'cuz': 7, 'weekends': 7, 'special.': 7, 'paying': 7, 'anything.': 7, 'room.': 7, 'sunshine': 7, 'sony': 7, 'dvd': 7, \"uk's\": 7, 'lazy': 7, 'back?': 7, 'pray': 7, 'sometimes': 7, 'become': 7, '62468': 7, 'not,': 7, 'hop': 7, '$': 7, 'need.': 7, 'towards': 7, 'net': 7, 'slept': 7, 'past': 7, 'leh.': 7, 'battery': 7, 'showing': 7, 'deep': 7, 'lover': 7, 'same.': 7, 'definitely': 7, 'night,': 7, 'life,': 7, 'sim': 7, 'die': 7, ':v': 7, 'imagine': 7, 'games,': 7, 'buying': 7, 'rest': 7, 'kb': 7, 'immediately': 7, 'fixed': 7, 'access': 7, '150p/msg': 7, 'hand': 7, 'yesterday.': 7, 'urself': 7, 'weed': 7, 'ex': 7, 'cash-balance': 7, 'maximize': 7, 'cash-in': 7, '150p/msg.': 7, 'sure,': 7, 'ah...': 7, 'motorola': 7, 'so.': 7, 'going?': 7, 'rock': 7, 'none': 7, 'week?': 7, 'too...': 7, '3030.': 7, 'loan': 7, 'thru': 7, 'style': 7, 'tenerife': 7, '6.': 7, 'rent': 7, 'opinion': 7, 'silent': 7, '7.': 7, 'phone,': 7, 'ipod': 7, 'mp3': 7, \"today's\": 7, '85023': 7, 'savamob,': 7, 'member': 7, '£3.00': 7, 'rather': 7, 'hurry': 7, 'up,': 7, 'workin': 7, 'gym': 7, 'custcare': 7, 'imma': 7, 'valentine': 7, 'alex': 7, 'pc': 7, 'sound': 7, 'much.': 7, 'under': 7, 'king': 7, 'looks': 7, 'sit': 7, 'library': 7, 'wk.': 7, \"they're\": 7, 'lol!': 7, 'tonight.': 7, 'space': 7, 'ago': 7, '&lt;time&gt;': 7, '36504': 7, 'ones': 7, 'charity': 7, 'mate': 7, 'mid': 7, 'short': 7, '08712460324': 7, ':/': 7, 'photo': 7, 'earlier': 7, '3g': 7, 'ü...': 7, 'mates': 7, 'questions': 7, 'bak': 7, 'move': 7, 'onto': 7, 'cancel': 7, 'complete': 7, 'bb': 7, 'shd': 7, 'lor,': 7, 'longer': 7, 'vl': 7, 'reaching': 7, '20p': 7, '1327': 7, 'croydon': 7, 'cr9': 7, '5wb': 7, 'welcome': 7, 'msg:': 7, 'players': 7, 'fast': 7, 'fact': 7, 'hey,': 7, 'morning,': 7, 'moment': 7, 'arrive': 7, 'inside': 7, 'holding': 7, 'eyes': 7, 'excuse': 7, 'costa': 7, 'sol': 7, 'huh?': 7, \"who's\": 7, \"wat's\": 7, 'not.': 7, 'pls.': 7, \"god's\": 7, 'murdered': 7, '\"': 7, 'doing.': 7, 'happens': 7, 'cine': 6, 'freemsg': 6, 'hl': 6, 'there!': 6, 'yup...': 6, 'again...': 6, 'texting': 6, 'ahead': 6, 'sure.': 6, 'usually': 6, 'fyi': 6, 'pleased': 6, 'something?': 6, 'job.': 6, 'done.': 6, 'bed.': 6, 'don‘t': 6, 'afternoon.': 6, 'simply': 6, 'shower': 6, 'umma': 6, 'birthday.': 6, 'people.': 6, 'worry.': 6, 'eatin': 6, '08712300220': 6, 'standard': 6, 'in?': 6, 'inviting': 6, 'turns': 6, 'spoke': 6, 'experience.': 6, 'joined': 6, 'deal': 6, 'personal': 6, 'persons': 6, 'balance': 6, 'rs': 6, 'goodmorning': 6, 'here?': 6, 'say,': 6, \"u've\": 6, 'kallis': 6, 'tncs': 6, 'stuff.': 6, 'mins?': 6, 'horny': 6, 'dint': 6, 'sunny': 6, 'worries': 6, 'okie...': 6, 'usual': 6, 'power': 6, 'only!': 6, 'sign': 6, 'track': 6, 'return': 6, 'round': 6, 'msg.': 6, 'posted': 6, 'forward': 6, 'motorola,': 6, 'willing': 6, 'order,': 6, 'mistake': 6, 'putting': 6, 'al': 6, 'man,': 6, 'fullonsms.com': 6, 'dear..': 6, 'lift': 6, 'wnt': 6, 'vry': 6, 'ldn': 6, 'askin': 6, 'tough': 6, 'group': 6, 'best.': 6, 'isnt': 6, 'different': 6, \"t&c's\": 6, 'notice': 6, 'award!': 6, 'princess?': 6, 'weekend?': 6, 'depends': 6, 'true.': 6, 'house?': 6, '5.': 6, '9.': 6, '40gb': 6, 'way,': 6, 'children': 6, 'while.': 6, 'hotel': 6, 'omw': 6, 'warm': 6, 'barely': 6, 'daddy': 6, 'spree': 6, '!!!': 6, '25p': 6, 'vodafone': 6, 'matches': 6, \"'\": 6, 'how?': 6, '20': 6, \"u're\": 6, 'bedroom': 6, 'lect': 6, 'anyway.': 6, 'torch': 6, 'hey.': 6, 'gap': 6, 'wer': 6, 'aftr': 6, 'running': 6, 'monday': 6, 'wats': 6, 'plan?': 6, 'savamob': 6, 'w45wq': 6, 'norm150p/tone': 6, 'future': 6, 'bid': 6, 'babe!': 6, 'hmm': 6, 'surely': 6, 'fall': 6, 'service.': 6, 'yrs': 6, 'user': 6, 'murder': 6, 'due': 6, 'teach': 6, 'worried': 6, 'reply.': 6, 'gay': 6, 'iam': 6, 'wherever': 6, 'recently': 6, '\"our': 6, 'it..\"': 6, \"u'll\": 6, 'out,': 6, 'nyt': 6, 'holla': 6, 'f': 6, 'na.': 6, 'fight': 6, 'sipix': 6, 'camera!': 6, 'black': 6, 'aiyah': 6, 'http://www.urawinner.com': 6, 'howz': 6, \"let's\": 6, 'luck!': 6, 'not?': 6, 'around?': 6, '2day': 6, 'over?': 6, 'cell': 6, 'lor..': 6, 'dog': 6, 'frens': 6, 'is.': 6, 'super': 6, 'marry': 6, 'yahoo': 6, '08707509020': 6, 'person,': 6, 'share': 6, '\"i': 6, '4th': 6, 'nature': 6, 'keeping': 6, 'name.': 6, '0870': 6, 'except': 6, '86021': 6, 'single': 6, 'then...': 6, 'tomorrow?': 6, 'london': 6, 'buzz': 6, 'walking': 6, 'lookin': 6, 'father': 6, 'lol.': 6, 'slowly': 6, 'thing.': 6, 'created': 6, 'exciting': 6, 'text.': 6, 'list': 6, 'bt-national-rate': 6, 'yep': 6, 'rate)': 6, '09050090044': 6, 'toclaim.': 6, 'sae,': 6, 'pobox334,': 6, 'stockport,': 6, 'sk38xh,': 6, 'cost£1.50/pm,': 6, 'max10mins': 6, 'awesome': 6, 'said:': 6, 'number,': 6, 'movies': 6, 'ahmad': 6, 'thnk': 6, 'freemsg:': 6, 'semester': 6, 'official': 6, 'though.': 6, 'sed': 6, 'wife,': 6, '.....': 6, 'role': 6, 'checked': 6, 'tear': 6, 'hell': 6, 'added': 6, 'budget': 6, 'meds': 6, 'bugis': 5, 'darling': 5, 'callers.': 5, '*9': 5, 'co': 5, 'searching': 5, 'sunday': 5, 'naughty': 5, 'i‘m': 5, 'stock': 5, 'eating': 5, 'hello!': 5, 'nigeria.': 5, 'tyler': 5, 'hospital.': 5, 'weak': 5, 'ride': 5, 'red': 5, 'cinema': 5, 'situation': 5, 'customer,': 5, 'review': 5, 'pain.': 5, 'pleasure': 5, '530': 5, 'see.': 5, 'changed': 5, 'page': 5, 'happened?': 5, 'cabin': 5, \"b'day\": 5, \"!!''.\": 5, 'apartment.': 5, 'informed': 5, '2004': 5, 'voda': 5, 'quoting': 5, 'app': 5, \"shouldn't\": 5, '82277.': 5, 'locations': 5, 'rooms': 5, 'mail.': 5, 'replied': 5, 'text?': 5, 'ltd': 5, 'reply...': 5, 'boy?': 5, 'arrange': 5, 'happy.': 5, 'her:': 5, 'content.': 5, 'menu': 5, 'discuss': 5, 'can.': 5, 'oredi': 5, 'straight': 5, 'connection': 5, 'semester.': 5, 'system': 5, 'appreciate': 5, 'soon?': 5, 'free,': 5, 'argument': 5, 'person.': 5, 'fix': 5, 'cal': 5, 'back,': 5, 'handset?': 5, 'liao.': 5, 'singles': 5, 'quality': 5, 'ended': 5, 'ok..': 5, 'please.': 5, 'high': 5, 'selection': 5, 'babes': 5, \"aren't\": 5, \"he'll\": 5, 'yoga': 5, 'december': 5, '11mths+?': 5, 'hey...': 5, 'ppl': 5, 'rcvd.': 5, 'surfing': 5, 'basically': 5, 'cc:': 5, 'saturday.': 5, 'air': 5, 'offer!': 5, 'sonyericsson': 5, 'orange.': 5, 'geeee': 5, \"did't\": 5, 'happening': 5, '*sighs*': 5, 'guide': 5, 'late...': 5, 'dinner?': 5, 'pilates': 5, 'current': 5, 'yan': 5, 'jiu': 5, 'competition': 5, 'heart.': 5, 'pobox36504w45wq': 5, 'contacted': 5, \"she'll\": 5, 'hv': 5, 'respond': 5, 'vary': 5, 'ticket': 5, '50': 5, 'welcome.': 5, 'woman': 5, 'don\\x92t': 5, 'gives': 5, 'nothing.': 5, 'charges': 5, 'moan': 5, 'fb': 5, 'activate': 5, 'meh...': 5, 'some1': 5, 'character': 5, '8.': 5, 'tat': 5, 'pin': 5, 'sub.': 5, 'unsub': 5, 'fingers': 5, 'returns': 5, 'english': 5, '2mrw': 5, 'scream': 5, 'clean': 5, 'yet...': 5, 'jazz': 5, \"t's&c's\": 5, 'present': 5, 'euro2004': 5, 'results': 5, 'shuhui': 5, 'also.': 5, 'snow.': 5, 'weather': 5, 'drinks': 5, 'paid': 5, 'forwarded': 5, 'before.': 5, 'listening': 5, 'email.': 5, 'hella': 5, 'evng': 5, 'fetch': 5, 'belly': 5, 'again?': 5, 'dey': 5, 'realy': 5, 'yest': 5, 'mah': 5, 'tis': 5, 'damn': 5, 'brother.': 5, 'hmmm': 5, \"couldn't\": 5, 'living': 5, 'polyphonic': 5, 'off.': 5, 'pobox84,': 5, 'bag': 5, 'boo': 5, 'www.comuk.net': 5, 'zed': 5, 'five': 5, 'mother': 5, 'playing': 5, 'sn': 5, 'xxx.': 5, 'hai': 5, 'office.': 5, 'cds': 5, 'hello.': 5, 'midnight': 5, 'sup': 5, 'exactly': 5, 'ym': 5, 'pizza': 5, '£10,000': 5, '08718720201': 5, 'heavy': 5, 'brand': 5, 'then,': 5, 'nxt': 5, 'videophones': 5, 'videochat': 5, 'mates,': 5, 'java': 5, 'dload': 5, 'music,': 5, 'noline': 5, 'rentl.': 5, 'dropped': 5, 'yun': 5, 'love..': 5, 'water': 5, 'do,': 5, 'awake': 5, 'me!': 5, 'hospital': 5, 'hiya': 5, 'flower': 5, 'local': 5, 'revealed.': 5, 'regards': 5, 'phone?': 5, 'p': 5, 'receipt': 5, 'italian': 5, 'over.': 5, 'paper': 5, 'cute': 5, 'adult': 5, 'horrible': 5, 'goodmorning,': 5, 'mite': 5, 'rite?': 5, 'gal.': 5, 'honey': 5, 'chikku,': 5, 'leh': 5, 'broke': 5, 'tone,': 5, 'original': 5, 'go.': 5, 'much,': 5, 'luck': 5, 'way?': 5, 'arrested': 5, 'fantasies': 5, '1)': 5, '2)': 5, 'cafe': 5, 'tells': 5, 'totally': 5, 'rem': 5, 'idea': 5, 'optout': 5, '2nite?': 5, 'bought': 5, 'asap!': 5, 'google': 5, 'messages.': 5, 'aint': 5, 'centre': 5, 'directly': 5, 'airport': 5, 'auction.': 5, 'da:)': 5, 'instead': 5, 'laugh': 5, 'ah,': 5, 'eerie': 5, 'india': 5, 'l8r.': 5, 'in,': 5, 'waking': 5, 'married': 5, 'bold': 5, 'ran': 5, 'hook': 5, 'bin': 5, 'alrite': 5, 'social': 5, 'lmao': 5, 'selling': 5, '(std': 5, 'address?': 5, '#': 5, '|': 5, 'hate': 5, 'forever': 5, 'training': 5, 'etc.': 5, 'ge': 5, 'oh,': 5, 'inclusive': 5, 'armand': 5, 'looked': 5, 'easy.': 5, 'expecting': 5, \"b'day.\": 5, \"did'nt\": 5, 'colleagues': 5, \"said,''\": 5, \"''ok'',\": 5, 'mood.': 5, 'minuts': 5, 'latr': 5, 'cake...n': 5, 'funny': 5, 'unable': 5, 'remind': 5, 'minute.': 5, 'worse': 5, 'fun.': 5, 'cheers': 5, 'whether': 5, 'spook': 5, 'fantasy': 5, 'sky': 5, 'police': 5, 'waste': 5, 'so,': 5, 'plenty': 5, 'deliver': 5, 'amount': 5, 'studying': 5, 'behind': 5, 'amazing': 5, 'hr': 5, 'hrs': 5, 'aha.': 5, 'feb': 5, 'ignore': 5, 'mon': 5, 'cover': 5, 'internet': 5, '....': 5, 'phone!': 5, \"wouldn't\": 5, 'lik': 5, 'asks': 5, 'hw': 5, '3510i': 5, 'won!': 5, '£400': 5, 'works': 5, 'fa': 4, 'tkts': 4, '87121': 4, \"week's\": 4, 'six': 4, '87575.': 4, 'times.': 4, 'that\\x92s': 4, 'seriously': 4, 'sucks.': 4, \"mom's\": 4, 'like?': 4, 'subscription': 4, 'am.': 4, 'ac': 4, 'prize,': 4, 'end.': 4, 'network.': 4, 'becoz': 4, 'anymore.': 4, 'truly': 4, 'scared': 4, 'mah.': 4, 'too,': 4, '(flights': 4, 'inc)': 4, '786': 4, 'unredeemed': 4, 'bother': 4, 'girl.': 4, 'q!': 4, 'country': 4, 'ansr': 4, 'sp:tyrone': 4, 'laid': 4, 'largest': 4, 'ec2a.': 4, 'befor': 4, 'activities': 4, 'biggest': 4, 'us?': 4, 'netcollex': 4, 'begin': 4, 'qatar': 4, 'deleted': 4, 'done,': 4, 'work?': 4, 'happy?': 4, 'points': 4, 'bloody': 4, 'hi!': 4, 'v.': 4, \"we'd\": 4, '0808': 4, '145': 4, '4742': 4, '9am-11pm': 4, 'radio': 4, 'first.': 4, 'k...': 4, 'cost.': 4, 'bucks': 4, 'transaction': 4, 'cannot': 4, 'shoot': 4, 'gt': 4, 'files': 4, '2optout': 4, 'partner': 4, 'followed': 4, 'g.': 4, 'teaches': 4, 'cross': 4, 'road': 4, 'right.': 4, 'sam': 4, 'wins': 4, 'argue': 4, 'on.': 4, 'better.': 4, 'today,': 4, 'goodnight': 4, 'www.ldew.com1win150ppmx3age16': 4, 'bcums': 4, 'seriously..': 4, 'childish': 4, 'affection,': 4, 'luv!..': 4, 'kettoda': 4, 'manda...': 4, 'expect': 4, 'mmm': 4, 'camcorder?': 4, '25': 4, 'club:': 4, 'rays': 4, 'bay.': 4, 'won.': 4, 'questions.': 4, 'bf': 4, 'coming.': 4, 'passed': 4, 'throw': 4, 'working.': 4, 'accidentally': 4, 'def': 4, 'dates': 4, 'hanging': 4, 'belovd': 4, 'afraid': 4, '08002986906': 4, 'cud': 4, 'waitin': 4, 'movie.': 4, 'something.': 4, 'all.': 4, 'then!': 4, '1000s': 4, 'interested': 4, 'row/w1j6hl': 4, 'work,': 4, 'chikku': 4, '1000': 4, 'further': 4, 'get?': 4, 'project.': 4, 'body': 4, 'relax.': 4, '11mths': 4, 'intro': 4, 'pictures': 4, 'india.': 4, 'help?': 4, 'tree': 4, 'missing*': 4, '=d': 4, 'alright,': 4, 'logo': 4, 'else?': 4, 'today..': 4, 'fifteen': 4, '3mins': 4, 'wc1n3xx': 4, '&gt;:(': 4, 'jen': 4, 'purpose': 4, 'tenants': 4, \"'help'\": 4, 'ure': 4, 'reasons': 4, 'opt-out': 4, 'receiving': 4, 'cw25wx': 4, 'll': 4, '8th': 4, 'thing...': 4, 'dry': 4, 'center': 4, 'fighting': 4, 'out?': 4, 'bringing': 4, 'jada': 4, 'kusruthi': 4, 'spl': 4, 'matured': 4, 'stylish': 4, 'reply..': 4, 'cha': 4, 'credits': 4, 'yes!': 4, 'lady': 4, 'guys.': 4, 'fat': 4, 'da,': 4, 'quote': 4, 'losing': 4, 'btw': 4, 'three': 4, 'i‘ll': 4, 'essential': 4, 'one...': 4, 'fast...': 4, 'already,': 4, 'whatever,': 4, '*smiles*': 4, 'lab': 4, 'claim,': 4, 'yogasana': 4, 'lessons': 4, 'grand': 4, 'announcement.': 4, '542': 4, 'stopped': 4, 'indian': 4, 'ladies': 4, 'off!': 4, 'daily.': 4, 'uncles': 4, 'holder,': 4, 'offer,': 4, 'time...': 4, 'thursday': 4, 'temple': 4, 'bet': 4, 'drug': 4, 'earth': 4, 'sense': 4, ';)': 4, 'evening!': 4, 'ho': 4, 'seem': 4, '<forwarded': 4, 'purchase': 4, 'ah': 4, 'height': 4, '10am-7pm': 4, 'assume': 4, 'today...': 4, 'twice': 4, 'loyalty': 4, '£10': 4, 'faster': 4, 'about.': 4, 'princess.': 4, '£3': 4, \"we've\": 4, 'advance..': 4, 'meetin': 4, 'apparently': 4, 'row': 4, 'sing': 4, 'happiness.': 4, 'door': 4, 'week,': 4, 'enjoyed': 4, 'chance!': 4, 'm263uz.': 4, \"ain't\": 4, 'model': 4, 'ache': 4, 'credits,': 4, 'login=': 4, '3qxj9': 4, '9ae': 4, 'reveal': 4, 'cust': 4, '80062': 4, 'enjoy!': 4, 'wed': 4, 'ibiza': 4, 'ppm': 4, 'meanwhile': 4, 'first?': 4, 'vip': 4, 'records': 4, 'birds': 4, 'ta': 4, 'played': 4, 'dead': 4, 'derek': 4, 'pig': 4, 'addicted': 4, 'ma': 4, 'school.': 4, 'attend': 4, 'ate': 4, 'acc': 4, 'mo': 4, 'wear': 4, 'places': 4, 'photos': 4, 'gravity..': 4, 'carefully:': 4, 'bowl': 4, 'site': 4, 'me.i': 4, 'ad': 4, '*loving': 4, 'j': 4, 'is?': 4, '150p/min': 4, 'raise': 4, 'loverboy': 4, '\"a': 4, 'fool': 4, 'who?': 4, 'xchat.': 4, 'na': 4, 'vijay': 4, '150ppm.': 4, 'doctor.': 4, 'ans.': 4, 'uni': 4, 'o2': 4, 'aiyar': 4, 'gal': 4, 'station': 4, 'rally': 4, 'hair.': 4, '£3/wk': 4, 'credited': 4, 'delivered': 4, 'know,': 4, 'txtin': 4, '150p/tone.': 4, '4info': 4, 'no!': 4, 'chinese': 4, 'songs': 4, 'cbe': 4, 'cash.': 4, 'exact': 4, 'thts': 4, 'ho.': 4, 'www.ringtones.co.uk,': 4, '3gbp': 4, 'bed,': 4, 'nite...': 4, '4u': 4, 'blackberry': 4, 'do?': 4, 'moji': 4, 'alright.': 4, 'fill': 4, '1/2': 4, 'linerental': 4, 'yes..': 4, '4get': 4, 'urn': 4, 'gee...': 4, 'moon': 4, '150p/msgrcvdhg/suite342/2lands/row/w1j6hl': 4, 'exams': 4, 'sale': 4, 've': 4, 'aiya': 4, 'bright': 4, 'day\"': 4, 'pod': 4, '02/06/03!': 4, 'wonders': 4, '7th': 4, '6th': 4, '5th': 4, 'personality': 4, '3rd': 4, '\"ur': 4, 'friendship\"...': 4, 'purity': 4, 'message..its': 4, 'slave': 4, 'god.': 4, 'total': 4, 'file': 4, 'live.': 4, '7250i.': 4, 'row/w1jhl': 4, 'yuo': 4, 'tihs': 4, 'costs': 4, 'whom': 4, 'morning?': 4, 'laughing': 4, '250': 4, 'brought': 4, 'jst': 4, 'remain': 4, 'doctor': 4, 'ordered': 4, 'earlier.': 4, 'fren': 4, '60p/min.': 4, 'connect': 4, 'leh?': 4, 'soon...': 4, 'everyone.': 4, 'john.': 4, 'father.': 4, 'arcade': 4, 'fills': 4, 'gaps': 4, 'takin': 4, 'answering': 4, 'aiyo': 4, 'noe...': 4, 'beer': 4, 'jess': 4, 'dirty': 4, 'man.': 4, 'upto': 4, '08001950382': 4, 'slowly.?': 4, 'god,i': 4, 'you,clean': 4, 'blood.send': 4, 'it,pls,pls': 4, 'else.': 4, 'smile*': 4, 'season': 4, 'village': 4, 'cleaning': 4, '\"what': 4, 'done!': 4, 'cat': 4, 'hip': 4, 'msg*': 4, '87239': 4, 'tea': 4, 'num': 4, 'liao': 4, 'raining': 4, 'everything.': 4, 'freefone': 4, 'theatre': 4, 'infernal': 4, 'side.': 4, 'yer': 4, 'eng': 4, 'box39822': 4, 'w111wx': 4, 'problems': 4, 'subs': 4, 'services.': 4, 'parents,': 4, 'kidz,': 4, 'colleagues.': 4, 'screaming..': 4, 'sofa..': 4, 'naked...!': 4, 'dinner.': 4, 'wednesday': 4, 'ntwk': 4, 's,': 4, 'pix': 4, 'letters': 4, 'calls.': 4, 'football': 4, 'polys': 4, 'energy\"': 4, 'izzit': 4, 'lei': 4, 'rite': 4, 'uk.': 4, 'home,': 4, 'tuesday': 4, 'solve': 4, 'key': 4, 'released': 4, 'advice': 4, 'bx420.': 4, 'ip4.': 4, '5we.': 4, 'contract': 4, 'asleep': 4, 'cancer.': 4, 'spending': 4, 'response': 4, 'sport': 4, ';_;': 4, 'facebook': 4, 'house-maid': 4, 'murderer,': 4, 'january..': 4, 'public': 4, 'govt.instituitions': 4, 'closed,including': 4, 'dare': 4, 'tick,': 4, 'hours.': 4, 'iz': 4, 'handle': 4, 'version:': 4, 'tariffs.': 4, 'hopefully': 4, 'inc': 4, 'planned': 4, 'grl:': 4, '09061221066': 4, 'fromm': 4, '28': 4, 'insurance.': 4, 'basic': 4, 'yup.': 4, 'outta': 4, 'inform': 4, 'voice.': 4, 'issues': 4, 'ar?': 4, 'customer.': 4, 'doc': 4, 'good!': 4, 'loss': 4, 'reward': 4, 'santa': 4, 'malaria.': 4, 'step': 4, 'joking': 3, '21st': 3, '2005.': 3, 'say...': 3, 'tb': 3, \"'melle\": 3, 'melle': 3, '(oru': 3, 'minnaminunginte': 3, 'nurungu': 3, \"vettam)'\": 3, 'reward!': 3, 'more?': 3, 'tonight,': 3, 'membership': 3, 'spell': 3, 'team': 3, 'str': 3, 'tho.': 3, 'worried.': 3, 'turn': 3, 'frying': 3, 'child': 3, 'caught': 3, '2!': 3, 'fear': 3, 'xuhui': 3, 'letter': 3, 'go?': 3, 'invite': 3, 'yummy': 3, 'calls..messages..missed': 3, 'gram': 3, 'runs': 3, 'realized': 3, 'seemed': 3, 'end?': 3, '&lt;url&gt;': 3, '09061209465': 3, 'suprman': 3, 'v,': 3, 'matrix3,': 3, 'starwars3,': 3, 'bx420-ip4-5we.': 3, '150pm.': 3, 'meeting.': 3, 'burger': 3, 'joke.': 3, 'roommates': 3, 'dresser': 3, 'advise': 3, 'recent': 3, '£1500': 3, 'valuable': 3, 'plane': 3, 'machan.': 3, 'gentleman': 3, 'dignity': 3, 'respect.': 3, 'sum1': 3, 'appointment': 3, 'buy.': 3, 'right!': 3, 'boston': 3, 'vava': 3, 'considering': 3, 'sentence': 3, 'anyway,': 3, 'tt': 3, 'anythin': 3, '(18+)': 3, 'food.': 3, '45239': 3, \"ü'll\": 3, \"hasn't\": 3, 'dear,': 3, 'question.': 3, 'hardcore': 3, 'nice...': 3, 'are.': 3, 'dot': 3, 'female': 3, 'birla': 3, 'soft': 3, 'interview': 3, 'wap.': 3, 'spanish': 3, 'maneesha': 3, 'satisfied': 3, 'toll': 3, 'studying.': 3, 'anyways': 3, 'mummy': 3, 'finishes': 3, 'unique': 3, 'enough?': 3, 'touch.': 3, 'itself.': 3, 'suggest': 3, 'settled': 3, 'at?': 3, 'itself': 3, 'ready!': 3, '2004,': 3, 'go!': 3, '89545': 3, 'www.4-tc.biz': 3, '087187262701.50gbp/mtmsg18': 3, 'career': 3, 'road.': 3, 'flirt': 3, 'pence': 3, 'closer': 3, 'theory:': 3, 'situation,': 3, 'loses': 3, 'just..': 3, 'correct.!': 3, 'tomarrow': 3, 'avent': 3, 'website.': 3, 'slippers': 3, '125gift': 3, 'ranjith': 3, '5min': 3, 'shipping': 3, 'parked': 3, '150pm': 3, 'sorting': 3, 'genuine': 3, 'info:www.100percent-real.com': 3, 'done?': 3, 'handed': 3, 'anybody': 3, 'friends,': 3, 'him?': 3, 'cam': 3, 'buzy': 3, 'upgrade': 3, 'loyalty.': 3, '0845': 3, 'tease': 3, 'meal': 3, 'newest': 3, 'fit': 3, 'day..u': 3, 'as?': 3, 'dear1': 3, 'best1': 3, 'clos1': 3, 'lvblefrnd': 3, 'jstfrnd': 3, 'cutefrnd': 3, 'lifpartnr': 3, 'swtheart': 3, 'bstfrnd': 3, 'enemy': 3, 'smart': 3, 'm26': 3, '16+.': 3, \"friend's\": 3, 'gona': 3, 'germany': 3, 'report': 3, '83600': 3, 'sleeping..and': 3, 'lot.': 3, 'cleared': 3, '1.50': 3, 'slap': 3, 'ago.': 3, 'remembered': 3, 'insurance': 3, 'min..': 3, 'ptbo': 3, 'slow.': 3, '6months': 3, '4mths': 3, 'mobilesdirect': 3, '08000938767': 3, 'or2stoptxt': 3, 'now..': 3, 'shut': 3, 'business': 3, 'picture': 3, 'quickly': 3, '87131': 3, 'cream': 3, 'yep,': 3, 'skip': 3, 'one,': 3, 'names': 3, 'aathi..where': 3, 'bmw': 3, 'urgently..its': 3, 'urgent.but': 3, 'shortage': 3, 'lacs.there': 3, 'source': 3, 'arng': 3, 'amt.': 3, 'lacs..thats': 3, 'hmm.': 3, '£75,000.': 3, 'homeowners': 3, 'previously': 3, 'refused?': 3, '1956669': 3, 'intelligent': 3, 'result': 3, 'ttyl': 3, 'believe.': 3, 'doggy': 3, 'fave': 3, 'company.': 3, 'dave': 3, '#5000': 3, 'flat': 3, 'transfered': 3, 'dollars': 3, 'banks': 3, 'wise': 3, 'aathi..love': 3, 'lot..': 3, 'sec': 3, 'nope...': 3, 'confirm.': 3, 'fightng': 3, 'dificult': 3, 'lose.': 3, 'fish': 3, '£1450': 3, 't&cs/stop': 3, 'fees': 3, \"prabha..i'm\": 3, 'soryda..realy..frm': 3, 'sory': 3, '83355!': 3, 'ibhltd': 3, 'ldnw15h': 3, 'booking': 3, 'behave': 3, 'box95qu': 3, '08717898035.': 3, 'pg': 3, 's.i.m.': 3, 'today-sunday..sunday': 3, 'holiday..so': 3, 'work..': 3, 'malaria': 3, 'love!': 3, 'passionate': 3, 'ummmmmaah': 3, 'heart..': 3, 'age16': 3, 'mine.': 3, 'generally': 3, 'blood': 3, 'weight.': 3, 'it‘s': 3, 'that‘s': 3, 'likely': 3, 'pics.': 3, 'office..': 3, 'american': 3, 'callin': 3, 'marriage': 3, 'bite': 3, 'izzit?': 3, 'headache': 3, 'meeting,': 3, '08715705022,': 3, '1x150p/wk': 3, 'lines': 3, \"mum's\": 3, 'la...': 3, 'nichols': 3, 'game.': 3, 'answers': 3, 'often': 3, 'up...': 3, 'bud': 3, 'market': 3, 'postcode': 3, 'smile.': 3, 'login': 3, 'shower,': 3, 'baby?': 3, 'we‘re': 3, 'cartoon,': 3, 'church..': 3, 'town?': 3, 'paper,': 3, 'prepare': 3, 'escape': 3, 'lonely': 3, 'textoperator': 3, 'building': 3, 'thanx.': 3, 'msg..': 3, 'ws': 3, 'students.': 3, 'weird': 3, 'u!u': 3, 'max£7.': 3, 'far.': 3, 'yay!': 3, 'tonite': 3, 'gals': 3, 'shouted': 3, 'shorter': 3, 'ttyl!': 3, 'subscribed': 3, 'spoken': 3, 'realize': 3, 'gimme': 3, 'out...': 3, '\"x\"': 3, 'mas': 3, 'city': 3, 'skilgme.': 3, 'somethin': 3, 'get.': 3, 'here!': 3, 'diff': 3, 'perfect': 3, 'subpoly': 3, 'bein': 3, 'jan': 3, 'pieces': 3, 'appt': 3, 'fault': 3, 'listen.': 3, 'mates.': 3, '3d': 3, 'warm.': 3, 'hint': 3, 'again,': 3, 'responding': 3, '2u': 3, '*teasing': 3, 'stop,': 3, '08702840625.comuk.': 3, '220-cm2': 3, 'alfie': 3, \"moon's\": 3, 'mob.': 3, 'm8s.': 3, 'nokias': 3, '08701417012': 3, 'profit': 3, 'hahaha..use': 3, 'brain': 3, 'given': 3, 'oh!': 3, 'successful': 3, \"month's\": 3, '2morrow': 3, 'family.': 3, '434': 3, 'sk3': 3, '8wp': 3, 'xavier': 3, \"jay's\": 3, 'shit.': 3, 'stomach': 3, 'eat.': 3, 'luv!': 3, 'spk': 3, 'returned': 3, 'supply': 3, 'walls': 3, 'rental?': 3, 'travel': 3, 'liverpool': 3, 'for.': 3, 'see,': 3, 'lead': 3, 'wanting': 3, \"'til\": 3, 'y.': 3, 'wife.how': 3, '\"be': 3, 'opportunity': 3, 'outstanding': 3, 'greet': 3, 'white': 3, 'january': 3, 'male': 3, '(10p/min)': 3, 'home..': 3, 'moments': 3, 'campus': 3, 'expensive': 3, '114/14': 3, 'tcr/w1': 3, 'come?': 3, 'night...': 3, 'magical': 3, 'valid12hrs': 3, 'come.': 3, 'chicken': 3, 'potential': 3, '09063458130': 3, 'polyph': 3, 'fuckin': 3, 'min:)': 3, 'anyone.': 3, 'exe': 3, 'bored...': 3, 'teasing': 3, 'fancies': 3, 'foreign': 3, 'stamps': 3, 'country.': 3, 'lecture': 3, 'game,': 3, '6,': 3, 'concentrate': 3, 'walked': 3, 'euro': 3, 'job!': 3, 'something,': 3, 'to?': 3, '84025': 3, 'technical': 3, 'kerala': 3, 'eve.': 3, 'juicy': 3, 'plz.': 3, 'dearer': 3, 'dem!!!': 3, 'evn': 3, 'alwys': 3, '09061790121': 3, 'subscriber': 3, 'birthday?': 3, 'ne': 3, 'though,': 3, 'shirt': 3, 'user.': 3, 'speed': 3, 'ok.ok': 3, 'ok..then..whats': 3, 'catching': 3, '\"oh': 3, 'whos': 3, 'other!': 3, 'hg/suite342/2lands/row/w1j6hl': 3, 'ldn.': 3, 'hey!': 3, 'bus.': 3, 'nw': 3, 'da..': 3, 'done...': 3, 'shame': 3, 'pocketbabe.co.uk': 3, 'voicemail.': 3, 'rs.': 3, 'na-tuition..': 3, 'choice': 3, 'claim.': 3, 'strong': 3, 'bday': 3, 'april': 3, 'score': 3, '87021.': 3, 'apps': 3, 'anti': 3, 'various': 3, '08712405020.': 3, 'morn': 3, 'too!': 3, 'docs': 3, 'havin': 3, 'rang': 3, 'explain': 3, 'executive': 3, '2moro': 3, \"c's\": 3, 'green': 3, 'express': 3, 'tour': 3, 'birthday...': 3, 'true...': 3, 'fran': 3, 'software': 3, 'among': 3, 'cares': 3, 'sweet,': 3, 'chill': 3, 'chillin': 3, 'saucy': 3, 'nigeria': 3, 'pple': 3, 'like.': 3, 'night!': 3, 'dictionary': 3, '3)cover': 3, 'screen': 3, 'hand,': 3, '4)press': 3, '5)gently': 3, 'hand..': 3, 'interesting..:)': 3, 'upload': 3, 'shot': 3, 'storming': 3, 'phne,': 3, '\"hello\"': 3, 'wt': 3, 'meaning': 3, 'hello??': 3, 'girl..!': 3, 'girl??': 3, '\"margaret': 3, 'hello\"': 3, 'girlfrnd': 3, 'grahmbell': 3, 'invnted': 3, 'telphone...': 3, 'moral:one': 3, 'girlfrnd...': 3, 'h': 3, '.@': 3, 'popped': 3, 'k.i': 3, 'online,': 3, 'shld': 3, 'vote': 3, 'goodnite': 3, 'hungry.': 3, 'arsenal': 3, 'painful': 3, 'everybody': 3, 'sen': 3, 'missin': 3, 'arms': 3, 'cardiff': 3, 'addie': 3, 'certainly': 3, 'stupid.its': 3, 'claire': 3, '09066362231': 3, '07xxxxxxxxx': 3, 'down.': 3, \"blake's\": 3, 'lotr': 3, 'job?': 3, 'vomit': 3, 'stars': 3, 'karaoke': 3, 'ron': 3, 'day..': 3, 'mr.': 3, 'much?': 3, 'ese': 3, 'dreams..': 3, 'bishan': 3, 'buff': 3, 'gift.': 3, 'anything...': 3, 'nyt...': 3, 'money,': 3, 'gang': 3, 'excellent': 3, 'finishing': 3, 'doors': 3, 'pissed': 3, 'apartment': 3, 'chasing': 3, '&lt;3': 3, 'blame': 3, 'life!': 3, 'hostel.': 3, 'freezing': 3, 'dude.': 3, 'title': 3, 'titles:': 3, 'moby': 3, '82242': 3, 'throat': 3, 'friends..': 3, 'early...': 3, 'action': 3, 'monthly': 3, 'sight,': 3, 'sight..': 3, 'maintain': 3, 'ends..': 3, 'okay...': 3, 'cramps': 3, 'received': 3, 'nan': 3, 'leaving?': 3, ':-p': 3, 'likes': 3, 'dislikes': 3, 'promises': 3, '121': 3, 'boys': 3, 'left,': 3, 'chosen': 3, 'di': 3, 'cruise': 3, 'i\\x92m': 3, 'x.': 3, 'follow': 3, 'free...': 3, 'stuck': 3, 'regarding': 3, 'ha...': 3, 'adore': 3, '0': 3, 'settings.': 3, 'atlanta.': 3, 'fingers..?': 3, 'love..!': 3, 'arun': 3, 'winner!': 3, 'soon,': 3, 'eye': 3, 'off,': 3, 'die...': 3, 'package': 3, 'wet': 3, 'norm': 3, 'on!': 3, 'toa': 3, 'payoh': 3, 'sleep,': 3, 'can?': 3, 'nearly': 3, 'beyond': 3, '18yrs': 3, 'abta': 3, 'lei.': 3, 'well...': 3, 'ipod.': 3, '80182': 3, '08452810073': 3, 'ikea': 3, 'cn': 3, 'series': 3, 'se': 3, 'carry': 3, 'avatar': 3, 'constantly': 3, 'honeybee': 3, \"*i'm\": 3, 'sweetest': 3, 'world*': 3, 'laughed': 3, '*wait,u': 3, 'havnt': 3, 'moral:': 3, 'crack': 3, 'jokes!': 3, 'gm+gn+ge+gn:)': 3, 'about?': 3, 'nvm': 3, 'moms.': 3, 'proof': 3, 'provided': 3, 'huh...': 3, 'mon.': 3, 'downloads': 3, 'members': 3, 'major': 3, 'birth': 3, 'news!': 3, 'tscs': 3, 'lie': 3, 'boost': 3, 'gym?': 3, 'pack': 3, 'including': 3, '10p/min': 3, 'rush': 3, 'nothing,': 3, '***********': 3, 'box97n7qp,': 3, 'face.': 3, 'giv': 3, 'normally': 3, 'rich': 3, 'm8?': 3, 'yor': 3, 'jason': 3, 'med': 3, 'mad': 3, 'argh': 3, 'term': 3, 'tessy..pls': 3, 'favor.': 3, 'nimya..pls': 3, 'shijas': 3, 'hiya,': 3, 'mins.': 3, 'raji..pls': 3, 'favour.': 3, 'nimya.': 3, 'legs': 3, 'distance': 3, 'freak': 3, '£4.50.': 3, 'vikky': 3, 'xxxx': 3, 'temp': 3, 'display': 3, 'bathing': 3, 'management': 3, 'regular': 3, '2nite': 3, 'u4': 3, 'rude': 3, 'private': 3, '88066': 3, 'coming?': 3, 'bored.': 3, 'call,': 3, 'wkend': 3, 'alert.': 3, 'sp': 3, 'details.': 3, 'old.': 3, 'ham': 3, 'forgot.': 3, 'iscoming': 3, 'ringtones': 3, '80082': 3, 'halloween': 3, 'easier': 3, 'wn': 3, 'saved': 3, 'instantly': 3, 'drinking': 3, 'obviously': 3, 'pussy': 3, 'message..no': 3, 'responce..what': 3, 'happend?': 3, 'sugar': 3, 'okey': 3, '1,his': 3, 'police.': 3, '2,police': 3, 'questioned': 3, '3,wife:': 3, 'sir,i': 3, 'sleeping,': 3, '4.cook:': 3, 'cooking.': 3, '5.gardener:': 3, 'vegetables.': 3, '6.house-maid:': 3, '7.children:': 3, 'play.': 3, '8.neighbour:': 3, 'marriage.': 3, 'murderer': 3, 'immediately.': 3, 'reason,': 3, 'brilliant.': 3, 'there...': 3, 'settle': 3, 'bloo': 3, 'indians': 3, 'citizen': 3, 'random': 3, 'nope.': 3, 'ru': 3, '09066612661': 3, 'different.': 3, 'greetings': 3, 'dai': 3, 'cars': 3, 'er': 3, 'violence': 3, 'check.': 3, 'friday.': 3, 'timing.': 3, 'death': 3, 'usual..iam': 3, 'well..:)': 3, 'reality': 3, 'year,': 3, 'remains': 3, 'bros': 3, \"when's\": 3, 'wednesday.': 3, '*pouts*': 3, '*stomps': 3, 'feet*': 3, 'sports': 3, 'sept': 3, 'u\"': 3, 'uks': 3, '2stoptxt': 3, 'nah,': 3, 'inches': 3, 'office..understand?': 3, 'ben': 3, 'middle': 3, 'g,': 3, 'trip.': 3, 'contents': 3, 'cash,': 3, 'wearing': 3, 'strike': 3, 'oso...': 3, 'seat': 3, 'boys.': 3, 'porn': 3, '50p': 3, 'dress': 3, 'sorry!': 3, 'rd': 3, 'tm': 3, 'gary': 3, 'history': 3, 'bell': 3, 'understood': 3, 'changes': 3, 'surprised': 3, 'blow': 3, 'knowing': 3, 'well!': 3, 'thurs': 3, 'boy:': 3, 'randomly': 3, 'tape': 3, 'lick': 3, 'auto': 3, 'died': 3, '4.50.': 3, 'me....': 3, 'asap': 3, 'sofa': 3, 'deliveredtomorrow?': 3, '300': 3, 'dreams,': 3, 'smoking': 3, 'in2': 3, 'talk.': 3, 'tuesday.': 3, 'billed': 3, 'ths': 3, \"t's\": 3, 'wedding': 3, 'accident': 3, 'wait?': 3, 'frnds..': 3, \"cann't\": 3, 'symbol': 3, 'prolly': 3, '\\x96': 3, 'celebrate': 3, 'understanding': 3, '200': 3, 'mood': 3, 'dubsack': 3, 'macho': 3, 'audition': 3, 'fell': 3, 'buns': 3, 'know?': 3, 'together...': 3, 'gentle': 3, 'affairs': 3, 'mths': 3, 'tho!': 3, 'university': 3, 'me!!': 3, 'important.': 3, 'enough.': 3, 'tog': 3, '*kiss*': 3, 'haiz...': 3, 'common': 3, 'expensive.': 3, 'previous': 3, 'captain': 3, 'eve?': 3, \"dsn't\": 3, 'suite': 3, 'taunton': 3, 'parking': 3, ')': 3, 'him,': 3, 'reward.': 3, 'comedy': 3, 'é': 3, 'car.': 3, 'la': 2, 'oni...': 2, 'question(std': 2, \"rate)t&c's\": 2, \"08452810075over18's\": 2, 'hor...': 2, 'usf,': 2, 'lives': 2, 'back!': 2, 'still?': 2, 'ok!': 2, 'std': 2, 'send,': 2, 'rcv': 2, 'winner!!': 2, 'receivea': 2, '09061701461.': 2, 'kl341.': 2, '08002986030': 2, 'anymore': 2, 'k?': 2, 'chances': 2, 'cash!': 2, '20,000': 2, 'txt>': 2, 'csh11': 2, '150p/day,': 2, '6days,': 2, 'tsandcs': 2, '£100,000': 2, 'jackpot!': 2, '81010': 2, 'www.dbuk.net': 2, 'lccltd': 2, '4403ldnw1a7rw18': 2, 'promise.': 2, 'blessing': 2, 'here:)': 2, 'did.': 2, 'scotland': 2, 'pizza.': 2, 'egg': 2, 'sarcastic': 2, 'cheers.': 2, \"roommate's\": 2, 'tomo.': 2, 'anything!': 2, 'mmmmmm': 2, 'burns': 2, 'fair': 2, 'on?': 2, 'hospitals': 2, 'wow.': 2, 'embarassed': 2, '\"the': 2, 'give.': 2, 'yesterday?': 2, 'killing': 2, 'iq': 2, 'short.': 2, '09066364589': 2, '\"song': 2, 'dedicated': 2, 'day..\"': 2, 'dedicate': 2, 'eurodisinc': 2, 'trav,': 2, 'aco&entry41': 2, '£1000.': 2, '18+6*£1.50(morefrmmob.': 2, 'shracomorsglsuplt)10,': 2, 'ls1': 2, '3aj': 2, 'earn': 2, 'later,': 2, 'urgnt,': 2, 'jacket': 2, 'requests': 2, 'coins': 2, 'nitros.': 2, 'ela': 2, 'something!': 2, 'sheets': 2, 'pours': 2, 'smiling!!': 2, '169': 2, '6031': 2, '10am-9pm': 2, 'collected.': 2, '\"mix\"': 2, '85069': 2, 'verify.': 2, 'usher': 2, 'britney.': 2, 'fml,': 2, '5249,': 2, 'mk17': 2, '92h.': 2, '450ppw': 2, 'loans': 2, 'hols': 2, 'run.': 2, 'four': 2, 'animation': 2, 'location': 2, 'noun': 2, 'research?': 2, 'things.': 2, 'gent!': 2, '09064012160.': 2, 'k52.': 2, 'puttin': 2, 'goodo!': 2, 'tortilla': 2, '07742676969': 2, '08719180248': 2, 'stuff,': 2, 'over,': 2, 'apologise.': 2, 'sum': 2, 'k..k:)how': 2, 'algarve': 2, 'mob?': 2, '31p.msg@150p': 2, 'lect...': 2, 'thought:': 2, 'occupy': 2, 'staff': 2, '08700621170150p': 2, 'flowing': 2, 'plaza': 2, 'floor,': 2, 'joy': 2, '0871277810810': 2, 'module': 2, 'frnd,': 2, 'avoid': 2, 'beloved': 2, ':)it': 2, 'form:)clark': 2, 'utter': 2, 'waste.': 2, 'address.': 2, 'completed': 2, 'stays': 2, 'wishin': 2, 'hamster': 2, 'refilled': 2, 'successfully': 2, 'inr': 2, 'keralacircle': 2, 'prepaid': 2, 'kr': 2, 'ericsson': 2, 'rewarding': 2, 'heading': 2, 'tired.': 2, 'nights.': 2, 'ah?sen': 2, 'good..': 2, 'ready.': 2, 'prob.': 2, 'os': 2, 'repair': 2, 'romantic': 2, 'today!from': 2, '£1': 2, 'horo': 2, 'star': 2, 'sign,': 2, 'e.': 2, 'teacher': 2, 'conducts': 2, 'died,': 2, 'yes:)here': 2, 'place..': 2, 'printed': 2, '447801259231': 2, '09058094597': 2, 'shining': 2, 'although': 2, 'bat': 2, 'innings.': 2, 'drpd': 2, 'deeraj': 2, 'deepak': 2, 'doing?how': 2, 'necessarily': 2, 'headin': 2, 'jolt': 2, 'suzy': 2, 'networks': 2, 'think?': 2, 'naked': 2, '69698': 2, 'us.': 2, 'yet,': 2, 'mk45': 2, '2wt': 2, 'chart': 2, 'mu,': 2, \"guy's\": 2, '2?': 2, 'jenny': 2, 'world:-)..': 2, 'ge:-)..': 2, 't-mobile': 2, '021': 2, 'cry...': 2, 'grave': 2, \"tomo?can't\": 2, 'shocking': 2, 'crash': 2, 'blind': 2, 'hide': 2, 'thread': 2, 'content,': 2, 'sport,': 2, 'funky': 2, '82468': 2, 'garage': 2, 'lost.': 2, 'tahan': 2, 'anot...': 2, 'lo': 2, 'oso,': 2, 'dude,': 2, 'cake,': 2, '*kisses*': 2, 'lunch...': 2, 'buses': 2, 'bristol': 2, 'da:)how': 2, 'class?': 2, 'record': 2, 'women': 2, 'minute!': 2, '0844': 2, '861': 2, '85': 2, '85.': 2, 'prepayment.': 2, 'access!': 2, 'privacy': 2, 'special!': 2, 'lifetime!': 2, 'before?': 2, 'reading.': 2, 'gudnite....tc...practice': 2, 'num.': 2, 'day.!': 2, 'misbehaved': 2, 'bcoz,': 2, 'fault,': 2, 'ish': 2, 'wtf.': 2, 'way!': 2, 'cold.': 2, 'status': 2, 'breathe': 2, 'worries.': 2, 'update_now': 2, 'recognise': 2, 'hes': 2, 'ovulation': 2, 'sony,': 2, 'phones.': 2, 'call2optout/n9dx': 2, 'licks': 2, 'too?': 2, 'gr8.': 2, 'facebook.': 2, 'met.': 2, 'grace': 2, 'chechi.': 2, 'loxahatchee': 2, 'burning': 2, 'slightly': 2, 'wld': 2, 'message:some': 2, 'sender:name': 2, '*number': 2, '*sent:date': 2, '*missing': 2, 'blah': 2, 'box334sk38ch': 2, 'whatsup': 2, 'goal': 2, '80086': 2, 'www.txttowin.co.uk': 2, 'minutes,': 2, 'name1': 2, 'name2': 2, 'mobno': 2, 'adam': 2, '07123456789': 2, 'yahoo!': 2, 'txtno': 2, 'ads': 2, 'speaking': 2, '3650': 2, '09066382422': 2, '300603': 2, 'bcm4284': 2, 'pongal?': 2, 'dollars.': 2, 'applebees': 2, 'think.': 2, 'yes..he': 2, 'great..bhaji': 2, 'cricketer': 2, 'sachin': 2, 'world:).very': 2, 'oic...': 2, 'doin?': 2, 'place?': 2, 'improve': 2, 'si': 2, 'oreo': 2, 'beautiful,': 2, 'bad.': 2, 'decisions': 2, 'coping': 2, '0207': 2, '153': 2, '26th': 2, 'bye': 2, 'railway': 2, 'yup,': 2, '09061743806': 2, 'tcs': 2, 'box326': 2, 'rate.': 2, '9ja': 2, 'broken': 2, 'infront': 2, 'tension': 2, 'problem?': 2, 'taste': 2, 'conditions,': 2, 'www.07781482378.com': 2, 'quality.': 2, 'trade': 2, 'sorry,in': 2, 'rec': 2, '+123': 2, '09050002311': 2, 'b4280703.': 2, '08718727868.': 2, \"dat's\": 2, 'hyde': 2, 'anthony.': 2, 'latest,': 2, 'scrounge': 2, 'slide': 2, 'transport': 2, 'definite': 2, 'nos': 2, 'fri.': 2, 'ebay': 2, 'pickle': 2, 'tacos': 2, '02/09/03!': 2, 'christmas.': 2, 'vouchers!': 2, 'single?': 2, 'conditions': 2, '08718738001': 2, 'big,': 2, 'web': 2, 'develop': 2, 'ability': 2, 'plan.': 2, 'long,': 2, 'cutting': 2, 'cock': 2, 'water,': 2, 'reminding': 2, 'owns': 2, 'faggy': 2, 'demand': 2, 'fo': 2, 'milk': 2, 'loose': 2, 'pan': 2, 'o.': 2, 'aiyo...': 2, 'geeeee': 2, 'oooh': 2, 'of?': 2, '?1,000': 2, '?2,000': 2, 'on,': 2, '5..': 2, 'claims': 2, 'snake': 2, 'dancing': 2, 'early..': 2, 'quit': 2, 'den...': 2, 'hardly': 2, '80878.': 2, 'www.txt-2-shop.com': 2, '2000': 2, '08712402050': 2, 'close.': 2, '10ppm.': 2, 'ag': 2, 'promo': 2, '0825': 2, 'exhausted': 2, 'tsunamis': 2, '2morow': 2, 'soiree': 2, 'ques-': 2, 'suits': 2, 'future.': 2, 'leona': 2, 'reaction': 2, 'lesson...': 2, 'officially': 2, 'textbuddy': 2, 'gaytextbuddy.com.': 2, '4882': 2, '09064019014': 2, 'http://www.e-tlp.co.uk/expressoffer': 2, 'kiss,': 2, 'gorgeous': 2, 'he!': 2, 'wee': 2, '.be': 2, 'taken': 2, 'trains': 2, 'jolly': 2, '40533': 2, '31/10/04': 2, 't&c:': 2, 'rstm,': 2, 'sw7': 2, '3ss.': 2, 'cool!': 2, 'gentle.': 2, 'panic': 2, 'wait,': 2, 'impatient': 2, 'river': 2, 'premium': 2, 'sea,': 2, 'lays': 2, 'rock.': 2, 'rock,': 2, 'envelope.': 2, 'envelope,': 2, 'paper.': 2, 'words...': 2, 'later...': 2, 'en': 2, 'tone.': 2, 'pa,': 2, 'card.': 2, 'awake?': 2, 'sleeping.': 2, 'lunch?': 2, 'cochin': 2, 'farm': 2, '4d': 2, 'sun.': 2, 'number?': 2, 'poop.': 2, 'gpu': 2, 'idea,': 2, 'pub!': 2, 'drivin...': 2, 'confidence:': 2, 'aeronautics': 2, 'professors': 2, 'calld': 2, 'aeroplane.': 2, 'hurried': 2, 'plane..': 2, 'move...': 2, 'said:\"if': 2, 'students,this': 2, 'start........': 2, 'datz': 2, 'confidence..': 2, 'timing': 2, 'stress.': 2, '£1250': 2, '09071512433': 2, '050703': 2, 't&csbcm4235wc1n3xx.': 2, 'callcost': 2, 'mobilesvary.': 2, 'ba': 2, 'spring': 2, 'appreciate.': 2, 'offer:the': 2, 'nokia6650': 2, 'txtauction!': 2, '81151': 2, '4t&ctxt': 2, '150p/mtmsg': 2, 'attached': 2, 'helpline': 2, 'gist': 2, '40': 2, 'thousands': 2, 'announcement': 2, 'premier.': 2, 'lip': 2, 'spare': 2, 'acting': 2, 'flights': 2, 'sat.': 2, 'mt': 2, '88039': 2, 'tscs087147403231winawk!age16': 2, '£1.50perwksub': 2, 'inch': 2, 'anywhere': 2, 'moment.': 2, 'minutes.': 2, 'smokes': 2, 'begging': 2, '0578': 2, 'opening': 2, 'own.': 2, 'word.': 2, 'thot': 2, 'nic': 2, '8077': 2, 'cashto': 2, '08000407165': 2, 'getstop': 2, '88222': 2, 'quit.': 2, 'bec': 2, 'boytoy?': 2, 'galileo': 2, 'enjoyin': 2, 'loveme': 2, 'polys:': 2, 'charity.': 2, 'mail?': 2, 'wonderful.': 2, 'mojibiola': 2, 'admirer.': 2, '09065174042.': 2, 'recd.': 2, '07821230901': 2, 'hol': 2, 'haven\\x92t': 2, 'ages': 2, 'texts,': 2, 'skyped': 2, 'kz': 2, 'sura,': 2, 'ultimatum': 2, 'countin': 2, 'aburo.': 2, 'dear...........': 2, '08002888812': 2, 'inconsiderate': 2, 'nag': 2, 'recession': 2, 'hence': 2, 'soo': 2, '09066350750': 2, '10,000': 2, 'seconds': 2, 'now.i': 2, 'version': 2, 'careful': 2, 'lovejen': 2, 'worlds': 2, 'discreet': 2, 'named': 2, 'genius': 2, 'two?': 2, 'lotta': 2, 'lately': 2, 'virgin': 2, 'mystery': 2, 'www.smsco.net': 2, 'approx': 2, 'consider': 2, 'peaceful': 2, 'matter': 2, '41685': 2, '07/11/04': 2, 'down?': 2, 'cuddle': 2, 'nap': 2, 'shesil': 2, 'drop,': 2, '10k,': 2, '5k,': 2, 'voucher,': 2, '09064011000.': 2, 'cr01327bt': 2, 'fixedline': 2, 'castor?': 2, '09058094565': 2, 'downloaded': 2, 'and,': 2, 'ear': 2, 'usb': 2, 'flash': 2, 'superb': 2, 'thought-': 2, 'nyc': 2, 'several': 2, 'taylor': 2, 'worst': 2, 'charles': 2, 'themob': 2, 'stores': 2, 'sale!': 2, 'cheaper,': 2, '08709222922.': 2, '1.5p/min': 2, '7.8p/min': 2, 'peak!': 2, 'left.': 2, 'pissed.': 2, 'sweets': 2, 'chip': 2, 'reminder': 2, 'msgs,': 2, 'msging...': 2, 'wrong,': 2, \"don\\\\'t\": 2, 'friends..!!': 2, 'diet.': 2, '88600': 2, 'landline,': 2, 'college?': 2, 'bleh.': 2, 'tons': 2, 'safe.': 2, 'in!': 2, 'community': 2, 'scores': 2, 'application': 2, 'research': 2, 'joke': 2, 'filthy': 2, 'msg...': 2, 'decision,': 2, 'feeling.': 2, 'simpler,': 2, 'welp': 2, 'time?': 2, '09050001808': 2, 'm95.': 2, 'take?': 2, 'menu.': 2, 'necklace': 2, 'racing': 2, 'crap': 2, 'borin': 2, 'boring': 2, 'pay.': 2, 'salary': 2, 'chocolate': 2, 'days.he': 2, 'talent.': 2, 'reckon': 2, 'fuck,': 2, 'ubi': 2, 'tech': 2, 'ugh.': 2, 'july': 2, 'peace..': 2, 'jesus..': 2, 'blessed': 2, 'xmas...': 2, 'yetunde': 2, 'aunts': 2, 'been?': 2, 'ü.': 2, 'pub?': 2, 'terrible': 2, 'not...': 2, 'fan...': 2, 'matter?': 2, 'id.': 2, 'anniversary': 2, 'what!': 2, 'secretly': 2, 'datebox1282essexcm61xn': 2, 'pattern': 2, 'plm': 2, 'zoe': 2, 'setting': 2, 'filling': 2, 'flirt,': 2, 'edison': 2, 'rightly': 2, 'answer\"': 2, 'speechless': 2, 'viva..': 2, 'gm,gn,ge,gnt:-)': 2, 'roast': 2, 'i\\x92d': 2, 'ls15hb': 2, 'thing!': 2, 'into:': 2, '\"because': 2, 'educational': 2, 'here..\"': 2, \"1000's\": 2, 'flirting': 2, 'bloke': 2, 'serious?': 2, 'kickoff!': 2, '83222.': 2, 'june': 2, 'sells': 2, 'monday!': 2, 'april.': 2, 'drunk!': 2, 'sends': 2, 'dat.': 2, 'deciding': 2, 'eastenders': 2, 'quiz.': 2, 'compare': 2, 'herself': 2, 'd=': 2, 'violet': 2, 'e=': 2, 'tulip': 2, 'f=': 2, 'lily': 2, 'wkent/150p16+': 2, ':)voice': 2, 'try.': 2, 'area.': 2, 'bitch': 2, '09058091854': 2, 'box385': 2, 'm6': 2, '6wu': 2, '09050003091': 2, 'c52.': 2, 'gossip': 2, 'clear': 2, 'movies.': 2, 'breath': 2, 'her.i': 2, 'cry': 2, 'craziest': 2, 'her.love': 2, 'singing': 2, 'curry': 2, 'later..': 2, 'clock.': 2, '09061221061': 2, '28days.': 2, 'box177.': 2, 'm221bp.': 2, '2yr': 2, 'warranty.': 2, 'p£3.99': 2, 'meeting?': 2, 'tomorro': 2, 'fret.': 2, 'march.': 2, 'scary': 2, 'math.': 2, 'o:-)': 2, 'fri?': 2, '08000776320': 2, 'mate.': 2, 'falls': 2, 'sar': 2, '4fil': 2, 'hee': 2, 'silently': 2, 'roommate': 2, 'wrc': 2, 'oz?': 2, 'lucozade': 2, 'energy!': 2, 'le': 2, '61200': 2, '(25p),': 2, 'packs': 2, 'lucozade.co.uk/wrc': 2, 'itcould': 2, 'either.': 2, 'toot': 2, 'eat?': 2, 'chance,': 2, 'bigger': 2, 'this?': 2, 'annoying': 2, 'makin': 2, 'itself..': 2, 'ya...': 2, 'neft': 2, 'beneficiary': 2, 'sura': 2, 'www.ldew.com.subs16+1win150ppmx3': 2, 'map': 2, 'apart': 2, 'door,': 2, '9?': 2, 'creepy': 2, 'i,': 2, '08719181513.': 2, 'damn,': 2, \"k..k..i'm\": 2, 'fine:)when': 2, 'course?': 2, 'nok': 2, 'college.': 2, 'rofl': 2, 'invest': 2, 'delay.': 2, '84128': 2, 'www.textcomp.com': 2, \"1's\": 2, 'purse': 2, 'email?': 2, 'princess': 2, 'credit!': 2, 'sweet!': 2, 'sleep!': 2, 'hun!': 2, 'flip': 2, 'go...': 2, 'nw,': 2, 'jd': 2, 'accounts': 2, 'id,': 2, \"parents'\": 2, '10p/min.': 2, 'weirdest': 2, 'l8tr': 2, 'jane': 2, 'calls£1/minmoremobsemspobox45po139wa': 2, 'tee': 2, 'bye.': 2, 'dough': 2, 'control': 2, 'report?': 2, 'jerry': 2, 'cartoon': 2, 'irritates': 2, 'fails': 2, 'it...!..!!': 2, 'birthdate': 2, 'nydc': 2, 'garbage': 2, 'items': 2, 'knackered': 2, 'gold': 2, 'lions': 2, 'lionm': 2, 'mono': 2, 'lionp': 2, 'poly.': 2, 'jokin': 2, 'whenevr': 2, 'potter': 2, 'phoenix': 2, '(book': 2, '5)': 2, 'harry,': 2, 'readers!': 2, 'correct.': 2, 'dunno,': 2, 'thing?': 2, 'february': 2, 'interest': 2, '6hrs.': 2, 'test.': 2, 'free2day': 2, \"george's\": 2, 'jordan!txt': 2, '89080': 2, 'celeb!4': 2, '0870241182716': 2, 'theres': 2, 'soul': 2, 'ned': 2, 'hurting': 2, 'main': 2, 'sweetie': 2, '4a': 2, 'whn': 2, 'suntec': 2, 'dance': 2, 'shopping.': 2, '0870..k': 2, 'butt.': 2, 'bar': 2, '08718730666': 2, '(10p/min).': 2, 'mobiles.': 2, 'offers.': 2, 'call2optout/lf56': 2, 'problem..': 2, 'tlk': 2, 'ideal': 2, 'front': 2, 'tirunelvali': 2, 'unsold.': 2, 'bk': 2, 'hear.': 2, 'sinco': 2, 'payee.': 2, 'icicibank.com': 2, 'beware': 2, 'frauds.': 2, 'disclose': 2, 'caring': 2, 'tuition...': 2, 'option': 2, 'practicing': 2, 'beneath': 2, 'pale': 2, 'silver': 2, 'car...': 2, 'www.ldew.com': 2, 'exeter': 2, 'whose': 2, 'much\"': 2, 'coat': 2, 'guilty': 2, 'leave?': 2, 'sun...': 2, 'u:': 2, 'ok.,': 2, 'textpod': 2, 'www.textpod.net': 2, 'desperate': 2, 'monkeys': 2, 'lessons?': 2, 'liao..': 2, 'wat..': 2, 'costing': 2, 'lyfu': 2, 'lyf': 2, 'ke': 2, 'earlier...': 2, 'lucy': 2, 'hubby': 2, 'calls£1/minmobsmorelkpobox177hp51fl': 2, 'fever': 2, 'play,': 2, \"doesn\\\\'t\": 2, 'may,': 2, 'yesterday,': 2, 'modules': 2, 'guy,': 2, 'musthu': 2, '80488': 2, 'cold': 2, 'serious.': 2, 'messenger': 2, 'sha': 2, 'energy': 2, 'da:)whats': 2, 'along': 2, 'mobile.': 2, 'testing': 2, 'station.': 2, 'format': 2, 'prey': 2, 'shortly.': 2, 'forum': 2, 'aunt': 2, 'screaming': 2, 'hungry...': 2, 'konw': 2, 'waht': 2, 'rael': 2, 'gving': 2, 'exmpel:': 2, 'jsut': 2, 'evrey': 2, 'splleing': 2, 'wrnog..': 2, 'sitll': 2, 'raed': 2, 'wihtuot': 2, 'ayn': 2, 'mitsake..': 2, 'sleep..sweet': 2, 'joining': 2, 'prospects': 2, 'filled': 2, 'jia': 2, 'sux': 2, '(preferably': 2, 'kegger)': 2, 'sale.': 2, 'use.': 2, 'meaning:::::': 2, '\"miss': 2, '\"best': 2, 'life\"': 2, 'wifi': 2, 'no:-)i': 2, 'rumour': 2, 'chennai:-)': 2, '7250': 2, 'part!': 2, 'guess.': 2, 'idk': 2, 'wtf': 2, 'kicks': 2, 'dime': 2, 'transfer': 2, 'falling': 2, 'force': 2, 'yourself,': 2, 'smeone': 2, 'flame.': 2, 'propose': 2, 'gods': 2, 'blessings!': 2, 'morning.:': 2, 'probably,': 2, 'special?': 2, 'dippeditinadew,': 2, 'lovingly': 2, 'touched': 2, 'itwhichturnedinto': 2, 'gifted': 2, 'tomeandsaid,this': 2, 'prob...': 2, 'oz': 2, 'flaky': 2, 'sooooo': 2, 'winning': 2, 'tooo': 2, \"'simple'\": 2, 'difficult..': 2, '09058094599': 2, 'confuses': 2, 'things,': 2, 'urgnt.': 2, 'wating': 2, 'british': 2, 'hotels': 2, 'nothing!': 2, '£350!': 2, 'sw73ss': 2, '4u,': 2, 'dracula': 2, 'ghost,': 2, 'addamsfa,': 2, 'munsters,': 2, 'exorcist,': 2, 'twilight': 2, 'constant': 2, 'shit,': 2, 'allow': 2, 'sell.': 2, 'b.': 2, 'msg150p': 2, '2rcv': 2, 'hlp': 2, '08712317606': 2, 'tomo,': 2, 'switch': 2, 'lead:)': 2, 'bag..i': 2, \"'ll\": 2, '80608.': 2, 'www.movietrivia.tv': 2, '08712405022,': 2, 'partnership': 2, 'mostly': 2, 'compromised': 2, 'toughest': 2, '£6': 2, 'sh!jas': 2, 'tonight!': 2, '-sub': 2, 'ringtone-get': 2, 'free-send': 2, '81618-?3': 2, 'week-stop': 2, 'sms-08718727870': 2, 'plans.': 2, '81303': 2, 'credit.': 2, 'rd.': 2, 'moves': 2, 'slip': 2, 'wkg': 2, 'man!': 2, 'bed...': 2, 'keeps': 2, 'gotten': 2, 'bed?': 2, 'unknown': 2, '09094646899': 2, 'vu': 2, 'bcm1896wc1n3xx': 2, '2007': 2, 'indeed': 2, \"'maangalyam\": 2, \"(alaipayuthe)'\": 2, 'telephone': 2, 'bahamas!': 2, 'callfreefone': 2, '08081560665': 2, 'bahamas': 2, 'of£2000': 2, '18+only.': 2, '07786200117': 2, 'calm': 2, 'up4': 2, 'happy..': 2, 'becomes': 2, 'schedule': 2, 'ya.': 2, 'contacts': 2, 'forgets': 2, 'mandan': 2, '07734396839': 2, 'ibh': 2, 'offer:': 2, 'nokia6600': 2, 'txtauction!txt': 2, 'word:start': 2, 'no:81151': 2, 'now!4t&': 2, 'mind...': 2, 'yourself.': 2, 'buns!': 2, 'favourite': 2, 'invaders': 2, 'orig': 2, 'console.': 2, 'charge)': 2, 'o2.co.uk/games': 2, 'transfr': 2, 'amt': 2, 'philosophy': 2, 'didn\\x92t': 2, 'win:': 2, 't.': 2, 'foley': 2, 'ipod!': 2, 'prizes': 2, 'www.win-82050.co.uk': 2, 'babe?': 2, 'desparate': 2, 'school?': 2, '3100': 2, 'dearly.': 2, 'combine': 2, 'treat.': 2, 'supervisor': 2, '(or': 2, 'wan...': 2, '89555': 2, 'g696ga': 2, 'flight': 2, 'chat.': 2, 'pm.': 2, 'tests.': 2, 'joanna': 2, '12mths': 2, 'laptop?': 2, 'online?': 2, 'have.': 2, 'embarassed,': 2, 'delete': 2, 'knew,': 2, 'waheed': 2, 'mmmm': 2, 'masters': 2, 'avoiding': 2, '0776xxxxxxx': 2, '326': 2, '(18': 2, 'uh,': 2, 'heads': 2, 'vday': 2, 'wah...': 2, \"there're\": 2, 'table': 2, 'build': 2, 'snowman': 2, 'fights.': 2, 'electricity': 2, 'kadeem': 2, 'good?': 2, 'scold': 2, 'real.': 2, 'sch...': 2, 'accordingly.': 2, 'wud': 2, 'tonite!': 2, '09066358152': 2, 'prompts.': 2, 'careful!': 2, 'disturbing': 2, 'weed\"': 2, 'excellent!': 2, 'evening.': 2, 'tcs,': 2, 'k...k:)why': 2, 'job:)': 2, 'lousy': 2, 'woken': 2, 'uncle.': 2, 'aka': 2, 'ic.': 2, '6hrs': 2, 'midnight,': 2, 'laptop...': 2, 'ish!': 2, 'delhi': 2, 'silent.': 2, 'weekly!': 2, 'yo.': 2, 'fringe': 2, 'distract': 2, '61610': 2, 'unsubscribe.': 2, 'help:08712400602450p': 2, 'tones2you.co.uk': 2, 'smth.': 2, 'mel': 2, 'choice.': 2, 'responsibility.': 2, 'rule': 2, 'whatever.': 2, '08006344447': 2, 'princess,': 2, 'onwards': 2, 'alone?': 2, 'obviously,': 2, 'miss.': 2, 'affair?': 2, 'nd': 2, 'parco': 2, 'ready...': 2, 'yay': 2, 'hallaq': 2, 'jealous': 2, 'color': 2, 'mah...': 2, 'gender': 2, 'sleepwell&amp;take': 2, 'mca.': 2, 'words.': 2, 'england!': 2, '84199': 2, 'thanksgiving': 2, 'art': 2, 'rub': 2, 'clever': 2, 'hols.': 2, 'stamped': 2, 'envelope': 2, 'uk,': 2, '113,': 2, 'bray,': 2, 'wicklow,': 2, 'eire.': 2, 'saturday!': 2, 'www.idew.com': 2, 'skillgame,': 2, '1winaweek,': 2, 'age16.': 2, '150ppermesssubscription': 2, 'manage': 2, 'shitload': 2, 'china': 2, 'does,': 2, 'beg': 2, 'stayin': 2, 'sorted': 2, 'satisfy': 2, 'cld': 2, 'prefer': 2, 'mind,': 2, 'you:-)': 2, 'kindly': 2, 'wales': 2, 'killed': 2, 'smashed': 2, \"everybody's\": 2, 'failed': 2, 'ps': 2, 'tok': 2, 'specific': 2, 'pages': 2, '6.30': 2, 'father:': 2, '\"power': 2, 'frndship\"': 2, 'neck': 2, 'hour?': 2, 'continue': 2, 'urgent!!': 2, 'holy': 2, 'billion': 2, 'tmr...': 2, 'youre': 2, 'turning': 2, 'ref': 2, 'goin?': 2, 'belive': 2, 'test?': 2, 'slots': 2, 'discussed': 2, 'sat...': 2, 'texts.': 2, '2morro': 2, 'over!': 2, 'spoiled?': 2, 'complaint': 2, 'lk': 2, 'lov': 2, '01223585334': 2, 'cum.': 2, '2c': 2, 'shagged': 2, '8552.': 2, '2end': 2, '8552': 2, 'waited': 2, 'please!': 2, 'huge': 2, 'mids': 2, 'oranges': 2, 'upd8': 2, '21870000>hi': 2, 'mailbox': 2, 'messaging': 2, '21': 2, 'matches.': 2, '09056242159': 2, 'retrieve': 2, 'tell.': 2, 'nothin': 2, 'all?': 2, 'ish?': 2, 'poem:': 2, 'cheer': 2, \"that'll\": 2, 'quiz.win': 2, 'duchess': 2, 'cornwall': 2, 'be?': 2, '82277.unsub': 2, '008704050406': 2, 'bags,': 2, 'congratulations!': 2, 'bt-national-rate.': 2, 'nahi': 2, 'wo': 2, 'jo': 2, 'dan': 2, 'food?': 2, 'aww': 2, 'forever!': 2, 'staring': 2, 'cm': 2, 'unnecessarily': 2, '08701417012150p': 2, 'logo/pic': 2, 'issue': 2, 'weigh': 2, 'regret': 2, 'tv.': 2, 'gamestar': 2, 'active': 2, '£250k': 2, 'team.': 2, 'scoring': 2, 'saturday,': 2, 'register': 2, 'now!sky': 2, '88088': 2, 'tom': 2, 'measure': 2, 'propsd': 2, 'gv': 2, 'lv': 2, 'lttrs,': 2, 'threw': 2, 'thm.': 2, 'aproach': 2, 'dt': 2, 'truck': 2, 'speeding': 2, 'girl,d': 2, \"'hw\": 2, \"fast?'\": 2, '\"boost': 2, 'thy': 2, 'lived': 2, 'happily': 2, '2gthr': 2, 'evrydy': 2, 'moral': 2, 'story:-': 2, 'msgs:d;):': 2, 'arent': 2, 'bluff': 2, 'impossible': 2, 'www.fullonsms.com': 2, 'love:': 2, 'piece': 2, 'wiskey': 2, 'brandy': 2, 'rum': 2, 'gin': 2, 'vodka': 2, 'scotch': 2, 'shampain': 2, '\"kudi\"yarasu': 2, 'dhina': 2, 'vaazhthukkal.': 2, 'things?': 2, 'kg': 2, 'thangam,': 2, 'dressed': 2, 'kills': 2, 'kay...': 2, 'roger': 2, 'nasty': 2, 'jesus': 2, 'christ': 2, 'hands': 2, 'push': 2, 'down...': 2, 'water.': 2, 'swiss': 2, 'yrs.': 2, 'jobs': 2, 'politicians.': 2, 'rights': 2, 'legal': 2, 'online.': 2, '1x150p/wk.': 2, 'donno': 2, 'update:': 2, 'properly': 2, 'calling.': 2, 'frndship': 2, 'pongal?do': 2, '630': 2, 'sry': 2, 'finish?': 2, 'furniture': 2, 'lock': 2, 'shoving': 2, 'papers': 2, 'serious': 2, 'mu?': 2, '24': 2, 'acl03530150pm': 2, 'indyarocks.com': 2, 'da..today': 2, 'bids': 2, 'u?????': 2, 'boytoy!': 2, 'is!': 2, 'frens...': 2, 'mmmmm': 2, 'medicine.': 2, 'relatives': 2, 'dont.': 2, 'chain': 2, 'good.environment': 2, 'terrific': 2, 'nice:)': 2, 'keys': 2, 'mini': 2, 'ltd.': 2, 'am,': 2, 'superior': 2, 'boat': 2, 'picsfree1': 2, 'ruin': 2, 'fathima': 2, 'months?': 2, 'bc': 2, '6...': 2, 'yeah!': 2, 'knock': 2, 'innocent': 2, 'hoped': 2, 'bills': 2, '2marrow': 2, '9pm.': 2, 'fab': 2, 'tiwary': 2, 'bang': 2, 'bed!': 2, 'moms': 2, 'pap': 2, 'arts': 2, '150p/mtmsgrcvd18': 2, 'dollar': 2, 'pull': 2, 'can,': 2, 'booty': 2, 'chat,': 2, 'bro': 2, 'amongst': 2, 'remember.': 2, 'mobile?': 2, '69696': 2, '3lp': 2, 'queen?': 2, 'northampton': 2, 'not!': 2, 'abj': 2, 'serving.': 2, 'include:': 2, '3)': 2, 'instructions': 2, 'anna': 2, 'nagar': 2, 'away,': 2, 'shirts': 2, 'for?': 2, '\"valued': 2, 'frnds\"': 2, 'evr': 2, 'neither': 2, 'hugs': 2, 'west': 2, 'fastest': 2, 'growing': 2, 'rcvd': 2, 'chase': 2, 'tablets': 2, 'tariffs': 2, 'steam': 2, 'reg': 2, 'long.': 2, 'abiola.': 2, 'luxury': 2, 'canary': 2, 'islands': 2, 'james': 2, 'you:-.': 2, 'mag': 2, 'really?': 2, 'diwali': 2, 'tick': 2, 'meh?': 2, 'thgt': 2, 'today:)': 2, 'place,': 2, 'lower': 2, 'dark': 2, 'gud..k,': 2, 'nyt..': 2, 'of.': 2, 'exhaust': 2, 'campus.': 2, 'creep': 2, 'lil': 2, 'far...': 2, 'property': 2, 'interflora': 2, '150p.': 2, 'see!': 2, '09058099801': 2, 'b4190604,': 2, '7876150ppm': 2, 'shopping?': 2, 'nice.nice.how': 2, 'working?': 2, 'yellow': 2, 'doubt': 2, 'note': 2, 'japanese': 2, 'proverb:': 2, 'it,u': 2, 'it,leave': 2, 'it!!': 2, 'coin': 2, 'shortly': 2, 'mum,': 2, 'idk.': 2, 'freedom': 2, 'twenty': 2, 'probs': 2, 'low': 2, 'swatch': 2, 'ganesh': 2, 'collecting': 2, 'trips?': 2, 'helloooo...': 2, 'up..!': 2, '\"sweet\"': 2, '\"morning\"': 2, '\"welcomes\"': 2, '\"you\"': 2, '\"enjoy\"': 2, '\"this': 2, '\"with': 2, 'joy\"..': 2, '\"gud': 2, 'mrng\".': 2, 'natural': 2, 'wuld': 2, 'flaked': 2, 'bucks.': 2, 'cheaper': 2, 'bruce': 2, 'pls:-)': 2, 'chest': 2, 'brief': 2, 'abi.': 2, 'idiot': 2, 'hang': 2, 'worry,': 2, 'ü?': 2, 'reboot': 2, 'pt2': 2, 'bottom': 2, 'phoned': 2, 'improved': 2, 'club!': 2, 'msgs@150p': 2, 'hm': 2, 'sch.': 2, 'salon': 2, 'boring.': 2, 'evenings': 2, 'raj': 2, 'usc': 2, 'crab': 2, 'waves': 2, 'footprints': 2, 'clearing': 2, 'weeks!': 2, '\"how': 2, 'admin': 2, 'visionsms.com': 2, 'sat?': 2, 'andros': 2, 'meets': 2, 'foot': 2, 'sigh*': 2, 'standing.': 2, 'dad.': 2, 'vth': 2, '5.30': 2, 'hill.': 2, 'gone.': 2, 'tuition': 2, 'ru?': 2, 'removal': 2, '08708034412': 2, 'liao,': 2, 'cancelled': 2, 'agalla': 2, 'hunny': 2, 'j!': 2, 'count': 2, 'otside': 2, 'tomo?': 2, 'size': 2, '08712101358': 2, 'it\\x92s': 2, 'tight': 2, 'av': 2, 'everyday': 2, 'curious': 2, 'postcard': 2, 'mahal': 2, 'red,red': 2, 'blood,blood': 2, 'heart,heart': 2, '1-u': 2, 'relation!': 2, '2-u': 2, '3-u': 2, '4-some1': 2, 'luvs': 2, '5+-': 2, 'praying': 2, 'u.:-)': 2, 'it....': 2, 'smiling:-)': 2, 'by,': 2, 'ding': 2, 'allowed': 2, '\"its': 2, 'necessary': 2, 'watever': 2, 'shared': 2, 'hug': 2, 'messaged': 2, 'deus': 2, '08000930705.': 2, 'tap': 2, 'spile': 2, 'seven.': 2, 'broad': 2, 'canal.': 2, 'engin?': 2, 'east': 2, 'lot...': 2, 'cheat': 2, 'block': 2, 'one?': 2, 'ruining': 2, 'another.': 2, 'moved': 2, 'ee': 2, '%': 2, 'easily': 2, 'custom': 2, 'sac': 2, 'pobox45w2tg150p': 2, 'start,': 2, '!!!!': 2, 'time,': 2, 'stay.': 2, 'forgotten': 2, 'reverse': 2, 'cheating.': 2, 'mathematics.': 2, '2waxsto': 2, 'minimum': 2, 'elaine,': 2, 'theatre.': 2, 'drunken': 2, 'world.': 2, 'mess': 2, 'sound?': 2, '____': 2, 'iq.': 2, 'ias': 2, 'answer.': 2, 'mths?': 2, 'camera/video': 2, '/7': 2, 'free?': 2, 'films': 2, 'delivery.': 2, '1030': 2, 'bloomberg': 2, '-message': 2, '+447797706009': 2, 'http://careers.': 2, 'bloomberg.com': 2, \"priscilla's\": 2, 'wisdom..': 2, 'period': 2, 'kent': 2, 'wan2': 2, 'meet+greet': 2, 'westlife': 2, 'tour?': 2, '1)unbreakable,': 2, '2)untamed,': 2, '3)unkempt.': 2, '1,2': 2, '83049.': 2, '+std': 2, '(bank': 2, 'granite': 2, 'strong-buy)': 2, 'explosive': 2, '*****up': 2, '300%': 2, 'nasdaq': 2, 'cdgt': 2, '$5.00': 2, 'per..': 2, 'journey!': 2, 'base': 2, 'placement': 2, 'didn‘t': 2, '9!': 2, 'pix?': 2, 'love!!': 2, 'lion': 2, '*devouring': 2, 'airtel': 2, 'sooner': 2, '3uz': 2, 'jaya': 2, 'it..let': 2, 'mumtaz': 2, \"mumtaz's\": 2, 'husband': 2, 'sister.': 2, 'paris': 2, 'guaranteed!': 2, 'incredible': 2, 'txts!': 2, 'o2fwd': 2, '18p/txt': 2, 'ship': 2, 'cars.': 2, 'maturity': 2, 'things..': 2, 'things...': 2, '*have': 2, 'evening*': 2, 'decimal': 2, 'message,': 2, 'kavalan': 2, 'causing': 2, 'blank': 2, 'tonights': 2, 'game!': 2, '84199.': 2, 're-schedule.': 2, 'despite': 2, '7,': 2, 'senthil': 2, 'sucks': 2, 'flat,': 2, 'lives.': 2, 'brothas?': 2, 'vegas': 2, 'texted.': 2, 'vewy': 2, 'tirupur.': 2, 'paid.': 2, 'networking': 2, 'swimming?': 2, 'pool': 2, 'live..': 2, 'note:': 2, 'co.': 2, 'disconnect': 2, 'call,coz': 2, \"'terrorist'\": 2, 'itz': 2, 'confirmd': 2, 'verified': 2, 'cnn': 2, 'ibn.': 2, 'hppnss,': 2, 'sorrow,': 2, 'forevr': 2, 'goodfriend': 2, 'holder': 2, 'lounge': 2, 'stayed': 2, 'reply,': 2, 'eaten': 2, 'mila,': 2, 'age23,': 2, 'blonde,': 2, 'mtalk': 2, '69866.18': 2, '30pp/txt': 2, '5free.': 2, 'increments.': 2, 'help08718728876': 2, 'ful': 2, 'atlast': 2, 'information.': 2, 'funk': 2, 'tones2u': 2, \"weekend's\": 2, 'cute:': 2, 'prove': 2, '.gud': 2, 'noon....': 2, 'funeral': 2, 'tnc': 2, 'brah,': 2, 'possession': 2, 'protect': 2, 'e-threats.': 2, 'sib': 2, 'sensitive': 2, 'passwords,atm/sms': 2, 'anybody.': 2, 'blu': 2, 'concert': 2, 'ipad.': 2, '%.': 2, 'mate!': 2, 'pink': 2, 'widelive.com/index.': 2, 'sent.': 2, 'practice': 2, 'melt': 2, 'ground.': 2, 'her?': 2, 'needed': 2, 'love...': 2, 'yourself...': 2, '09061743386': 2, 'txts.': 2, 'housewives!': 2, '0871750.77.11!': 2, 'bt-national': 2, 'landlines!': 2, 'mall': 2, '/': 2, 'pie': 2, 'dial': 2, 'california.': 2, 'vikky,': 2, '09066364311': 2, 'literally': 2, 'understand.': 2, 'friend,': 2, 'kothi': 2, 'yijue': 2, 'sem': 2, 'actual': 2, 'soup': 2, 'ex...': 2, 'value': 2, 'reasonable': 2, 'girls.': 2, 'morphine': 2, 'kappa': 2, 'law': 2, 'piss': 2, 'games!': 2, 'a,': 2, 'guessing': 2, 'teeth': 2, 'royal': 2, 'skype': 2, 'calicut': 2, 'hot,': 2, 'sticky': 2, 'interested.': 2, 'indicate': 2, 'had.': 2, 'challenge': 2, 'lush!': 2, 'day!2find': 2, 'drivin': 2, 'greatest': 2, 'courage': 2, 'bear': 2, 'defeat': 2, 'heart....gn': 2, 'fucked': 2, 'beauty': 2, 'natalja': 2, '(25/f)': 2, 'yes-440': 2, 'no-440': 2, 'www.sms.ac/u/nat27081980': 2, 'park.': 2, 'moving': 2, 'relation': 2, 'sunlight.': 2, 'shelf:)': 2, 'egg.': 2, 'mokka': 2, '09061744553': 2, 'polyh': 2, 'bone': 2, 'epsilon': 2, 'mesages': 2, 'lst': 2, 'got\"': 2, 'massive': 2, 'fine..absolutly': 2, \"don't,\": 2, 'www.t-c.biz': 2, 'polo': 2, '373': 2, 'w1j': 2, '6hl': 2, 'academic': 2, 'convinced': 2, 'ate?': 2, 'come...': 2, 'goodnight.': 2, 'travel.': 2, 'suppose': 2, 'more.': 2, 'explicit': 2, '30': 2, 'secs?': 2, '02073162414': 2, '20p/min': 2, 'smiling.': 2, 'boytoy.': 2, 'i?': 2, 'gain': 2, '89070': 2, 'realise': 2, 'used.': 2, 'here....': 2, 'mnths?': 2, 'callback,': 2, 'course.': 2, 'common.': 2, 'angry.': 2, '86888': 2, 'subscribe6gbp/mnth': 2, '3hrs': 2, 'stop?txtstop': 2, 'feelin': 2, 'atm,': 2, 'capital': 2, 'acted': 2, 'mis': 2, 'prabha': 2, 'bit?': 2, 'loyal': 2, 'customers': 2, '09066380611': 2, 'cancer': 2, 'print': 2, 'born,': 2, 'smth..': 2, 'preferably': 2, 'sleepin,': 2, 'arcade.': 2, 'minor': 2, 'life...!!': 2, 'nite.': 2, 'denis': 2, 'woulda': 2, 'calling!': 2, 'texted': 2, 'er,': 2, 'shoppin': 2, 'too.pray': 2, 'allah': 2, '08718726270': 2, 'celebration': 2, 'nuther': 2, 'stops.': 2, 'warner': 2, 'home!': 2, 'masters.': 2, 'pussy...': 2, 'iouri': 2, 'donate': 2, '£2.50': 2, 'happen.': 2, '(': 2, 'esplanade': 2, '(nat': 2, 'cherish': 2, 'model.': 2, 'wallpaper': 2, 'sometime': 2, 'dear..slp': 2, 'well..take': 2, 'care..swt': 2, 'dreams..muah..': 2, '4eva': 2, 'garden': 2, 'bulbs': 2, 'seeds': 2, '£33:50': 2, 'scotsman': 2, 'go2': 2, 'notxt.co.uk': 2, 'wylie,': 2, 'relax,': 2, 'gastroenteritis.': 2, 'replace': 2, 'reduce.': 2, 'vomit.': 2, 'limiting': 2, 'illness': 2, '09061213237': 2, 'm227xy.': 2, 'leave.': 2, 'favorite': 2, 'bottle': 2, 'amused?': 2, 'joking!': 2, 'mega': 2, 'shu': 2, 'island': 2, '2p': 2, 'home?': 2, 'law;': 2, 'miles': 2, 'jurong': 1, 'point,': 1, 'crazy..': 1, 'buffet...': 1, 'amore': 1, 'chgs': 1, 'aids': 1, 'patent.': 1, 'cried': 1, 'breather.': 1, 'granted': 1, 'fulfil': 1, 'will!!': 1, 'xxxmobilemovieclub:': 1, 'credit,': 1, 'here>>': 1, 'http://wap.': 1, 'xxxmobilemovieclub.com?n=qjkgighjjgcbl': 1, \"k...i'm\": 1, 'name...': 1, 'wet.': 1, 'feel.': 1, 'gota': 1, 'macedonia': 1, 'goals/team': 1, 'news.': 1, 'try:wales,': 1, '4txt/ú1.20': 1, 'poboxox36504w45wq': 1, 'name?': 1, 'comin...': 1, 'ffffffffff.': 1, 'sooner?': 1, 'forced': 1, 'slice.': 1, 'convincing.': 1, 'tea?': 1, 'packing': 1, 'ahhh.': 1, 'vaguely': 1, 'clear,': 1, 'apologetic.': 1, 'fallen': 1, 'actin': 1, 'spoilt': 1, 'badly': 1, 'fainting': 1, 'housework': 1, 'did?': 1, 'cuppa': 1, '£5/month': 1, 'timings': 1, '8am': 1, 'oops,': 1, 'decide...': 1, 'watts.': 1, 'arabian': 1, 'steed': 1, '07732584351': 1, 'rodger': 1, 'camcorder.': 1, 'seeing?': 1, 'endowed.': 1, 'inches...': 1, 'hep': 1, 'immunisation': 1, 'enough,': 1, 'hopefully,': 1, 'stubborn': 1, 'sucker.': 1, 'suckers.': 1, 'thinked': 1, 'eighth': 1, 'smarter': 1, 'crashing': 1, 'accomodations.': 1, 'cave\".': 1, 'offered.': 1, 'embarassing.': 1, 'sptv:': 1, 'jersey': 1, 'devils': 1, 'detroit': 1, 'wings': 1, 'hockey.': 1, 'incorrect?': 1, 'sptv': 1, 'mallika': 1, 'sherawat': 1, 'yes..gauti': 1, 'sehwag': 1, 'odi': 1, 'series.': 1, '$1': 1, 'move.': 1, 'seekers.': 1, 'forever,': 1, '\"divorce': 1, 'barbie\"?': 1, \"ken's\": 1, 'stuff!': 1, 'wah': 1, 'man...': 1, 'money...': 1, 'k..k:)where': 1, 'you?how': 1, 'performed?': 1, 'peoples': 1, 'much:)': 1, 'shy': 1, 'operate': 1, \"ta's\": 1, 'yo?': 1, 'multis.': 1, 'factory': 1, 'kano.,il': 1, 'download,': 1, 'free..': 1, 'do!': 1, 'tho-': 1, 'you‘ll': 1, 'casualty': 1, 'stuff42moro': 1, 'includes': 1, 'lido': 1, 'telugu': 1, 'movie..wat': 1, 'hairdressers': 1, 'beforehand.': 1, 'u?\"': 1, 'say.': 1, 'legal!': 1, 'ams': 1, '4the': 1, 'nyc,': 1, 'changed.': 1, 'signin': 1, 'boston.': 1, 'memorable.': 1, 'ip': 1, 'minecraft': 1, 'server': 1, 'grumpy': 1, 'lying.': 1, 'jokes...': 1, 'busy.': 1, 'plural': 1, 'dinner.msg': 1, 'after.': 1, 'loud.': 1, 'wa,': 1, 'openin': 1, 'formal...': 1, 'weight...haha...': 1, '0871277810910p/min': 1, 'egg-potato': 1, 'ratio': 1, 'needed!': 1, 'hmm...my': 1, 'directly.': 1, '5/9/03': 1, '09064019788': 1, 'box42wr29c,': 1, '-apples&pairs&all': 1, 'malarky': 1, '7548': 1, '$350': 1, '4041': 1, 'sao': 1, 'predict': 1, 'buying?': 1, 'know,yetunde': 1, 'sending.': 1, 'involve': 1, 'imposed': 1, 'bak!': 1, 'c!': 1, 'lucyxx': 1, 'cost?': 1, 'tmorrow.pls': 1, 'accomodate.': 1, 'gravel': 1, '69888!': 1, 'nt.': 1, 'msn.': 1, 'yijue@hotmail.com': 1, 'svc.': 1, 'to:': 1, '69988': 1, 'verify': 1, 'c...': 1, 'type...': 1, 'pouch': 1, 'swt': 1, '\"nver': 1, 'persons..\"': 1, 'coz..somtimes': 1, 'hearts..': 1, 'randy,': 1, 'sexy,': 1, 'local.': 1, 'ummma.will': 1, 'in.our': 1, 'hard.': 1, 'k..i': 1, 'why?': 1, 'sindu': 1, 'nevering..': 1, 'typical': 1, 'everywhere': 1, 'dirt,': 1, 'windows,': 1, 'shirt.': 1, 'mouth,': 1, 'chores': 1, 'exist,': 1, 'rain,': 1, 'hail': 1, 'mist,': 1, 'aaooooright': 1, 'me?are': 1, 'annoncement.': 1, '07046744435': 1, 'envy': 1, \"see's\": 1, 'parents.:)i': 1, 'hand:)': 1, 'excited': 1, '-pls': 1, 'bootydelious': 1, '(32/f)': 1, 'yes-434': 1, 'no-434': 1, 'www.sms.ac/u/bootydelious': 1, 'bangbabes': 1, 'bangb.': 1, 'internet/service': 1, 'cultures': 1, '09061701939.': 1, 's89.': 1, 'missunderstding': 1, \"one's?\": 1, 'escape.': 1, 'bridge': 1, 'lager.': 1, 'axis': 1, 'hmmm..': 1, 'ard...': 1, 'abt...': 1, 'hell,': 1, 'surname': 1, 'clue,': 1, 'begins': 1, 'm...': 1, 'good...fine': 1, 'mall?': 1, '~': 1, 'lifted': 1, 'hopes': 1, 'approaches': 1, 'will,': 1, 'close?': 1, 'great.bye': 1, 'handsome': 1, 'finding': 1, '30th': 1, 'august.': 1, 'www.areyouunique.co.uk': 1, 'league': 1, 'week.|': 1, ':)finally': 1, 'course:)': 1, 'ors': 1, 'stool.': 1, 'dead?': 1, '1pm': 1, 'mrt?': 1, 'evening?': 1, 'babyjontet!': 1, 'enc': 1, 'ga.': 1, 'alter': 1, 'dats': 1, 'dogg': 1, 'refund': 1, 'bruv,': 1, 'break.': 1, 'k:)k:)good:)study': 1, 'prediction.': 1, 'should.': 1, 'atm': 1, 'register.': 1, 'ubandu': 1, 'installing': 1, 'disk...you': 1, 'shop..': 1, 'scenery': 1, 'flyng': 1, 'start?': 1, 'aries': 1, 'elama': 1, 'mudyadhu.': 1, 'strict': 1, 'teacher...': 1, 'exam,': 1, 'lessons.': 1, 'gandhipuram': 1, 'rubber': 1, '10p.': 1, '25.': 1, '-msg': 1, 'recd@thirtyeight': 1, 'upstairs': 1, 'you?when': 1, 'hearing': 1, 'cant.': 1, 'pleassssssseeeeee': 1, 'sportsx': 1, 'signing,': 1, 'baig': 1, 'watches': 1, 'touched...': 1, 'commercial?': 1, 'dearly': 1, 'ups': 1, '3days': 1, 'also,': 1, '2wks.': 1, 'usps': 1, 'lag': 1, 'bribe': 1, 'nipost': 1, 'mini!!!!': 1, 'luton': 1, '0125698789': 1, 'around!': 1, 'h*': 1, 'sometme': 1, 'changed!': 1, 'credits!': 1, 'club4mobiles.com': 1, '87070.': 1, '150p/wk': 1, 'club4': 1, 'box1146': 1, 'evo.': 1, 'flash.': 1, 'jealous?': 1, 'ringtone!': 1, 'narcotics': 1, 'guess,': 1, 'objection.': 1, 'rob': 1, 'mack': 1, 'gf': 1, 'theater': 1, 'celebrations': 1, 'tool?': 1, 'someone,': 1, 'u.....': 1, 'special,': 1, 'them,': 1, 'keep-in-touch': 1, 'gdeve..': 1, 'ahold': 1, 'cruisin': 1, 'dear,shall': 1, 'tonite.busy': 1, 'street,shall': 1, 'tonite.things': 1, 'ok.varunnathu': 1, 'edukkukayee': 1, 'raksha': 1, 'ollu.but': 1, 'sense.': 1, 'gautham': 1, 'oops.': 1, 'bit.': 1, 'resend': 1, '3680.offer': 1, \"28thfeb.t&c's\": 1, 'gurl': 1, 'appropriate': 1, 'diesel': 1, 'scary,': 1, 'second.': 1, 'taxi?': 1, 'fridge!': 1, 'womdarfull': 1, 'actor': 1, '4u!:': 1, 'rodds1': 1, '21/m': 1, 'aberdeen,': 1, 'united': 1, 'kingdom.': 1, 'http://img.': 1, 'ac/w/icmb3cktz8r7!-4': 1, 'remb...': 1, 'book...': 1, 'jos': 1, 'themob>': 1, 'tones,': 1, 'gossip,': 1, 'keys?': 1, 'bookshelf': 1, 'quiz,': 1, '85222': 1, 'now!t&cs': 1, 'winnersclub': 1, '84,': 1, '3uz.': 1, 'gbp1.50/week': 1, '2day,': 1, 'way&this': 1, 'unique&i': 1, 'mylife.': 1, 'k.k:)advance': 1, 'pongal.': 1, 'hmmm...': 1, 'yoga...': 1, 'guess...': 1, 'l8': 1, 'gon': 1, 'guild.': 1, 'flight!': 1, 'k.k:)apo': 1, 'k.good': 1, '..?': 1, 'evaporated': 1, 'violated': 1, 'stealing': 1, \"employer's\": 1, 'paperwork.': 1, 'supervisor.': 1, 'custcare:08718720201.': 1, 'ta-daaaaa!': 1, 'wined': 1, 'dined': 1, 'phone...': 1, 'caroline': 1, 'favourite.': 1, 'bless': 1, 'hiding': 1, 'stranger?': 1, 'yijue.': 1, 'huiming': 1, 'prestige': 1, 'shag?': 1, 'do.interested?': 1, 'sextextuk.com': 1, 'xxuk': 1, '69876.': 1, 'jeremiah.': 1, 'iphone': 1, 'apeshit': 1, 'alcohol?': 1, 'safely': 1, 'calling.forgot': 1, 'onam': 1, 'sirji.i': 1, 'person.meet': 1, 'insha': 1, 'allah.rakhesh,': 1, 'tata': 1, 'aig': 1, 'tissco,tayseer.': 1, '08708800282': 1, 'actor.': 1, 'unemployed': 1, 'moment,': 1, 'unemployed,': 1, 'andrews-boy': 1, 'chikku:-):-db-)': 1, 'prob..': 1, \"audrey's\": 1, 'sunshine!': 1, 'dawns': 1, 'refreshed': 1, 'alive?': 1, 'z': 1, 'bluetooth!': 1, 'call2optout/f4q=': 1, 'rp176781.': 1, 'www.regalportfolio.co.uk.': 1, '08717205546': 1, 'uniform?': 1, 'cuddling': 1, 'spoil': 1, 'agree': 1, 'price.': 1, 't91.': 1, 'gbp': 1, '09057039994': 1, 'me..i': 1, 'face.:)': 1, 'lindsay': 1, 'bars': 1, 'heron': 1, 'payasam': 1, 'rinu': 1, 'taught': 1, 'becaus': 1, 'verifying': 1, 'prabu': 1, 'repairs': 1, 'tests,': 1, 'followin': 1, 'wallet': 1, 'deal:-)': 1, '945+': 1, 'owl': 1, 'buffet': 1, 'only?': 1, 'kickboxing': 1, 'lap': 1, '7.30ish?': 1, 'performance': 1, 'calculated': 1, 'month.not': 1, 'period..': 1, 'sis.': 1, 'wake.': 1, 'violated.': 1, 'salam': 1, 'wahleykkum.sharing': 1, 'news.by': 1, 'god,': 1, 'tayseer,tissco': 1, 'joined.hope': 1, 'fine.inshah': 1, 'allah,meet': 1, 'sometime.rakhesh,visitor': 1, 'hmmm...k...but': 1, 'field': 1, 'da:-)i': 1, 'administrator': 1, 'administrator..': 1, 'tone!': 1, '2814032': 1, '3x£150pw': 1, 'e£nd': 1, 'shipped.': 1, 'stoners': 1, 'disastrous': 1, 'fav': 1, 'darlings!': 1, 'always?': 1, 'busetop': 1, 'iron': 1, 'okies...': 1, 'blah...': 1, 'wendy': 1, 'cal;l': 1, '09064012103': 1, 'yes:)from': 1, '09111032124': 1, 'pobox12n146tf150p': 1, 'siva': 1, 'hostel': 1, 'aha:-.': 1, '09058094455': 1, 'voice.....': 1, 'expression?': 1, '1.childish': 1, '2.naughty': 1, '3.sentiment': 1, '4.rowdy': 1, '5.ful': 1, 'attitude': 1, '6.romantic': 1, '7.shy': 1, '8.attractive': 1, '9.funny': 1, '.irritating': 1, '.lovable.': 1, 'urination': 1, 'esplanade..': 1, 'hillsborough': 1, 'shoul': 1, 'iouri,': 1, 'txt~journey': 1, 'hasnt': 1, 'gd,now': 1, 'arrange.': 1, 'werethe': 1, 'monkeespeople': 1, 'monkeyaround!': 1, 'howdy': 1, 'gorgeous,': 1, 'howu': 1, 'foundurself': 1, 'jobyet': 1, 'sausage?love': 1, 'blimey,': 1, 'exercise,': 1, 'concentration': 1, 'years?': 1, 'hanks': 1, 'lotsly!': 1, 'k:)k:)what': 1, 'detail': 1, 'transfer?acc': 1, 'optimistic': 1, 'si.': 1, 'truffles.': 1, 'amy': 1, 'consistently': 1, 'kind.': 1, 'practicum': 1, 'links': 1, 'ears': 1, '1.20': 1, 'feeling.wavering': 1, 'individual.time': 1, 'heal': 1, 'upgrdcentre': 1, '9153.': 1, 'july.': 1, 'oral.': 1, 'position.': 1, 'roads': 1, 'slippery': 1, 'bike?': 1, 'language.': 1, 'okmail:': 1, 'screamed,': 1, 'enters': 1, 'removed.': 1, 'differ': 1, 'differ.be': 1, 'cos...': 1, '69888nyt.': 1, 'heart-': 1, '9t:)': 1, 'ah?what': 1, 'machi?any': 1, \"when're\": 1, 'mcr': 1, 'carlos,': 1, 'jaykwon': 1, 'thuglyfe': 1, 'falconerf': 1, 'railway.': 1, 'boye,': 1, 'faded': 1, 'glory,': 1, 'ralphs': 1, 'message?': 1, \"account's\": 1, 'would,': 1, 'reunion?': 1, 'now?can': 1, 'when?': 1, 'monday...': 1, 'accenture': 1, 'jackson': 1, '7ish,': 1, 'reache': 1, 'nuerologist.': 1, 'lolnice.': 1, '..water.?': 1, 'westshore': 1, 'village,': 1, 'need....|': 1, 'significance?': 1, \"g's\": 1, 'ammo': 1, 'ak': 1, 'forgiven': 1, 'no..jst': 1, 'only..': 1, '150p/mtmsgrcvd18+': 1, 's:)no': 1, 'boltblue': 1, 'poly#': 1, 'mono#': 1, 'poly3': 1, 'jamz': 1, 'toxic': 1, 'topped': 1, 'http://www.bubbletext.com': 1, 'renewal': 1, 'tgxxrz': 1, 'problematic': 1, 'bday,': 1, 'unconscious': 1, 'adults': 1, 'abnormally.': 1, 'elsewhere.': 1, 'rude,': 1, 'campus?': 1, 'urgent!:': 1, '0871-872-9755': 1, \"x'mas.\": 1, 'recieve': 1, '24hrs.': 1, 'channel': 1, 'teletext': 1, 'double-faggot': 1, '07815296484': 1, '41782': 1, '18/11/04': 1, 'l8r': 1, 'bani': 1, 'especially.': 1, 'leads': 1, 'while,': 1, '&lt;)': 1, 'buttons': 1, 'tirupur': 1, 'www.applausestore.com': 1, 'monthlysubscription@50p/msg': 1, 'max6/month': 1, 't&csc': 1, '2stop': 1, 'famous': 1, \"'anything'\": 1, 'unconditionally': 1, 'temper': 1, 'confidence,': 1, '.........': 1, \"'married'\": 1, 'self.': 1, 'oclock': 1, 'bash': 1, 'recovery': 1, 'cooped': 1, 'invitation': 1, 'cali': 1, \"bloke's\": 1, 'weddin': 1, 'alibi.': 1, 'sink': 1, 'paces,': 1, 'cage': 1, 'surrounded': 1, 'enjoy,': 1, 'cuck': 1, 'weed-deficient': 1, 'acknowledgement': 1, 'astoundingly': 1, 'tactless': 1, 'oath': 1, 'magic.': 1, 'perhaps.': 1, 'silly': 1, 'isn‘t': 1, 'uv': 1, 'causes': 1, 'mutations.': 1, 'sunscreen': 1, 'thesedays': 1, 'lunch:)you': 1, 'online?why?': 1, 'pretty.': 1, 'mei,': 1, 'haven': 1, 'huh,': 1, 'bao': 1, 'sugardad': 1, 'ah...gee..': 1, \"me:)i'm\": 1, 'brownie': 1, 'ninish,': 1, 'icky': 1, 'freek': 1, 'eh?': 1, 'ridden': 1, 'ey?': 1, 'anyways,': 1, 'pleasure!': 1, 'dick!': 1, 'missy?': 1, 'clean...': 1, 'goggles': 1, 'door?': 1, 'daddy...': 1, 'call09050000327': 1, 'arguing': 1, '£5000,': 1, '09050005321.': 1, 'arngd': 1, 'walkin': 1, 'unfortuntly': 1, 'bites': 1, 'frnt': 1, 'sayin': 1, 'textand': 1, '08002988890': 1, 'ex-wife': 1, 'kids.': 1, 'scotland.': 1, 'jjc': 1, 'tendencies.': 1, 'hmmm,': 1, 'meive': 1, 'gotany': 1, 'srsly': 1, 'yi': 1, '07753741225': 1, '08715203677': 1, '42478': 1, '24/10/04': 1, 'prix?': 1, 'stranger': 1, 'stands,': 1, 'ends.': 1, 'forever!!!': 1, 'nitz...': 1, 'pie.': 1, 'ar.': 1, 'blastin..': 1, 'occur': 1, 'on..': 1, 'rajnikant': 1, 'swimming': 1, 'ocean..:-d': 1, 'xclusive@clubsaisai': 1, '28/5': 1, 'speciale': 1, 'zouk': 1, 'paris.free': 1, 'roses': 1, 'info:': 1, '07946746291/07880867867': 1, 'bridgwater': 1, 'banter': 1, 'somethin.': 1, '22': 1, 'removed': 1, '83222': 1, 'best?rply': 1, 'dependents': 1, 'thanx4': 1, 'cer': 1, 'soon.c': 1, 'him:)then': 1, 'hundreds': 1, 'handsomes': 1, 'beauties': 1, 'aunties': 1, '1st...': 1, 'shock': 1, 'happiness..': 1, 'friendships': 1, 'grow.': 1, 'words....': 1, 'dismay': 1, 'concerned': 1, 'straight,': 1, 'useful': 1, 'hear,': 1, 'tootsie': 1, 'pop?': 1, 'longer.': 1, '89693': 1, 'seventeen': 1, 'seven': 1, 'hundred': 1, 'ml': 1, 'apply.2': 1, '80062.': 1, 'funny...': 1, 'sweetheart,': 1, 'biola': 1, 'fetching': 1, 'restock': 1, 'thanksgiving,': 1, 'effects!': 1, 'brighten': 1, 'allo!': 1, 'braved': 1, 'triumphed.': 1, 'b‘ham.': 1, 'uncomfortable.': 1, '08715203694': 1, 'call09050000327.': 1, 'sonetimes': 1, 'rough': 1, 'tuesday?': 1, 'wesleys': 1, 'drugs!': 1, \"dealer's\": 1, 'rays.': 1, 'cloud': 1, 'rain.': 1, 'more,': 1, 'wikipedia.com': 1, '88800': 1, '89034': 1, '08718711108': 1, 'repent': 1, 'first...': 1, 'de:-).': 1, 'next:-)..': 1, 'positions': 1, 'kama': 1, 'sutra': 1, 'nange': 1, 'bakra': 1, 'kalstiya..then': 1, 'tea/coffee?': 1, \"carlos'll\": 1, 'lakhs:)': 1, 'msg?': 1, 'laugh!': 1, 'sun0819': 1, 'posts': 1, 'hello:\"you': 1, 'hi!!!\"': 1, '08452810071': 1, 'ditto.': 1, 'peace.': 1, 'milk..': 1, 'maybe?!': 1, 'wetherspoons?': 1, 'piggy,': 1, 'freaky': 1, 'yelling': 1, 'scrappy.': 1, \"'hex'\": 1, 'explain!': 1, 'sdryb8i': 1, 'sue.': 1, 'lapdancer.': 1, 'sex.': 1, 'sue': 1, '89555.': 1, 'g2': 1, '1da': 1, '150ppmsg': 1, 'lect.': 1, 'crying': 1, 'map..': 1, 'imprtant': 1, 'tomorw.': 1, 'dear,me': 1, 'cherthala.in': 1, 'bfore': 1, 'start.i': 1, 'accordingly.or': 1, 'coming.tmorow': 1, 'engaged': 1, 'holiday.': 1, 'bold.': 1, '448712404000>please': 1, '08712404000': 1, 'open?': 1, '1405,': 1, '1680,': 1, '1843.': 1, 'small,': 1, 'law,': 1, 'entrepreneurs': 1, \"alex's\": 1, 'corporation': 1, 'working!': 1, 'k..u': 1, 'pay?': 1, 'prevent': 1, 'dehydration': 1, 'fluids': 1, 'weird,': 1, '?-': 1, 'happening?': 1, 'dear..i': 1, 'so.so': 1, \"sms'd\": 1, 'trek': 1, 'town,': 1, 'harri': 1, 'n-gage': 1, 'deck': 1, 'nokia,': 1, 'www.cnupdates.com/newsletter.': 1, 'alerts': 1, 'shitstorm': 1, 'attributed': 1, '08714712388': 1, 'dorm': 1, 'account,': 1, '+449071512431': 1, 'lesson?': 1, 'sth...': 1, 'specs.': 1, 'px3748': 1, '08714712394': 1, 'macha': 1, 'upset.i': 1, 'mindset.believe': 1, 'us.let': 1, 'again.call': 1, \"s'fine.\": 1, 'anytime.': 1, 'wondar': 1, 'flim.': 1, 'cookies': 1, 'jelly': 1, 'still.maybe': 1, 'same,so': 1, 'it.or': 1, 'admit,i': 1, 'mad.then': 1, 'correction?or': 1, 'life.and': 1, 'world,may': 1, 'running.lets': 1, 'scrumptious...': 1, 'long!': 1, 'dao': 1, 'omw,': 1, 'half8th': 1, 'exactly.': 1, 'jide': 1, 'visiting': 1, 'alertfrom:': 1, 'jeri': 1, 'stewartsize:': 1, '2kbsubject:': 1, 'low-cost': 1, 'prescripiton': 1, 'drvgsto': 1, '123': 1, \"didn't.\": 1, 'steak': 1, 'convincing..just': 1, 'neglect': 1, 'it..just': 1, 'opportunity.all': 1, 'fast.pls': 1, 'prayers': 1, 'dear.rakhesh': 1, ':)all': 1, 'ahead:': 1, '….': 1, \"hadn't\": 1, 'clocks': 1, 'realised': 1, 'wahay.': 1, 'ladies.': 1, 'gaze': 1, 'eyes.': 1, 'lido.': 1, '930.': 1, 'chance.': 1, '82324.': 1, '08706091795': 1, 'year?': 1, 'years,': 1, 'tattoos?': 1, 'caveboy': 1, 'sorry-i': 1, 'confused': 1, 'please?!': 1, 'holla?': 1, 'faith': 1, 'possible,hope': 1, 'work,love': 1, 'beautiful,may': 1, 'christmas!merry': 1, 'christmas!': 1, 'you/carlos': 1, 'is/are': 1, \"phone's\": 1, 'vibrate': 1, 'paris.': 1, 'nights,': 1, '£79': 1, '08704439680ts&cs': 1, 'grandmas.': 1, 'ill?': 1, 'hungover!': 1, 'unclaimed!': 1, '09066368327': 1, 'closingdate04/09/02': 1, 'claimcode': 1, 'm39m51': 1, '£1.50pmmorefrommobile2bremoved-mobypobox734ls27yf': 1, 'gua...': 1, 'faber': 1, 'yest...': 1, 'goin,': 1, 'dramatic.': 1, 'schools': 1, 'closed': 1, 'hunting': 1, 'drunkard!': 1, 'idc': 1, 'weaseling': 1, 'trash.': 1, 'card!': 1, 'slave,': 1, 'punish': 1, 'beerage?': 1, 'randomlly': 1, 'fixes': 1, 'spelling.': 1, 'partner?': 1, 'community.': 1, '(100p/sms)': 1, '087018728737,': 1, 'toppoly': 1, 'tune': 1, '81618,': 1, 'pole.': 1, '08718727870.': 1, 'fondly': 1, 'y?where': 1, 'dogbreath?': 1, 'sounding': 1, 'al!!!!!!!!!': 1, 'scream.': 1, 'weighed': 1, 'weight!': 1, 'woohoo!': 1, 'uncountable': 1, 'dictionary.': 1, 'around.': 1, '9996.': 1, '14thmarch.': 1, 'availa': 1, 'petey': 1, 'whereare': 1, 'friendsare': 1, 'thekingshead': 1, 'canlove': 1, 'php.': 1, 'rg21': 1, '4jx': 1, 'dled': 1, 'imp': 1, 'smokin': 1, 'boooo': 1, 's:)s.nervous': 1, 'costumes.': 1, 'yowifes.': 1, 'borrow': 1, 'outbid': 1, 'simonwatson5120': 1, 'shinco': 1, 'plyr.': 1, 'ac/smsrewards': 1, 'notifications,': 1, 'youi': 1, 'dobby': 1, 'yourjob?': 1, 'hunny!hope': 1, 'ok?take': 1, 'i\\x92llspeak': 1, 'soonlots': 1, 'xxxx.': 1, 'starshine!': 1, '*sips': 1, 'cappuccino*': 1, 'smsservices.': 1, 'yourinclusive': 1, 'bits': 1, 'turned': 1, 'green,': 1, 'burial.': 1, 'rv': 1, 'roads!rvx': 1, 'offer:)': 1, 'vouchers-text': 1, 'now!savamob-member': 1, 'comprehensive': 1, 'paying,': 1, \"prashanthettan's\": 1, 'k.k:)when': 1, 'suite:': 1, 'warning': 1, 'samantha': 1, 'guitar': 1, 'impress': 1, 'doug': 1, 'realizes': 1, 'trauma': 1, 'swear': 1, 'office:)whats': 1, 'matter..msg': 1, 'break:).': 1, 'us,': 1, 'shoes.': 1, 'real,': 1, 'inner': 1, 'tigress...': 1, 'baby!hope': 1, 'urfeeling': 1, 'bettersn': 1, 'probthat': 1, 'overdose': 1, 'story.': 1, 'sexy!!': 1, '83110': 1, 'meet.': 1, 'ana': 1, 'sathy': 1, 'rto': 1, 'spoons': 1, 'okay?': 1, 'connections,': 1, 'corvettes': 1, '09061104283': 1, '£1.50pm': 1, 'bunkers': 1, '07808': 1, 'xxxxxx': 1, '08719899217': 1, 'posh': 1, 'chaps': 1, 'trial': 1, 'prods': 1, 'champneys.': 1, 'dob': 1, 'asap.': 1, 'xmas?': 1, '0721072': 1, 'more!': 1, 'philosophical': 1, 'hole,': 1, 'saved!': 1, 'good...no': 1, 'problem..but': 1, 'experience': 1, 'voice...': 1, 'exhausted.': 1, 'atleast': 1, 'day...!!!': 1, 'world...!!!': 1, '-shakespeare-': 1, '09065171142-stopsms-08': 1, 'reminder:': 1, 'http://doit.': 1, 'mymoby.': 1, 'tv/': 1, 'woul': 1, 'curfew.': 1, 'gibe': 1, 'getsleep': 1, 'anything,': 1, 'studdying': 1, 'training.': 1, 'massages.': 1, 'oil...': 1, 'position?': 1, 'yoyyooo': 1, 'permissions': 1, 'mac.': 1, 'gibbs': 1, 'unsold.mike': 1, 'hussey': 1, 'failed.': 1, 'sad.': 1, 'unbelievable': 1, 'faglord': 1, 'nutter.': 1, 'cutter.': 1, 'ctter.': 1, 'cttergg.': 1, 'cttargg.': 1, 'ctargg.': 1, 'ctagg.': 1, 'ie': 1, 'thus': 1, 'grateful': 1, 'happier': 1, 'today.\":-)': 1, 'agents': 1, 'boston,': 1, 'experiment.': 1, 'thing,': 1, 'invoices': 1, 'where.': 1, 'smell': 1, 'tobacco...': 1, 'assumed': 1, 'lastest': 1, 'stereophonics,': 1, 'marley,': 1, 'dizzee': 1, 'racal,': 1, 'libertines': 1, 'strokes!': 1, 'nookii': 1, 'flirt!!': 1, 'bookmark': 1, 'grinule': 1, 'fudge': 1, 'oreos': 1, \"zaher's?\": 1, \"can't.\": 1, 'nauseous.': 1, 'dieting': 1, 'early.': 1, 'yck?': 1, \"ashley's\": 1, 'avalarr': 1, 'hollalater': 1, 'rounds': 1, 'today..but': 1, 'website..now': 1, 'blogging': 1, 'magicalsongs.blogspot.com': 1, 'chikku..il': 1, 'slices': 1, 'k:)i': 1, 'kvb': 1, 'details:)': 1, 'money!!!': 1, '£1million': 1, 'ppt150x3+normal': 1, 'box403': 1, 'w1t1jy': 1, 'friday.hope': 1, 'alternative.hope': 1, \"term's\": 1, 'ok:-)': 1, 'ore': 1, 'owo': 1, 'wa.': 1, 'fro': 1, 'samus': 1, 'shoulders': 1, 'matthew': 1, '09063440451': 1, '4*lux': 1, 'ppm150': 1, 'box334': 1, 'sk38xh.': 1, 'jeans': 1, 'when,': 1, 'side,': 1, 'fever,': 1, 'vomitin.': 1, 'k:)k.are': 1, '09061749602': 1, '528': 1, 'hp20': 1, '1yf': 1, 'stuffed': 1, 'writhing': 1, 'coins.': 1, 'paypal.': 1, 'voila!': 1, 'pockets:)': 1, 'theyre': 1, 'places.': 1, 'folks': 1, 'company?': 1, '(150p/sms)': 1, 'sorta': 1, 'blown': 1, 'sophas': 1, 'secondary': 1, 'schools.': 1, 'applying,': 1, 'ogunrinde,': 1, 'useful?': 1, 'lodging': 1, 'chk': 1, 'ms': 1, 'dict': 1, 'shb': 1, \"dobby's\": 1, 'stories': 1, 'in...': 1, 'retired': 1, 'natwest.': 1, 'person!': 1, 'chad': 1, 'gymnastics': 1, 'christians': 1, 'full..': 1, 'back?.a': 1, 'token': 1, 'you.thats': 1, 'liking.be': 1, 'see..no': 1, 'that.dont': 1, 'aptitude': 1, '2.15': 1, 'horse': 1, 'mah,': 1, 'rice.': 1, 'closes': 1, 'wrongly': 1, 'boggy': 1, 'biatch!': 1, 'hesitate.': 1, 'weakness': 1, 'notebook': 1, 'alcohol.': 1, 'eightish': 1, 'carpark.': 1, 'ah.the': 1, 'tomorrow.call': 1, '67441233': 1, 'irene.ere': 1, 'bus8,22,65,61,66,382.': 1, 'cres,ubi': 1, 'park.6ph': 1, '5wkg': 1, 'days.èn': 1, 'sd': 1, 'la.': 1, 'butt': 1, 'sore.': 1, 'relaxing': 1, 'ever!': 1, '7am': 1, '5ish.': 1, 'stripes': 1, 'skirt...': 1, \"can't,\": 1, 'number!': 1, 'escalator...': 1, 'quiet.': 1, 'beth': 1, 'charlie': 1, 'lots.': 1, 'helen': 1, 'mo.': 1, 'no..but': 1, 'tat..': 1, 'syllabus': 1, 'umma.': 1, 'panasonic': 1, 'bluetoothhdset': 1, 'doublemins': 1, 'doubletxt': 1, 'contract.': 1, '7.30pm': 1, 'poyyarikatur,kolathupalayam,unjalur': 1, 'post,erode': 1, 'dis,': 1, 'hero,i': 1, 'apt': 1, 'opportunity.pls': 1, '&lt;email&gt;': 1, ',kerala': 1, 'meat': 1, 'lovers': 1, 'supreme.': 1, 'pick.': 1, 'told..she': 1, 'dear,regret': 1, 'cudnt': 1, 'call.drove': 1, 'ctla': 1, 'home.left': 1, 'car..ente': 1, 'ishtamayoo?happy': 1, 'bakrid!': 1, 'know..wait': 1, 'glorious': 1, 'finds': 1, 'prey.': 1, 'coaxing': 1, 'images': 1, 'fond': 1, 'souveniers': 1, 'cougar-pen': 1, '09065394514': 1, 'weekends?': 1, 'sore': 1, 'throat.': 1, 'scratches': 1, 'asleep?': 1, 'no.1': 1, 'sheffield!': 1, 'nanny.': 1, 'one!!': 1, 'shitin': 1, 'defo': 1, 'hardest': 1, 'millions': 1, 'lekdog': 1, 'baby,': 1, 'blankets': 1, 'sufficient,': 1, 'thx': 1, \"'its\": 1, 'hurt,': 1, 'hurt...:-)': 1, 'other.': 1, 'atten': 1, 'indian?': 1, '09058097218': 1, 'who.': 1, 'round,': 1, 'age,': 1, 'chatting!': 1, 'doesn\\x92t': 1, '3rd?': 1, 'closes?': 1, 'data': 1, 'analysis': 1, 'thesis': 1, 'belligerent': 1, 'les': 1, 'rudi': 1, 'snoring.they': 1, 'ink': 1, 'bath.': 1, '515': 1, 'y?': 1, \"how're\": 1, 'throwing': 1, 'process.networking': 1, 'field.': 1, 'days.so': 1, 'prepared': 1, 'finalise': 1, '.dont': 1, 'visit.need': 1, 'works.': 1, 'point!': 1, 'www.flirtparty.us': 1, 'replys150': 1, 'dentist.': 1, 'bathing...': 1, 'lul': 1, 'nurses': 1, 'gettin.': 1, 'shes': 1, 'obese.': 1, 'oyea.': 1, 'oi.': 1, 'ami': 1, 'parchi': 1, 're.': 1, 'kicchu': 1, 'kaaj': 1, 'korte': 1, 'iccha': 1, 'korche': 1, 'tul': 1, 'copies.': 1, 'sculpture': 1, 'surya': 1, '.after': 1, 'pokkiri': 1, 'attraction.i': 1, 'me.she': 1, 'thoughts.i': 1, 'her.she': 1, 'dream.love': 1, 'name.my': 1, 'her.my': 1, 'her.will': 1, 'sorrows.i': 1, 'proove': 1, 'planet.i': 1, 'praises': 1, 'makiing': 1, 'sambar.life': 1, 'then.will': 1, 'lot..will': 1, \"fr'ndship\": 1, 'needle': 1, 'clock,': 1, 'meet,itz': 1, '4few': 1, 'seconds.': 1, 'conected.': 1, '9t;-)': 1, 'spatula': 1, 'hands!': 1, '3030': 1, \"cali's\": 1, 'complexities': 1, 'freely,': 1, 'taxes': 1, 'outrageous.': 1, 'ryder': 1, 'unsold.now': 1, 'gibbs.': 1, 'elvis': 1, 'presleys': 1, 'strips': 1, 'postal': 1, \"address.u'll\": 1, 'alright.okay.': 1, 'gifts!!': 1, 'cliff': 1, 'interesting.': 1, 'wrking': 1, 'nxt?': 1, 'depressed': 1, 'sittin': 1, 'ring...': 1, 'wind': 1, 'drops': 1, 'jeans...': 1, 'hen': 1, 'smoked': 1, 's..first': 1, 'time..dhoni': 1, 'rocks...': 1, 'teju': 1, 'movie,': 1, 'hourish?': 1, 'no:)this': 1, 'ground.amla': 1, 'durban:)': 1, 'convenience.': 1, 'evaluation': 1, '449050000301': 1, 'price!': 1, '09050000301.': 1, 'dating?': 1, 'speedchat,': 1, 'speedchat': 1, '80155,': 1, 'swap': 1, 'chatter!': 1, 'chat80155': 1, 'rcd': 1, 'cheyyamo?and': 1, 'survey': 1, 'yesterday!': 1, '80160': 1, 'www.txt43.com': 1, '1.50p': 1, 'shit....!!\"': 1, 'situation:': 1, 'throws': 1, 'brothers': 1, 'gay,.;-):-d': 1, 'hmv1': 1, 'errors': 1, 'difficulties,': 1, 'correction.': 1, 'pain?hope': 1, 'fine..': 1, 'tau': 1, 'piah': 1, '1stchoice.co.uk': 1, '08707808226.': 1, 'wearing?': 1, 'oh:)as': 1, 'different?': 1, \"shade's\": 1, 'really...': 1, 'ago...': 1, 'copied': 1, 'use?': 1, 'notified': 1, 'marketing': 1, '84122': 1, '08450542832': 1, 'driving...': 1, 'raining!': 1, 'tank': 1, '(that': 1, 'time?)': 1, 'also...': 1, 'virgins': 1, 'sexual': 1, 'theirs?': 1, '69911(£1.50p.': 1, 'm)': 1, 'sitter': 1, 'kaitlyn?': 1, 'hey..': 1, 'signing': 1, 'tmr..': 1, 'danger.': 1, 'peeps': 1, 'comment': 1, 'veggie': 1, 'pizza...': 1, 'buying...': 1, 'only...': 1, 'neighbors': 1, 'computerless.': 1, 'truffles': 1, 'balloon!': 1, 'pass.they': 1, 'nt.swt': 1, 'drms': 1, '@shesil': 1, 'melody!': 1, 'gf?': 1, 'macs': 1, 'prepared.': 1, 'live,': 1, 'q?': 1, 'hme': 1, 'islands,': 1, 'velachery:)': 1, 'flippin': 1, 'sec,': 1, 'breaking': 1, 'cstore': 1, 'hangin': 1, 'alive.better': 1, 'lodge': 1, 'worrying': 1, 'appt.': 1, 'quizzes': 1, 'popcorn': 1, 'jordan!': 1, '88600.': 1, 'celeb!': 1, '087016248': 1, '08719181503': 1, 'matter.': 1, 'thin': 1, 'fault&al': 1, 'arguments': 1, 'fault&fed': 1, 'himso': 1, 'bother?': 1, '2go,': 1, 'thanx.xx': 1, 'understanding.': 1, 'appreciated': 1, 'two!': 1, 'semi': 1, 'p.': 1, 'subscriber,': 1, 'bonus!': 1, '150p/msg,': 1, 'exp.': 1, '30apr': 1, 'arms...': 1, 'maaaan': 1, 'guessin': 1, 'walmart': 1, 'ilol': 1, 'personally': 1, 'wuldnt': 1, 'bother,': 1, 'well!!': 1, 'lunchtime,': 1, 'organise': 1, 'passable.': 1, 'phd,': 1, '5years': 1, 'salary.': 1, 'easier.': 1, 'prakesh': 1, 'betta': 1, 'aging': 1, 'products': 1, '1hr': 1, 'accommodation': 1, 'global': 1, 'www.phb1.com': 1, 'ph:08700435505150p': 1, 'submitting': 1, 'fast.': 1, 'snatch': 1, 'hello-/@drivby-:0quit': 1, 'edrunk': 1, 'iff': 1, 'pthis': 1, 'senrd-dnot': 1, '^': 1, 'dancce': 1, 'drum': 1, 'basq!ihave': 1, '2nhite': 1, 'ros': 1, 'xxxxxxx': 1, 'getting?': 1, 'relieved': 1, 'westonzoyland,': 1, 'greatness.': 1, 'world,': 1, 'europe?': 1, 'soon..': 1, 'mean,': 1, 'goin2bed': 1, 'only1more': 1, 'mc?': 1, '2nite-tell': 1, 'every1': 1, 'ava': 1, 'goodtime!oli': 1, 'melnite': 1, 'ifink': 1, 'sorted,but': 1, 'everythin': 1, 'mon.l8rs.x': 1, '08712402779': 1, 'shun': 1, 'bian': 1, 'glass': 1, 'exhibition...': 1, 'el': 1, 'nino': 1, 'himself.': 1, 'chikku..going': 1, 'bus..': 1, 'news:': 1, 'downstem': 1, '08718730555': 1, 'wahala.': 1, 'inperialmusic': 1, 'listening2the': 1, 'by\\x94leafcutter': 1, 'john\\x94-sounds': 1, 'insects': 1, 'molested&someone': 1, 'plumbing,remixed': 1, 'evil': 1, 'acid!': 1, 'didntgive': 1, 'bellearlier': 1, 'hunny,just': 1, 'bedbut': 1, 'thepub': 1, 'uwana': 1, 'up?loads': 1, 'jenxxx.': 1, 'seriously.': 1, '09096102316': 1, 'hee.': 1, 'lecture,': 1, 'cheery': 1, 'collected': 1, 'operator.': 1, '80488.biz': 1, 'weirdo?': 1, 'stalk': 1, 'profiles?': 1, 'drinkin': 1, 'wondering,': 1, 'hey...great': 1, 'deal...farm': 1, '9am': 1, '5pm': 1, '$95/pax,': 1, '$50': 1, 'deposit': 1, 'jap': 1, 'disappeared,': 1, 'certificate': 1, 'publish': 1, 'secret.': 1, 'wheellock?': 1, 'sure!': 1, 'destination': 1, '8th?': 1, 'fifty?': 1, 'daily': 1, 'favour': 1, 'settling': 1, 'happenin': 1, 'ola?': 1, 'cocksuckers.': 1, 'ipads': 1, 'worthless': 1, 'novelty': 1, 't-shirt.': 1, 'janx': 1, 'p.s': 1, 'dads': 1, 'fone,': 1, '-no': 1, 'designation': 1, 'developer': 1, 'chennai:)': 1, 'jamster': 1, 'videosound': 1, 'videosounds+2': 1, 'logos+musicnews!': 1, 'jamster.co.uk!': 1, '16+only': 1, 'call:': 1, '09701213186': 1, 'oni': 1, 'lar..': 1, 'spirit.': 1, 'shattered.': 1, 'alrite.': 1, 'idiot?': 1, 'girlie': 1, 'bigger?': 1, 'colours': 1, 'darker': 1, 'styling': 1, 'sad,': 1, 'gray,': 1, 'remembr': 1, 'listn': 1, 'watevr': 1, 'while,&amp;': 1, 'smile.:-)': 1, '“harry': 1, 'u....': 1, 'minus': 1, '10..': 1, 'paragraphs?': 1, 'coveragd': 1, 'urgnt': 1, 'vasai': 1, \"4'o\": 1, 'clock': 1, 'retard': 1, 'bathroom,': 1, '£500.': 1, 'is:': 1, 'sang': 1, \"'uptown\": 1, \"girl'\": 1, \"80's\": 1, '83600.': 1, 'rush,': 1, 'icic...': 1, 'day...': 1, 'syria': 1, 'canada,': 1, 'hearts,not': 1, 'hurt..': 1, 'closer..': 1, 'goodnoon:)': 1, 'gauge': 1, \"patty's\": 1, 'shower.': 1, 'monday..nxt': 1, 'completing..': 1, 'ax': 1, 'surgical': 1, 'emergency': 1, 'unfolds.': 1, 'ar': 1, 'married.': 1, 'korean': 1, \"leona's\": 1, 'fredericksburg': 1, 'que': 1, 'pases': 1, 'un': 1, 'buen': 1, 'tiempo': 1, 'tmrw': 1, 'compass': 1, 'world....gnun': 1, 'way2sms.com': 1, 'goodnight,': 1, 'baaaaabe!': 1, 'misss': 1, 'youuuuu': 1, 'convince': 1, 'witot': 1, 'buyer': 1, 'me?like': 1, '%of': 1, 'lovers...': 1, 'becz': 1, 'undrstndng': 1, 'avoids': 1, 'problems.': 1, 'chain.': 1, 'suffer.': 1, 'read...': 1, 'steamboat?': 1, 'where?': 1, 'yetunde,': 1, 'forgive': 1, 'messenger.': 1, 'tp': 1, 'bbq': 1, '6ish.': 1, 'everyso': 1, 'often,': 1, 'panicks': 1, 'out--have': 1, 'bears': 1, 'nick,': 1, 'tom,': 1, 'dick.': 1, 'fact,': 1, 'types': 1, 'txtauction': 1, 'auntie': 1, 'huai': 1, 'juan': 1, 'tel,': 1, 'path': 1, 'appear': 1, 'us..': 1, 'is..': 1, '\"paths': 1, 'walking..': 1, 'waiting..\"': 1, 'goodnight!': 1, 'arm': 1, 'reserve': 1, 'thirunelvali': 1, 'eve...i': 1, 'net..no': 1, 'available..i': 1, 'tackle': 1, 'tonght': 1, 'comes?': 1, 'ploughing': 1, 'pile': 1, 'ironing': 1, 'chinky': 1, 'wi': 1, 'nz': 1, 'weight,': 1, 'effect...': 1, 'gee,later': 1, 'aust': 1, 'recharged': 1, 'kidding,': 1, 'papa': 1, 'lessons...': 1, 'stretch...': 1, 'check?': 1, 'detailed': 1, 'losers': 1, 'kaiez...': 1, 'beta...': 1, 'babies!': 1, 'k..k..any': 1, 'urgent,': 1, 'bucks,': 1, 'noncomittal': 1, 'character?': 1, 'snickering': 1, 'chords': 1, 'no..few': 1, 'before.went': 1, 'wonder...': 1, 'lmao.': 1, 'silence...': 1, 'mrng:-)': 1, 'win150ppmx3age16': 1, 'message..': 1, 'revision?': 1, 'boyf?': 1, 'interviw': 1, 'worried!x': 1, 'what,': 1, 'spreadsheet': 1, 'determine': 1, '\"smokes': 1, 'entire': 1, 'february,': 1, 'dartboard.': 1, 'condition': 1, 'doubles': 1, 'trebles!': 1, 'sick.': 1, 'gym!!!': 1, 'recognises': 1, 'alone\"': 1, 'wisheds.': 1, 'intrepid': 1, 'duo': 1, 'him!': 1, 'about,': 1, 'dunno...': 1, 'uni?': 1, 'tues': 1, 'breeze...': 1, 'fresh': 1, 'flower...': 1, 'twittering': 1, 'birds...': 1, '\"goodmorning': 1, 'ya:)going': 1, 'restaurant..': 1, 'no?': 1, 'ducking': 1, 'chinchillas': 1, 'function': 1, 'headstart': 1, '2.30ish': 1, 'earlier-we': 1, 'rummer.': 1, 'flying': 1, 'optin': 1, 'bbc': 1, 'charts': 1, 'thanks2.': 1, 'rajini': 1, 'comes.': 1, 'ya!': 1, 'practical': 1, 'june..': 1, 'summers': 1, 'area?': 1, 'matched': 1, 'join.': 1, 'help08714742804': 1, 'haha..': 1, 'spys': 1, 'mails': 1, '09099725823': 1, 'offering': 1, 'yalru': 1, 'astne': 1, 'chikku..': 1, 'innu': 1, 'mundhe': 1, 'ali': 1, 'halla': 1, 'bilo': 1, '(marriage)program': 1, 'edhae,': 1, 'ovr': 1, 'chikku..ali': 1, 'vargu': 1, 'meow': 1, 'meow:-d': 1, 'kinda.': 1, 'twelve!': 1, 'aah.': 1, 'prone': 1, 'falls.': 1, '07801543489': 1, 'latests': 1, 'word:collect': 1, 'no:83355!': 1, 'tc-llc': 1, 'ny-usa': 1, '150p/mt': 1, 'msgrcvd18+': 1, 'permission.': 1, 'meetins': 1, 'cumin': 1, '09099726395': 1, 'dose': 1, 'tablet': 1, 'incomm': 1, 'wait...should': 1, 'ticket,': 1, 'aft.': 1, 'maps': 1, 'dorm.': 1, 'tiring': 1, 'concentrating': 1, 'welp?': 1, 'browsin': 1, 'compulsory': 1, '(i': 1, 'it)': 1, 'lover!': 1, 'wake,': 1, 'gautham..': 1, 'investigate': 1, 'anywhere.': 1, 'receive..': 1, 'activate,': 1, 'www.80488.biz': 1, 'money...as': 1, 'you...money': 1, 'thing....how': 1, 'sha!': 1, 'weather.': 1, 'vitamin': 1, 'gals..': 1, 'crucial': 1, 'smile,': 1, \"someone's\": 1, 'jsco:': 1, 'high,': 1, '2channel': 1, 'leadership': 1, 'skills': 1, 'strong.': 1, 'psychic?': 1, 'w/question.': 1, 'jsco': 1, 'host-based': 1, 'idps': 1, 'linux': 1, 'systems.': 1, 'converter': 1, 'search:)': 1, 'vote.': 1, 'sayy': 1, 'nit.': 1, 'pete,is': 1, 'leanne.what': 1, 'now?:)': 1, 'eight': 1, 'sucks,': 1, 'disc': 1, 'internet.': 1, 'great,': 1, 'champ': 1, 'glasgow!': 1, 'k:)all': 1, 'best:)congrats...': 1, 'lovin...': 1, 'install': 1, 'browse': 1, 'artists.': 1, 'corect': 1, 'speling': 1, 'i.e.': 1, 'sarcasm': 1, '1/08/03!': 1, '0871-4719-523': 1, 'shuhui.': 1, 'hi:)cts': 1, 'employee': 1, 'nike.': 1, 'sooo': 1, 'shouting..': 1, 'settled?': 1, 'dang!': 1, 'unfortunately': 1, 'bf...': 1, 'feel?': 1, 'play!!': 1, 'earliest': 1, 'nordstrom': 1, 'conference': 1, 'messages,': 1, 'apply:': 1, 'www.orange.co.uk/ow': 1, 'degree.': 1, 'finance.': 1, 'bleak,': 1, 'shant': 1, 'anymore...': 1, 'nearer...': 1, 'snake.': 1, 'raiden': 1, 'chechi': 1, 'totes.': 1, 'wanna?': 1, 'pierre': 1, 'cardin': 1, 'rhythm.': 1, 'establish': 1, 'rhythm': 1, 'truro': 1, 'ext.': 1, 'adventure?': 1, 'worry...use': 1, 'cloth': 1, 'pack.also': 1, 'tablets.': 1, 'sunroof': 1, 'sub': 1, 'tmrw.': 1, 'ago,': 1, 'blanked': 1, 'image': 1, 'kalainar': 1, 'office.thenampet': 1, 'cc': 1, 'gd...': 1, 'wah,': 1, 'nosy': 1, 'reacting': 1, 'freaked?': 1, 'satanic': 1, 'imposter': 1, 'me.need': 1, 'price,so': 1, 'it.may': 1, 'destiny': 1, 'be...': 1, 'companion': 1, 'chef': 1, 'listener': 1, 'organizer': 1, 'boyfriend': 1, 'sympathetic': 1, 'athletic': 1, 'courageous': 1, 'determined': 1, 'dependable': 1, 'psychologist': 1, 'pest': 1, 'exterminator': 1, 'psychiatrist': 1, 'healer': 1, 'stylist': 1, 'driver': 1, 'aaniye': 1, 'pudunga': 1, 'venaam..': 1, 'brothas': 1, 'chez': 1, 'jules': 1, 'eight,': 1, 'hhahhaahahah': 1, 'nig': 1, 'leonardo': 1, \"derek's\": 1, '2years': 1, 'strain': 1, 'gives.': 1, 'practical.': 1, 'withdraw': 1, 'anyhow': 1, 'millers': 1, 'fire.': 1, 'spark.': 1, 'rawring': 1, 'xoxo': 1, 'somewhr': 1, 'den,': 1, 'crushes..!!!;-)': 1, 'honeymoon': 1, 'outfit.': 1, '08719899230': 1, 'cheque.': 1, 'olympics.': 1, 'leo': 1, 'k.then': 1, 'patty': 1, 'done/want': 1, 'haul': 1, 'problem:-)': 1, 'wildlife': 1, 'want2come.': 1, 'that2worzels': 1, 'wizzle': 1, 'is?!': 1, 'shanghai': 1, 'cya...': 1, '645': 1, 'rt-king': 1, 'pro': 1, 'club>>': 1, 'info@ringtoneking.co.uk': 1, '08701237397': 1, 'redeemable': 1, 'www.ringtoneking.co.uk!': 1, 'thnx': 1, 'sef': 1, 'anjie!': 1, 'sense,': 1, 'batch': 1, 'fring': 1, 'app?': 1, 'nte.:-': 1, 'doesn‘t': 1, 'msgs.': 1, '02072069400.': 1, 'bx': 1, '526,': 1, 'happy...': 1, 'talents!': 1, '6pm.': 1, 'animal!': 1, '...*grins*...': 1, 'adoring': 1, '..shiny': 1, 'warming': 1, 'cared': 1, 'surprised,': 1, 'french': 1, 'fooled': 1, '0a$networks': 1, 'companies': 1, 'sms,': 1, 'responsible': 1, '\"suppliers\",': 1, 'guarantee': 1, 'comedy..cant': 1, 'freemsg:feelin': 1, 'lnly': 1, 'company!': 1, 'pic?txt': 1, 'keen': 1, 'dammit!!': 1, 'wright': 1, 'fly..': 1, 'somewhat': 1, 'event': 1, 'laden.': 1, 'wrecked.': 1, 'loud..': 1, 'spontaneously..': 1, 'feel..': 1, 'goodevening': 1, 'dear..:)': 1, 'buy...': 1, 'fb.': 1, 's:-)if': 1, 'rgent!': 1, 'class,': 1, 'shower!': 1, 'daytime': 1, 'busty': 1, '09099726429': 1, 'janinexx': 1, 'spageddies': 1, 'phasing': 1, 'fourth': 1, 'dimension': 1, 'yes..but': 1, 'it.,': 1, 'meaningful': 1, 'ever:': 1, 'everything:-(\"..': 1, 'mornin:-)': 1, 'lmao!nice': 1, '09050001295': 1, 'a21.': 1, 'mobsi.com': 1, '391784.': 1, 'pc.': 1, 'dub': 1, 'je': 1, 'words-': 1, 'earth...': 1, 'unspoken': 1, 'inside..\"': 1, 'fine!': 1, 'ideas?': 1, 'lei?': 1, 'squatting': 1, 'stopped.': 1, '0089(my': 1, 'digits)': 1, '09063442151': 1, 'sonathaya': 1, 'soladha.': 1, 'boss?': 1, 'raping': 1, 'dudes': 1, 'poker': 1, 'weightloss!': 1, 'mushy...': 1, 'embarrassed': 1, 'stash': 1, 'priya': 1, 'sufficient': 1, 'messy...': 1, 'kilos': 1, 'accidant': 1, 'tookplace': 1, 'ghodbandar': 1, 'traffic': 1, 'slovely.': 1, 'ah.now': 1, 'where?btw': 1, 'nus': 1, 'sc.': 1, 'specialise': 1, 'wad?': 1, 'queen,': 1, 'desparately': 1, '(no': 1, 'yet)': 1, 'stereo': 1, 'mi': 1, 'album.': 1, 'nt?': 1, 'classmates?': 1, 'fires.are': 1, 'wow!': 1, 'tour.': 1, 'pre-book': 1, 'club.': 1, '81303.': 1, 'trackmarque': 1, 'info@vipclub4u.': 1, 'missionary': 1, 'standing...|': 1, 'sleep..': 1, 'entertaining': 1, 'hugh': 1, 'laurie': 1, 'stick': 1, 'stick.': 1, 'praps': 1, 'jon,': 1, 'spain': 1, 'dinero': 1, '\\x91rents': 1, '12,000pes,': 1, '£48,': 1, 'tb,': 1, 'james.': 1, 'hunny!wot': 1, 'instead!': 1, 'bedroom!love': 1, 'complaining': 1, 'mandy': 1, 'sullivan': 1, 'hotmix': 1, 'fm...you': 1, '£5000.00': 1, 'easter': 1, 'draw.....please': 1, '09041940223': 1, '29/03/05': 1, 'transferred': 1, 'else....': 1, \"finn's\": 1, 'rest:-).': 1, 'bedroom...': 1, 'ey!': 1, 'downon': 1, 'theacusations..': 1, 'itxt': 1, 'iwana': 1, 'wotu': 1, 'thew/end...': 1, 'haventcn': 1, 'ages..ring': 1, 'nething': 1, 'sat.love': 1, 'dine': 1, 'lady!': 1, 'conacted': 1, 'you!to': 1, '09111030116.': 1, 'pobox12n146tf15': 1, 'v.tired': 1, 'wk,': 1, 'inspection': 1, 'nursery!': 1, 'details..i': 1, 'you.my': 1, 'habit': 1, 'life..': 1, 'day:)': 1, 'it..mail': 1, 'panren': 1, 'paru..': 1, 'chuckin': 1, 'trainners': 1, 'carryin': 1, 'bac': 1, 'good:)dhanush': 1, 'rocks': 1, 'again:)': 1, 'needing': 1, 'times?': 1, 'chikku..simple': 1, 'habba..hw': 1, 'dileep.thank': 1, 'muchand': 1, 'support...very': 1, 'here,remember': 1, 'venugopal': 1, 'mentioned.tomorrow': 1, 'late,i': 1, 'there.goodnight': 1, 'remembrs': 1, 'much...': 1, 'everytime...': 1, 'yijue...': 1, '3230': 1, 'textbook': 1, 'algorithms': 1, 'edition...': 1, '$50...': 1, 'how.': 1, 'watch.': 1, 'always,': 1, 'song..:-)': 1, 'facebook?': 1, 'alert!': 1, '10k': 1, '#150': 1, 'voucher.': 1, '09064018838.': 1, 'cro1327': 1, ';-(': 1, 'recharge.': 1, 'yes:)sura': 1, 'tv.:)lol.': 1, 'chat...': 1, '4u.i': 1, 'intend': 1, 'iwas+marine&that\\x92s': 1, 'itried2tell': 1, 'urmom.i': 1, 'careabout': 1, 'learned': 1, 'fake': 1, 'why.': 1, 'excellent.': 1, 'force.': 1, 'iraq': 1, 'afghanistan.': 1, 'stable': 1, 'honest.': 1, 'traveling?': 1, 'bless.get': 1, 'dear...i': 1, 'pray!': 1, '1225': 1, '£50award.': 1, 'pai': 1, 'seh': 1, 'parts?': 1, 'walsall': 1, 'tue': 1, '.terry': 1, 'chatting': 1, 'sian...': 1, 'ccna': 1, 'week??': 1, 'shrek': 1, '3d!!b)': 1, 'fellow?': 1, \"something's\": 1, 'on)': 1, 'dying': 1, 'lifting': 1, 'eating?': 1, 'teresa.': 1, 'people,': 1, 'dec': 1, \"you'ld\": 1, 'bam': 1, 'aid': 1, 'usmle,': 1, 'squishy': 1, 'mwahs.': 1, 'hottest': 1, 'phone!!': 1, 'wanting,': 1, 'hello-': 1, 'prominent': 1, 'cheek': 1, 'september': 1, 'husband.': 1, 'hack': 1, 'backdoor': 1, 'fraction': 1, 'neo69': 1, '09050280520,': 1, 'subscribe': 1, 'dps,': 1, 'bcm': 1, '8027': 1, 'ldn,': 1, '4.15': 1, 'yeah.': 1, 'comingdown': 1, 'da:)good': 1, 'replacement': 1, 'murali': 1, 'player.why': 1, 'sts': 1, 'five.': 1, 'engalnd!': 1, 'telly': 1, 'mia': 1, 'elliot': 1, 'kissing!': 1, '1/2price': 1, 'linerental,': 1, 'x-net': 1, 'mins&100txt/mth': 1, \"b'tooth*.\": 1, '2optout/d3wv': 1, 'philosophy.': 1, 'wipro:)you': 1, 'years.': 1, 'matric': 1, '850.': 1, '650.': 1, '08718726970': 1, 'payments': 1, 'fedex': 1, 'team..': 1, 'k.:)you': 1, 'reception': 1, 'consensus': 1, 'entertain': 1, 'laugh,': 1, 'tag': 1, 'going.': 1, 'messy': 1, 'wednesday,': 1, 'skype,': 1, 'pictures,': 1, 'laundry': 1, 'underwear': 1, 'bras': 1, 'strewn': 1, 'pillows': 1, 'appointment.': 1, 'fathima.': 1, 'weaknesses': 1, '*pushes': 1, \"knee's*\": 1, '*exposes': 1, 'pulls': 1, 'it*': 1, '*wicked': 1, 'sh': 1, 'ready.all': 1, 'supports': 1, 'srt': 1, 'thnk.': 1, 'ps3': 1, 'meant.': 1, 'jontin': 1, 'prize.to': 1, 'banned': 1, 'uk!': 1, 'pen': 1, 'biro': 1, '09058094594': 1, 'slave.': 1, 'shell': 1, 'unconsciously': 1, 'unhappy': 1, 'ass!': 1, 'style?': 1, 'jog.': 1, '09061743811': 1, 'knackered.': 1, 'lark.': 1, \"station's\": 1, '09090900040': 1, 'extreme': 1, '[sic]': 1, '60p': 1, '24/7mp': 1, '0870753331018+': 1, 'video/pic': 1, 'fones,': 1, 'wild': 1, 'pics,': 1, '150p/rcvd': 1, 'stop2stop)': 1, 'lim': 1, 'player.': 1, 'parachute': 1, 'coins???': 1, 'placed': 1, 'da:-)': 1, 'unlimited...': 1, 'lambda': 1, 'angels': 1, 'snowball': 1, 'ello': 1, 'pub??': 1, 'dat?': 1, 'ofice': 1, 'ofice...got': 1, 'duffer': 1, 'grr': 1, 'prescription.': 1, 'pharmacy': 1, 'away.': 1, 'cook': 1, '89693.': 1, '08715500022': 1, 'rpl': 1, 'cnl': 1, 'nor': 1, 'fffff.': 1, 'elsewhere': 1, 'thk...': 1, 'fujitsu': 1, 'lifebook': 1, 'zhong': 1, 'qing': 1, 'act': 1, '4-6...': 1, 'hypertension': 1, 'mine&all': 1, 'annoyin!': 1, '08702490080': 1, 'vpod': 1, 'bath:-)': 1, 'nigro': 1, 'scratching': 1, \"idea's?\": 1, 'anyplaces': 1, 'stops': 1, '\"find': 1, 'weed,': 1, 'upset.': 1, 'priority': 1, 'do,\"': 1, 'do.\"': 1, 'ecstasy?': 1, '09090204448': 1, 'minded': 1, 'a£1.50': 1, 'minapn': 1, 'ls278bb': 1, 'imp.': 1, 'flies': 1, 'hittng': 1, 'reflex': 1, '10:10': 1, 'adewale': 1, 'egbon': 1, 'min..stand': 1, 'mary': 1, 'jane.': 1, 'no...': 1, 'deduct': 1, 'wrks': 1, 'monkey': 1, 'bitch..........': 1, 'asshole..................': 1, 'grab': 1, 'sliding': 1, '09065394973': 1, 'payback.': 1, '80488.': 1, '31': 1, 'tescos': 1, 'feathery': 1, 'bowa?': 1, ':-d': 1, 'infra': 1, 'php': 1, 'gep': 1, 'cum?': 1, '2006': 1, 'fifa': 1, 'held?': 1, 'boat.': 1, 'naked.': 1, 'shhhhh': 1, 'related': 1, 'arul.': 1, 'amk.': 1, '09061743810': 1, 'length': 1, 'lazy.': 1, 's..antha': 1, 'corrct': 1, 'dane': 1, \"basket's\": 1, 'page.': 1, 'rupaul': 1, 'tool!': 1, 'practising': 1, 'curtsey?': 1, 'yeh': 1, 'sat,just': 1, 'payed2day': 1, 'havbeen': 1, 'a£50': 1, 'rise': 1, '4my': 1, 'havebeen': 1, 'preschoolco-ordinator': 1, '2i': 1, 'feelingood': 1, 'memory': 1, 'converted': 1, 'live:)': 1, 'themob>yo': 1, 'yo-here': 1, 'fone...': 1, 's....s...india': 1, 'african': 1, 'soil..': 1, 'roles': 1, 'outreach.': 1, 'orchard.': 1, '8lb': 1, '7oz.': 1, 'brilliantly.': 1, 'forwarding': 1, 'intention': 1, '*i*': 1, 'visitors,': 1, 'rules': 1, 'happening,': 1, 'bend': 1, 'thia': 1, 'inlude': 1, 'previews.': 1, 'ambrith..madurai..met': 1, 'dha': 1, 'marrge..remembr?': 1, 'ever!!': 1, 'kitty': 1, 'shaved': 1, 'natural?': 1, 'bb.': 1, \"anybody's\": 1, 'tactful': 1, 'skillgame,1winaweek,': 1, 'age16.150ppermesssubscription': 1, 'once?': 1, 'eggs-pert': 1, 'potato': 1, 'head…': 1, 'soon!': 1, 'crammed': 1, 'satsgettin': 1, '4.47per': 1, 'innings': 1, 'apologize,': 1, 'admit': 1, 'pei': 1, 'kid..': 1, 'energy..': 1, 'subtoitles': 1, 'jot': 1, 'store.like': 1, 'cereals.': 1, 'food,': 1, 'gari': 1, 'bugis.': 1, 'bold2': 1, 'calicut?': 1, 'darlin..': 1, 'mt..': 1, '09094100151': 1, 'mins!': 1, 'cast': 1, '(mob': 1, 'vary).': 1, 'aom,': 1, 'gbp5/month.': 1, 'aom': 1, 'box61,m60': 1, '1er': 1, 'thkin': 1, 'nb...': 1, '.please': 1, 'no..': 1, 'resubbing': 1, 'shadow.': 1, 'slice': 1, 'breadstick.': 1, 'saeed': 1, '09066362220': 1, 'get!': 1, \"red;i'm\": 1, 'blue;u': 1, 'purple;u': 1, 'hot.': 1, 'pink;u': 1, 'swt.': 1, 'orange;i': 1, 'lyk': 1, 'green;i': 1, 'yelow;i': 1, 'bck.': 1, \"black;i'm\": 1, 'brown;i': 1, 'arranging': 1, 'eldest': 1, 'drugdealer': 1, 'wither': 1, 'e.g.23f.': 1, 'e.g.23g.': 1, 'wondarfull': 1, 'messages-text': 1, 'now!use': 1, 'web2mobile': 1, 'txt250.com': 1, '1.50p/wk.': 1, 'box139,': 1, 'la32wu.': 1, 'txtx': 1, 'mah..': 1, 'hun-onbus': 1, '2go': 1, 'donyt': 1, 'home!but': 1, 'latelyxxx': 1, '85233': 1, 'free>ringtone!reply': 1, 'aight.': 1, 'wind.': 1, 'justthought': 1, 'sayhey!': 1, 'doin?nearly': 1, 'endof': 1, 'offdam': 1, 'nevamind!we': 1, '2hook': 1, 'uwant': 1, \"own--you've\": 1, 'rent,': 1, 'tank.': 1, 'stressed': 1, 'depressed.': 1, 'i,m': 1, 's:-)kallis': 1, 'odi:-)': 1, 'soooo': 1, 'provider': 1, 'tming': 1, 'cutest': 1, 'dice,': 1, '*****': 1, 'help:08700469649.': 1, 'box420.': 1, 'ip4': 1, '5we': 1, 'howda': 1, 'gud..': 1, 'mathe': 1, 'samachara': 1, 'chikku:-)': 1, 'audrie': 1, 'autocorrect': 1, 'simulate': 1, 'readiness.': 1, 'and/or': 1, 'vomiting': 1, 'fetch?': 1, 'feet,': 1, 'lara': 1, 'supplies': 1, 'guesses': 1, 'attach': 1, '087123002209am-7pm.': 1, 'washob': 1, 'nobbing': 1, 'nickey': 1, 'platt': 1, 'me!;': 1, 'ryan': 1, 'vikky..': 1, 'spotty,': 1, 'province': 1, 'sterling': 1, 'problem-free': 1, 'xam': 1, 'hall': 1, 'hesitation': 1, 'the!': 1, 'intha': 1, 'ponnungale': 1, 'ipaditan;)': 1, 'result.': 1, 'bad-': 1, 'rejected': 1, 'diamonds': 1, 'aunty!': 1, 'noisy.': 1, 'needa': 1, 'mcat': 1, 's...from': 1, 'manual': 1, 'process:)its': 1, 'reset': 1, 'troubleshooting:)': 1, 'b4u': 1, 'w/c': 1, '27/03': 1, 'marsms.': 1, 'www.b4utele.com': 1, '08717168528': 1, 'strongly': 1, 'sacrifice': 1, 'help,': 1, 'creativity': 1, 'stifled': 1, 'happy,': 1, 'part.': 1, '(again),': 1, 'morphine.': 1, 'requirements': 1, 'stranger!!saw': 1, 'he\\x92s': 1, 'now!still': 1, 'mr!ur': 1, '2getha!': 1, 'buffy.': 1, 'men.': 1, 'randy.': 1, 'pix!': 1, 'qlynnbv': 1, 'help08700621170150p': 1, '8-8:30': 1, 'nosh': 1, 'waaaat??': 1, 'lololo': 1, \"table's\": 1, 'occupied,': 1, 'come:)i': 1, 'documents': 1, 'submitted': 1, 'stapati': 1, 'miles.': 1, 'cutie.': 1, 'hills': 1, 'myself.': 1, 'honesty': 1, 'specialisation.': 1, 'labor.': 1, 'shakara': 1, 'beggar.': 1, 'replying.': 1, 'boye': 1, 'driver!': 1, 'dent!': 1, 'really,': 1, 'yes.he': 1, 'crickiting': 1, 'thx.': 1, 'imin': 1, 'town.dontmatter': 1, 'urgoin': 1, 'outl8r,just': 1, 'reallyneed': 1, '2docd.please': 1, 'dontplease': 1, 'dontignore': 1, 'mycalls,u': 1, 'thecd': 1, 'isv.important': 1, 'tome': 1, 'wont.': 1, 'yavnt': 1, 'see?': 1, ':)why': 1, 'don,t': 1, 'popping': 1, 'ibuprofens': 1, 'sip': 1, 'cappuccino': 1, 'grown': 1, 'chinatown': 1, 'porridge,': 1, 'claypot': 1, 'rice,': 1, 'yam': 1, 'fishhead': 1, 'beehoon...': 1, 'somethin...': 1, 'jaklin': 1, 'nearby': 1, 'cliffs': 1, '4.49/month': 1, 'bundle': 1, 'deals': 1, 'avble.': 1, 'call2optout/j': 1, 'mf': 1, 'figures...': 1, 'pages?': 1, 'ooh,': 1, '4got,': 1, 'moseley': 1, 'weds': 1, 'thankyou': 1, 'pending.i': 1, 'days.will': 1, 'thru.respect': 1, 'home.check': 1, 'mails.': 1, 'v-aluable.': 1, 'a-ffectionate.': 1, 'l-oveable.': 1, 'e-ternal.': 1, 'n-oble.': 1, 't-ruthful.': 1, 'i-ntimate.': 1, 'n-atural.': 1, 'e-namous.': 1, '\"valentines': 1, 'advance': 1, \"textin'.\": 1, 'cousin...': 1, '(and': 1, 'excuses)': 1, 'wet?': 1, 'amigos': 1, 'burn,': 1, 'progress.': 1, \"weren't\": 1, 'kidding': 1, 'arty': 1, 'collages': 1, 'mo,': 1, 'tryin': 1, 'classes,': 1, '2hrs.': 1, 'waliking': 1, 'cartons': 1, 'shelves': 1, '08714712379': 1, 'mirror': 1, 'k718.': 1, '09065069120': 1, 'days...': 1, 'tues,': 1, 'wed,': 1, 'jod': 1, 'revision': 1, 'keris': 1, 'smidgin.': 1, 'college?xx': 1, 'k.k..where': 1, 'intentions': 1, 'accordin': 1, 'also..': 1, '6pm..:-)': 1, \"no's..\": 1, 'knocking': 1, 'si.como': 1, 'no?!listened2the': 1, 'plaid': 1, 'album-quite': 1, 'gd&the': 1, 'air1': 1, 'hilarious-also': 1, 'bought\\x94braindance\\x94a': 1, 'comp.ofstuff': 1, 'aphex\\x92s': 1, ';abel,u': 1, 'hav2hear': 1, 'it!c': 1, 'nelson': 1, \"bb's\": 1, 'comin.': 1, 'drink,': 1, 'drop.': 1, 'unmits': 1, 'newspapers': 1, 'bathe...': 1, 'soup.': 1, 'yummmm': 1, 'puzzeles.': 1, 'include': 1, '4goten': 1, \"me?'\": 1, 'scammers': 1, 'smart..though': 1, 'prem': 1, 'msg/subscription.': 1, 'beware!': 1, 'passion': 1, '09099726481': 1, 'dena': 1, '£1/minmobsmorelkpobox177hp51fl': 1, 'r836.': 1, '09065069154': 1, 'threats': 1, 'sales': 1, 'shifad': 1, 'raised': 1, \"'doctors'\": 1, 'reminds': 1, '2go.did': 1, 'lounge?': 1, 'sun?': 1, 'line:': 1, '\"hurt': 1, 'truth,': 1, 'mind,i': 1, 'tolerat.bcs': 1, 'someone.....': 1, 'comfort': 1, 'lie\"': 1, 'china.': 1, 'ideas.': 1, 'splashmobile:': 1, 'wk!': 1, 'subscrition': 1, '300p.': 1, 'dust?': 1, '88877>free': 1, '88877': 1, '3pound': 1, 'watchin': 1, 'lido?': 1, 'lifetime': 1, 'meaningless': 1, \"all's\": 1, 'so?': 1, 'telly?': 1, 'brdget': 1, 'jones!': 1, 'inever': 1, '=/': 1, 'hmm...bad': 1, 'news...hype': 1, '$700': 1, 'studio': 1, 'taken...only': 1, 'bedrm-$900...': 1, 'reached.': 1, 'velly': 1, 'journey': 1, 'terrible.': 1, 'marking': 1, '2stoptx': 1, 'annie': 1, 'romantic!': 1, '08718738034.': 1, 'va?i': 1, 'so:)': 1, 'hrishi': 1, 'hanger': 1, 'heavy?': 1, 'restaurant.': 1, 'arrow': 1, 'blanket': 1, '08718726971': 1, 'tddnewsletter@emc1.co.uk': 1, '(more': 1, 'thedailydraw)': 1, 'helen,': 1, 'dozens': 1, 'prizeswith..': 1, 'significant': 1, 'high.': 1, 'waqt': 1, 'pehle': 1, 'naseeb': 1, 'zyada': 1, 'kisi': 1, 'ko': 1, 'kuch': 1, 'milta,zindgi': 1, 'hum': 1, 'sochte': 1, 'zindgi': 1, 'jeetey': 1, 'hai..........': 1, 'stalking': 1, 'reminded': 1, 'varaya': 1, 'elaya.': 1, '***************': 1, '10/06/03!': 1, '09066368753': 1, '97n7qp,': 1, 'anand': 1, 'why:-)': 1, 'store.': 1, 'beach': 1, 'expected...': 1, 'dead!well': 1, 'jez': 1, 'todo': 1, 'workand': 1, 'whilltake': 1, 'zogtorius.': 1, 'i\\x92ve': 1, 'financial': 1, 'problem.i': 1, 'help:)': 1, 'alian': 1, 'b/tooth': 1, 'free-nokia': 1, 'or2optout/hv9d': 1, 'yijue,': 1, 'posible': 1, 'century': 1, 'frwd': 1, 'affectionate': 1, 'sorts': 1, 'restrictions,': 1, 'choose.': 1, 'buddys.': 1, '08712402902': 1, 'bus?': 1, 'screamed': 1, 'owned': 1, '*possessive': 1, 'no..he': 1, 'clarification': 1, 'coimbatore.': 1, 'expired': 1, 're-sub': 1, 'monoc': 1, 'monos': 1, 'polyc': 1, 'stream': 1, '0871212025016': 1, 'nice!': 1, 'sheffield': 1, 'opinions': 1, 'categories': 1, 'ethnicity': 1, 'census.': 1, 'transcribing.': 1, 'paragon,': 1, 'sense?': 1, 'cut?': 1, 'hmm,': 1, 'unfortunately...': 1, 'cakes.': 1, 'draws!': 1, '2day!': 1, 'goodmate': 1, 'sary!': 1, 'asusual!1': 1, 'cheered': 1, 'up!': 1, 'franyxxxxx': 1, 'batt': 1, 'this,': 1, '8am.': 1, 'me.\"...': 1, 'gn': 1, 'perfect!': 1, 'becausethey': 1, '09058098002.': 1, 'pobox1,': 1, 'w14rg': 1, 'boo.': 1, 'gained': 1, 'pressure': 1, 'limits': 1, 'dumb?': 1, 'doke.': 1, 'laying': 1, 'ill!': 1, 'them...': 1, 'neshanth..tel': 1, 'byatch': 1, 'whassup?': 1, 'cl.': 1, 'babe:': 1, 'filthyguys.': 1, 'bitch.': 1, 'slo': 1, 'hard!': 1, 'slo(4msgs)': 1, 'wasted...': 1, 'chiong': 1, 'darren...': 1, 'dialogue': 1, 'reltnship..!!': 1, '\"wen': 1, 'die,': 1, 'body..!!': 1, 'wipe': 1, 'tears': 1, 'time..!gud': 1, 'pose': 1, 'comb': 1, 'dryer': 1, 'fps': 1, 'computational': 1, 'science...': 1, 'answered': 1, 'madam,regret': 1, 'disturbance.might': 1, 'dlf': 1, 'premarica.kindly': 1, 'informed.rgds,rakhesh,kerala.': 1, 'gotto': 1, '08702840625': 1, 'comuk.220cm2': 1, 'err...': 1, '8pm.': 1, 'fun...': 1, 'k:)but': 1, 'hitter.anyway': 1, 'hey!!!': 1, 'b-day': 1, 'ya!!': 1, 'custcare:08718720201': 1, 'find.': 1, 'offline': 1, \"anjola's\": 1, 'i?this': 1, 'www.asjesus.com': 1, 'wrote.': 1, 'opinions.': 1, '1/1': 1, 'drug.': 1, 'directors.': 1, 'lac': 1, 'crore\"': 1, 'deposited': 1, \"'taxless'\": 1, 'crore': 1, 'indians.': 1, 'lane': 1, 'roads.': 1, 'suply': 1, 'projects.': 1, '/-': 1, 'imf': 1, 'loan.': 1, 'blocked': 1, 'corrupt': 1, 'itna': 1, 'karo': 1, 'ki': 1, 'pura': 1, 'padhe.g.m.\"': 1, 'boye.': 1, 'torrents': 1, 'particularly': 1, 'slowing': 1, 'moon.': 1, 'commit': 1, '83370.': 1, 'www.music-trivia.net': 1, 'hee..': 1, 'rightio.': 1, '11.48': 1, 'church': 1, 'brum!': 1, 'scorable': 1, 'care!': 1, 'bad,': 1, '(kadeem)': 1, 'break,': 1, 'paranoid': 1, 'brin': 1, 'sheet': 1, 'k..give': 1, 'complain': 1, 'only..bettr': 1, 'bsnl': 1, 'offc': 1, 'friday?': 1, 'payed.': 1, 'suganya.': 1, 'dessert.': 1, 'abeg,': 1, 'profit.': 1, 'start.': 1, 'sponsors': 1, 'event?': 1, 'onum': 1, 'than.': 1, 'k.k..how': 1, 'kids?': 1, 'can.dont': 1, 'change,': 1, 'poet': 1, 'imagination..my': 1, 'forever....': 1, 'car.so': 1, 's.i': 1, 'rr..': 1, 'famamus....': 1, 'together.': 1, 'road...': 1, 'pple...': 1, 'problem!': 1, 'locks': 1, 'jenne.': 1, 'easiest': 1, 'barcelona.': 1, 'sppok': 1, 'logo&pic': 1, 'complementary': 1, 'wa14': 1, '2px': 1, 'sender:': 1, 'k.:)do': 1, 'da:)urgent:)': 1, 'pansy!': 1, 'jungle': 1, 'years!': 1, 'about!': 1, 'kanji': 1, 'took.': 1, 'drink.pa': 1, 'srs': 1, 'drizzling': 1, 'appointments': 1, 'week.:/': 1, 'body?': 1, 'sad..': 1, 'over..': 1, 'excused.': 1, 'drama': 1, 'pls.i': 1, 'struggling': 1, 'strange': 1, 'place.no': 1, 'ego': 1, \"'if\": 1, \"invited'\": 1, 'necessity': 1, 'go.wait': 1, 'reppurcussions.': 1, 'cosign': 1, 'alcohol,': 1, 'hvae': 1, '09061701444.': 1, 'hcl': 1, 'requires': 1, 'freshers': 1, 'voice': 1, 'process.excellent': 1, 'needed.salary': 1, '.call': 1, 'ms.suman': 1, 'telephonic': 1, '-via': 1, 'resume': 1, 'forgot..': 1, 'ola': 1, 'cut.': 1, 'rest!u??wud': 1, 'reliant': 1, 'fwiw': 1, 'afford': 1, '...*kiss*': 1, 'kano..whr': 1, 'maga?': 1, 'sq825,': 1, 'arrival': 1, 'yunny': 1, 'citylink': 1, 'props?': 1, 'account?': 1, 'pleasant': 1, '-u': 1, 'c,': 1, 'statements': 1, '6230': 1, 'camera.': 1, '83383': 1, 'pobox114/14tcr/w1': 1, 'bognor': 1, 'splendid': 1, \"yes.i'm\": 1, 'ktv': 1, 'oso?': 1, 'misplaced': 1, 'mcat.': 1, 'atlanta': 1, 'computers?': 1, 'sec?': 1, 'begun': 1, 'registration': 1, 'permanent': 1, 'residency': 1, 'costs,': 1, 'risks,': 1, 'benefits': 1, 'hmmm:)how': 1, 'selected?': 1, 'snow,': 1, 'predicting': 1, 'accumulation.': 1, 'mode.': 1, 'meh.': 1, 'programs': 1, 'sister..': 1, 'belongs': 1, 'family..': 1, 'tomorrow..': 1, 'her,who': 1, 'fated': 1, 'shoranur': 1, 'incident.': 1, 'fuelled': 1, 'concern': 1, 'prior': 1, 'grief': 1, 'women.': 1, 'text82228>>': 1, 'ringtones,': 1, 'logos': 1, 'www.txt82228.com.': 1, 'questions:': 1, 'info@txt82228.co.uk': 1, 'honestly': 1, 'promptly': 1, 'burnt': 1, ':)my': 1, ':-)please': 1, 'try:-)': 1, 'camera,': 1, 'snap': 1, '(quizclub': 1, '80122300p/wk': 1, 'sp:rwm': 1, 'ph:08704050406)': 1, 'gmw': 1, 'connected': 1, 'someplace,': 1, 'gd.': 1, 'goods.': 1, 'pressies': 1, '7ish?': 1, 'dr': 1, 'die.': 1, 'room?': 1, 'you..': 1, 'ultimately': 1, 'tor': 1, 'motive': 1, 'tui': 1, 'achieve': 1, 'korli.': 1, 'we‘ll': 1, 'dock,': 1, 'rolled': 1, 'newscaster': 1, 'dabbles': 1, 'flute': 1, 'wheel': 1, 'vid': 1, 'keyword': 1, 'video.': 1, 'thesis!': 1, 'erm.': 1, 'the4th': 1, 'october.': 1, 'when...': 1, 'pilates...': 1, '83435.': 1, '08706091795.': 1, 'elaborating': 1, 'safety': 1, 'aspects': 1, 'issues..': 1, 'tarot': 1, 'texts!': 1, '85555': 1, '1hr.': 1, 'department': 1, 'ours:)so': 1, 'you:)any': 1, 'conform': 1, 'it:)': 1, 'horniest': 1, '2nite!.': 1, 'instructions.': 1, '69888': 1, 'nyt.ec2a.3lp.msg@150p': 1, 'flow': 1, 'developed': 1, 'ovarian': 1, 'cysts.': 1, 'shrink': 1, 'on:)it': 1, 'upping': 1, 'grams': 1, \"(he's\": 1, '),': 1, 'timin': 1, 'apes,': 1, 'go,': 1, 'notice.': 1, 'fujitsu,': 1, 'ibm,': 1, 'hp,': 1, 'toshiba...': 1, 'gosh': 1, 'spose': 1, 'rimac': 1, 'arestaurant': 1, 'squid!': 1, '10:30': 1, 'dosomething': 1, 'late?': 1, 'u.call': 1, 'wrk.i': 1, 'dabooks.': 1, 'nite+2': 1, 'wrk!': 1, '&sam': 1, 'eachother.': 1, 'luckily': 1, 'starring': 1, 'madam': 1, 'restocked': 1, 'www.tkls.com': 1, 'stoptxtstop£1.50/week': 1, 'mental': 1, 'question..': 1, 'smoothly.': 1, 'challenging': 1, 'hon': 1, 'pple...$700': 1, '$900': 1, 'nights...excellent': 1, 'breakfast': 1, 'hamper!!!': 1, 'cc100p/min': 1, 'website?': 1, 'da..al': 1, 'above': 1, '\"polys\"': 1, '87131.': 1, '0870737910216yrs': 1, '£1.50/wk.': 1, 'unni': 1, 'recharge..rakhesh': 1, 'lacking': 1, 'particular': 1, \"dramastorm's\": 1, 'what...': 1, 'forfeit...': 1, 'treated': 1, 'digi': 1, 'cam,': 1, 'coupla': 1, 'wks!': 1, '077xxx': 1, '09066362206': 1, 'sundayish,': 1, 'held': 1, 'prasad.': 1, 'rcb.battle': 1, 'kochi.': 1, 'checkup': 1, 'smear': 1, 'gobi': 1, 'pandy': 1, '4w': 1, 'technologies': 1, 'today.he': 1, 'job..': 1, 'try!': 1, 'lost,': 1, 'fact.': 1, 'em,': 1, 'olowoyey@': 1, 'usc.edu': 1, 'argentina.': 1, 'secretary,': 1, 'it,,s': 1, 'taxt': 1, 'massage....tie-pos': 1, 'lool!': 1, 'february.': 1, 'confidence': 1, \"taylor's\": 1, 'shaking': 1, 'floor?': 1, 'da:)i': 1, 'times:)lil': 1, 'busy.i': 1, 'noon..': 1, 'sarcasm..': 1, '.nt': 1, 'scarcasim': 1, 'naal': 1, 'eruku.': 1, 'chikku..wat': 1, 'sexy?': 1, 'w4': 1, '5wq': 1, '150p/tone': 1, 'impressively,': 1, 'sensible,': 1, 'boring?!': 1, 'yours,': 1, 'only:-)..': 1, 'nyt.': 1, '£1.50/msg': 1, 'also.or': 1, 'da:)nalla': 1, 'hope?': 1, 'obedient,': 1, 'slave?': 1, 'ft.': 1, 'combination!': 1, 'needy': 1, '?!': 1, 'alone.': 1, 'playng': 1, '1)mcfly-all': 1, 'ab..,': 1, 'sara': 1, 'jorge-shock..': 1, 'smith-switch..': 1, 'dream.': 1, 'next.': 1, 'yupz...': 1, 'model..sony': 1, 'ericson': 1, 'der..': 1, '..it': 1, 'luks': 1, 'modl': 1, 'cheesy': 1, 'frosty': 1, 'witin': 1, 'fans': 1, 'str*': 1, '0870141701216+': 1, '4txt/120p': 1, '930': 1, 'europe': 1, '10th': 1, '09050000555.': 1, 'ba128nnfwfly150ppm': 1, 'nudist': 1, 'themed': 1, 'pump': 1, 'petrol': 1, '£12': 1, 'signal.': 1, 'has,': 1, 'unusual': 1, 'itself!': 1, 'snogs.': 1, 'palm,': 1, 'printing': 1, 'handing': 1, 'flirt?': 1, '83021.': 1, 'stated': 1, 'perpetual': 1, 'dd': 1, 'shop.': 1, 'yogasana?': 1, 'pract': 1, 'lessons..': 1, 'flung': 1, 'big!': 1, 'okie..': 1, 'thanx..': 1, 'buy?': 1, 'process.': 1, 'justbeen': 1, 'overa': 1, 'brains': 1, 'mush!': 1, 'tunde,': 1, 'missions': 1, '20m12aq.': 1, '“': 1, 'lux': 1, '28,': 1, 'eh74rr': 1, 'lei..': 1, 'sleepy.': 1, 'stupid.': 1, 'avo': 1, 'point?': 1, 'crashed': 1, 'cuddled': 1, 'sofa.': 1, 'chachi': 1, 'pl': 1, 'tiz': 1, 'kanagu': 1, 'prices': 1, 'ringing': 1, 'houseful': 1, 'brats': 1, 'pulling': 1, 'died.': 1, 'want?': 1, 'now.onion': 1, 'roast.': 1, 'prepare.': 1, 'computer?': 1, 'lor?': 1, 'thanks...': 1, 'derp.': 1, 'worse,': 1, 'abusers': 1, 'lipo.': 1, 'easter.': 1, 'netflix': 1, 'clash...': 1, 'weight...': 1, 'arr': 1, 'oscar.': 1, 'rebtel': 1, 'firefox.': 1, 'numbers.': 1, 'okay!': 1, '69969': 1, 'bcmsfwc1n3xx': 1, 'impressed.': 1, 'funs': 1, 'shopping!': 1, 'footy': 1, 'stadium?': 1, 'large': 1, 'coca-cola': 1, 'teenager': 1, 'telugu..thts': 1, 'esplanade?': 1, 'garage.': 1, 'replacing.': 1, 'mittelschmertz.': 1, 'paracetamol': 1, 'sales/pee': 1, 'arrived,': 1, 'incident?': 1, 'cthen': 1, 'enuff..': 1, 'conclusion': 1, 'references..': 1, 'pg..': 1, 'at/your': 1, 'big..|': 1, 'success.': 1, 'u’ve': 1, '£50': 1, 'instant': 1, '08715203028': 1, '9th': 1, '£50-£500.': 1, '08718727870': 1, 'wed.': 1, 'rugby': 1, 'library?': 1, 'affidavit': 1, 'twiggs': 1, 'st,': 1, 'division': 1, 'courtroom': 1, 'freemsg>fav': 1, 'tones!reply': 1, 'fever:)': 1, 'fine:)': 1, 'hands...': 1, 'once.': 1, 'showers': 1, 'possessiveness': 1, 'poured': 1, 'ones,': 1, 'lies,': 1, 'golden': 1, 'truly..': 1, 'lasting': 1, 'lucky.': 1, 'skype.': 1, 'mobs': 1, 'breathe1': 1, 'crazyin,': 1, 'sleepingwith,': 1, 'finest,': 1, 'ymca': 1, ':getzed.co.uk': 1, 'pobox365o4w45wq': 1, '300p': 1, 'wtc': 1, 'weiyi': 1, 'goin...': 1, 'join...': 1, '*passionate': 1, \"\\x93it's\": 1, 'flowers': 1, '505060': 1, 'god..taken': 1, 'teeth?is': 1, 'paining': 1, 'romcapspam': 1, 'presence': 1, 'outgoing.': 1, 'sunshine.': 1, 'sian': 1, 'maggi': 1, 'mee..': 1, '08712103738': 1, 'right,': 1, 'cough': 1, 'com': 1, 'fine.,': 1, 'bbd(pooja)': 1, 'pimples..even': 1, 'black..and': 1, 'cold,': 1, 'sweatter..': 1, 'mate,': 1, 'ambitious.': 1, 'miiiiiiissssssssss': 1, 'tunji,': 1, 'misscall': 1, 'frndz': 1, '6missed': 1, 'lover.': 1, 'free-message:': 1, 'jamster!get': 1, 'frog': 1, 'mad1,': 1, 'mad2': 1, '88888.': 1, 'gbp/week!': 1, '16+only!': 1, 'dear?': 1, 'wipro': 1, 'tall': 1, 'case...': 1, 'sound...': 1, 'robs': 1, 'fault.': 1, 'avenge': 1, \"fren's\": 1, 'choices': 1, 'toss': 1, 'gudni8': 1, 'lovely,': 1, 'drinkin,': 1, 'dancin,': 1, 'eatin,': 1, 'cinema,': 1, 'about...': 1, 'explicitly': 1, 'nora': 1, 'smith': 1, 'da.i': 1, 'gayle.': 1, 'crucify': 1, 'moved,': 1, 'butting': 1, 'vs.': 1, 'cedar': 1, '(come': 1, 'tho)': 1, 'durham': 1, 'reserved': 1, '69855,': 1, '24hrs': 1, 'stopbcm': 1, 'sf': 1, 'painting': 1, 'wall?': 1, 'printer': 1, 'groovy.': 1, 'groovying': 1, \"harish's\": 1, 'transfred': 1, 'acnt.': 1, 'nowadays:)lot': 1, 'showrooms:)city': 1, 'shaping': 1, 'attending': 1, 'talks?': 1, 'hon!': 1, 'doinat': 1, 'mo?': 1, 'callon': 1, \"ron's\": 1, 'watch...': 1, 'k...k...yesterday': 1, 'pdate_now': 1, 'call2optout/!yhl': 1, 'configure': 1, 'settings': 1, '..now': 1, 'bill,': 1, 'in:': 1, 'i’m': 1, 'isn’t': 1, 'anal': 1, 'ha.': 1, 'pears': 1, 'celebrate.': 1, 'such': 1, 'sight': 1, 'white.': 1, 'oooooh': 1, '09058094454': 1, 'that...now': 1, 'thinking.': 1, '54': 1, 'weeks>': 1, 'resubmit': 1, 'expiry.': 1, 'chikku..:-)': 1, 'nyt:-*': 1, 'we\\x92ve': 1, '2geva,': 1, 'mint!': 1, 'u!xxxx': 1, 'sitting.': 1, 'humans': 1, 'god..': 1, 'studyn': 1, 'shows...': 1, 'everyboy': 1, 'xxxxxxxx': 1, \"hi'\": 1, '2%': 1, 'students': 1, 'solved': 1, \"'xam...\": 1, '5+3+2=': 1, '9+2+4=': 1, '8+6+3=': 1, '7+2+5=?????': 1, 'brilliant...1thing.i': 1, 'answr.': 1, 'liquor?': 1, 'loko': 1, '730.': 1, 'lined': 1, '\"wow': 1, \"tm'ing\": 1, '?!\"': 1, '*laughs*': 1, 'fireplace.': 1, 'icon': 1, '08712400200.': 1, 'job,': 1, 'fifth': 1, 'woozles': 1, 'weasels...': 1, 'still,': 1, '08718723815.': 1, 'sooner.': 1, 'machines': 1, '3!': 1, 'fucks': 1, 'sake?!': 1, 'ignorant.': 1, 'mys': 1, 'downs': 1, 'fletcher': 1, '£1,500': 1, '27/6/03.': 1, '08714714011': 1, 'teaching': 1, 'twelve,': 1, 'two.': 1, 'bowls': 1, 'cozy.': 1, 'night.nobody': 1, 'closed.': 1, 'buzzzz!': 1, 'ass?': 1, 'vibrator': 1, 'shake': 1, 'covers': 1, 'trends': 1, 'pros': 1, 'cons...': 1, 'description': 1, 'nuclear': 1, 'fusion': 1, 'iter': 1, 'jet': 1, 'pages..': 1, 'none!nowhere': 1, 'ikno': 1, 'doesdiscount!shitinnit': 1, 'jabo': 1, 'driving,': 1, 'slower': 1, 'maniac?': 1, 'had..ya': 1, 'sapna': 1, 'aunty': 1, 'manege': 1, \"y'day\": 1, 'hogidhe..chinnu': 1, 'swalpa': 1, 'agidhane..': 1, 'type..lyk': 1, 'footbl,crckt..': 1, 'swell': 1, 'sary': 1, 'tim': 1, 'bollox': 1, '&it': 1, 'tol': 1, 'ingredients!': 1, 'pocy': 1, 'non': 1, 'stop...': 1, 'elsewhere?': 1, 'dvd!': 1, 'call2optout/4qf2': 1, 'sleeping?': 1, 'nap..': 1, 'senor': 1, 'giggle': 1, 'possibly': 1, 'person2die': 1, 'nvq,': 1, 'for!': 1, 'how...': 1, 'professional': 1, 'tiger': 1, 'woods': 1, 'play?': 1, 'grinder?': 1, 'you.:)k:)where': 1, 'buyers.': 1, 'figuring': 1, 'entirely': 1, 'underwear.': 1, 'know..he': 1, 'computer..': 1, 'disconnected': 1, 'onluy': 1, 'matters': 1, 'offcampus': 1, '18+only': 1, 'excellent,': 1, \"riley's\": 1, 'ew': 1, 'them?': 1, 'wesley': 1, \"how've\": 1, 'lingo.': 1, 'rental:': 1, '400mins...call': 1, 'call2optout=j5q': 1, 'see..': 1, \"me?don't\": 1, 'worry..': 1, \"l'm\": 1, 'goodnoon..:)': 1, 'anyone?': 1, '69200': 1, 'chrgd@50p': 1, '2exit.': 1, 'approaching.': 1, 'sankranti': 1, 'republic': 1, 'shivratri': 1, 'ugadi': 1, 'fools': 1, 'independence': 1, 'friendship,mother,father,teachers,childrens': 1, 'festival': 1, 'dasara': 1, 'mornings': 1, 'afternoons,': 1, 'rememberi': 1, \"these...your's\": 1, 'joys': 1, 'lifeis': 1, 'daywith': 1, 'thoughts': 1, 'somewheresomeone': 1, 'tosend': 1, 'greeting..': 1, 'selflessness.': 1, 'plenty.': 1, 'lady.': 1, '\"don\\'t': 1, 'initiate\"': 1, 'game?': 1, 'tallent': 1, 'wasting.': 1, 'payment': 1, 'portal.': 1, \"don't4get2text\": 1, 'pleasure...': 1, ';-)': 1, 'lennon.': 1, 'bothering': 1, 'answers.': 1, 'shore..the': 1, 'crab..': 1, 'asked:': 1, 'footprints?': 1, 'replied:': 1, 'fox': 1, 'off:)': 1, 'frndsship': 1, 'dwn': 1, 'slaaaaave': 1, 'summon': 1, 'anymore?': 1, '£33.65': 1, 'bad!': 1, 'appendix': 1, 'range.': 1, 'impossible.': 1, 'yeah?': 1, 'h&m': 1, 'friday,': 1, 'wait.': 1, 'slob-': 1, 'answer:': 1, 'life?\"': 1, 'smiled': 1, 'answered:': 1, '\"she': 1, 'fine!\"': 1, 'gudnite': 1, 'topic..sorry': 1, 'that..': 1, 'date?': 1, 'webpage': 1, 'available!': 1, 'yeesh': 1, 'unsubscribed': 1, 'hunks': 1, 'http://gotbabes.co.uk.': 1, 'subscriptions.': 1, 'all,': 1, 'gopalettan.': 1, 'participate': 1, 'k..k...from': 1, 'at!': 1, 'jordan,': 1, 'abroad': 1, 'lonely,': 1, 'xxsp': 1, 'stopcost': 1, '08712400603': 1, 'agent': 1, 'mob!': 1, 'goodies!': 1, 'mat': 1, 'ay': 1, 'sat?ü': 1, 'steal': 1, 'recently.': 1, 'isaiah.=d': 1, 'penis.': 1, 'expert': 1, '*deep': 1, 's.s:)i': 1, 'thinl': 1, 'sachin.just': 1, 'hit.': 1, 'importantly,': 1, 'process?': 1, 'tightly.': 1, \"'wnevr\": 1, 'fal': 1, 'books,': 1, 'fals': 1, \"me..!''\": 1, 'yen': 1, 'madodu,': 1, 'nav': 1, 'pretsorginta,': 1, 'nammanna': 1, 'pretsovru': 1, 'alwa....!!:)': 1, 'eveb-).': 1, 'window:-)': 1, 'lord': 1, 'rings:return': 1, 'now!reply': 1, 'soundtrack': 1, 'stdtxtrate.': 1, 'home.love': 1, 'staff.science.nus.edu.sg/~phyhcmk/teaching/pc1323': 1, 'emigrated': 1, 'hopeful...': 1, 'olol': 1, 'replacement.': 1, 'stagwood': 1, 'winterstone': 1, 'victors': 1, 'jp': 1, 'mofo?': 1, 'pathaya': 1, 'enketa': 1, 'maraikara': 1, \"pa'\": 1, 'priest': 1, 'lousy,': 1, 'dead...': 1, 'hrs.': 1, 'reserves': 1, 'intrude': 1, 'hun': 1, 'walkabout': 1, 'cashed': 1, 'case.': 1, 'announced': 1, 'blog.': 1, '28th': 1, '06.': 1, 'prove\"': 1, 'mrng...': 1, 'got.': 1, 'footie': 1, 'phil': 1, 'neville?': 1, 'park...': 1, 'abbey!': 1, 'returning': 1, 'roger.': 1, 'auction:)punj': 1, 'str8': 1, 'classic': 1, 'polys.': 1, 'nokia/150p': 1, 'poly/200p': 1, 'photos.': 1, 'sexy!': 1, 'pre': 1, 'sacked': 1, 'ever,': 1, 'by?': 1, 'lookatme!:': 1, 'clip': 1, 'lookatme!,': 1, '35p.': 1, 'better?': 1, 'mmsto': 1, '32323.': 1, 'barred': 1, 'q': 1, 'life!?this': 1, 'twat': 1, 'dungerees': 1, 'decking?': 1, 'punch': 1, 'in!!': 1, 'mentionned': 1, 'chinese.': 1, 'porn!': 1, 'fun?': 1, 'recd': 1, 'vat': 1, ':)going': 1, 'only.don': 1, 'boy;': 1, 'hogolo': 1, 'kodstini': 1, 'madstini': 1, 'hogli': 1, 'mutai': 1, 'eerulli': 1, 'kodthini!': 1, 'kano;-)': 1, 'babe..': 1, 'thasa': 1, 'messed': 1, 'up.yeh,': 1, 'shudvetold': 1, 'urgran': 1, 'know?neway,': 1, 'illspeak': 1, 'u2moro': 1, 'asleep...': 1, 'late!': 1, 'tex': 1, 'mecause': 1, 'werebored!': 1, 'okden': 1, 'uin': 1, 'sat?sound\\x92s': 1, 'likeyour': 1, 'gr8fun': 1, 'updat': 1, 'countinlots': 1, 'xxxxx.': 1, 'yo!': 1, 'l': 1, 'tagged': 1, 'challenge?': 1, 'hdd': 1, 'casing': 1, 'solved!': 1, 'opened': 1, 'batch!': 1, 'describe': 1, '09053750005': 1, '310303.': 1, '08718725756.': 1, '140ppm': 1, 'asus': 1, 'reformat.': 1, 'facebook,': 1, 'b,': 1, 'le..u': 1, 'maga..': 1, 'plumbers': 1, 'wrench': 1, 'borrow?': 1, 'http://www.e-tlp.co.uk/reward.': 1, 'bcum': 1, 'usual...': 1, 'oredi?': 1, ':-):-)': 1, 'films.': 1, 'appeal': 1, 'thriller': 1, 'director': 1, 'mac': 1, '8.30.': 1, 'elephant': 1, 'shove': 1, 'um': 1, 'ass!!': 1, 'cr': 1, '20%': 1, 'pookie': 1, 'pie!': 1, 'you....dear.with': 1, 'love.rakhesh': 1, 'nri': 1, 'x2': 1, 'deserve.': 1, '88039.skilgme.tscs087147403231winawk!age16+£1.50perwksub': 1, 'aft?': 1, 'mouth': 1, 'well?': 1, 'text!': 1, 'diddy': 1, 'neighbor': 1, 'toothpaste': 1, 'one,ta.': 1, 'poking': 1, 'canada': 1, 'abi!': 1, 'suntec...': 1, 'de.am': 1, 'asked.': 1, 'conditions?': 1, 'coccooning': 1, 'mus': 1, 'asap?': 1, 'yeah,and': 1, 'newquay-send': 1, '!1': 1, 'gone(u': 1, '1im': 1, 'talkin': 1, 'bout!)xx': 1, 'divorce.': 1, 'pin?': 1, 'bread': 1, 'windy.': 1, '09066358361': 1, 'y87.': 1, 'stop..': 1, 'know:)this': 1, 'tirunelvai': 1, 'dusk': 1, 'puzzles': 1, 'x29.': 1, '09065989180': 1, 'stairs': 1, '*phews*': 1, \"thangam.it's\": 1, 'mistake.': 1, 'need...': 1, 'dick': 1, 'sup,': 1, 'do..': 1, 'recycling:': 1, 'twice-': 1, 'earning': 1, 'time!;-)': 1, 'morning..': 1, 'toledo.': 1, 'tai': 1, 'feng': 1, 'reservations.': 1, 'swimsuit': 1, 'friendship:': 1, 'true\"....': 1, 'squeeeeeze!!': 1, 'hug..': 1, 'frndshp': 1, 'back..': 1, 'cute:)': 1, 'luvd:*': 1, 'lucky;)': 1, 'none?': 1, 'them..:-p': 1, 'volcanoes': 1, 'erupt,': 1, 'arise,': 1, 'hurricanes': 1, 'sway': 1, 'aroundn': 1, 'disasters': 1, 'wot?': 1, 'lighters': 1, 'four,': 1, '7pm': 1, '......forward': 1, 'k:)k..its': 1, 'good:)when': 1, 'lasagna': 1, 'vodka...': 1, 'going,': 1, 'chickened': 1, 'woould': 1, '08718726978': 1, 'city.': 1, 'drove': 1, 'lift...': 1, 'shore': 1, 'ex?': 1, '44': 1, '7732584351,': 1, 'on-edge': 1, 'raviyog': 1, 'peripherals': 1, 'bhayandar': 1, 'sunoco': 1, 'howard?': 1, 'musical': 1, 'eating.': 1, 'plate.': 1, 'leftovers': 1, 'starving.': 1, 'cooked.': 1, 'diet?': 1, 'fatty': 1, 'interview?': 1, 'badrith': 1, 'chennai:)i': 1, 'us:)no': 1, 'mate...': 1, 'leave...': 1, 'owe': 1, 'yck': 1, 'checkin': 1, 'number-so': 1, 'it?t.b*': 1, 'house,': 1, 'armenia': 1, 'swann': 1, 'howard': 1, '09058097189': 1, '330.': 1, '1120': 1, '1205': 1, 'mind?': 1, '\"wylie': 1, 'justify': 1, 'little.': 1, 'comes..': 1, 'comes,': 1, 'hunt': 1, 'goodmorning:)': 1, 'leona?': 1, '5226': 1, '?350': 1, 'hava': 1, '1131': 1, \"rct'\": 1, 'thnq': 1, 'adrian': 1, 'rgds': 1, 'vatian': 1, 'everyones': 1, 'babysitting': 1, \"it'll\": 1, 'tough,': 1, 'gonnamissu': 1, 'much!!i': 1, 'buttheres': 1, 'aboutas': 1, 'merememberin': 1, 'asthere': 1, 'ofsi': 1, 'breakin': 1, 'contract!!': 1, 'yaxx': 1, 'poortiyagi': 1, 'odalebeku:': 1, 'hanumanji': 1, '1-hanuman': 1, '2-bajarangabali': 1, '3-maruti': 1, '4-pavanaputra': 1, '5-sankatmochan': 1, '6-ramaduth': 1, '7-mahaveer': 1, 'janarige': 1, 'ivatte': 1, 'kalisidare': 1, 'olage': 1, 'ondu': 1, 'keluviri...!': 1, 'maretare': 1, 'inde': 1, 'dodda': 1, 'problum': 1, 'nalli': 1, 'siguviri': 1, 'idu': 1, 'matra': 1, 'true..': 1, 'neglet.': 1, 'bishan?': 1, 'trouble?': 1, 'ijust': 1, 'talked': 1, 'morning!': 1, 'opps,': 1, 'confused...': 1, \"tt's\": 1, 'gei.': 1, 'happend': 1, 'tron.': 1, 'dl': 1, 'selfish': 1, 'worries,': 1, 'spiffing': 1, 'workage.': 1, 'craving': 1, 'ice.': 1, 'fml': 1, 'office?': 1, 'supose': 1, 'much.i': 1, 'babysit': 1, 'there.xx': 1, 'since.': 1, 'spaces.': 1, 'embassy': 1, 'work...': 1, 'painting?': 1, '11?': 1, 'lightly,': 1, 'checkboxes': 1, 'hundred.he': 1, 'batsman:-)': 1, \"yetty's\": 1, 'theory': 1, 'book?': 1, 'may.': 1, 'jiayin.': 1, '09050000928.': 1, '*covers': 1, 'kisses*': 1, 'walmart.': 1, 'welcome...': 1, 'baby.': 1, 'talk?': 1, 'brand?': 1, 'emailed': 1, 'yifeng': 1, 'oredi..': 1, 'him..': 1, \"they'll\": 1, 'slurp!': 1, '3miles': 1, 'taxi.': 1, 'ing': 1, 'cinema.': 1, 'brainless': 1, 'doll..:-d;-),': 1, 'vehicle': 1, 'sariyag': 1, 'madoke': 1, 'barolla..': 1, '07090201529': 1, 'phone:)': 1, 'postponed,': 1, 'stocked': 1, 'pa..': 1, 'tiime': 1, 'tears.': 1, 'fml.': 1, 'smoke,': 1, 'afternon,': 1, 'interviews.': 1, 'shuhui?': 1, 'resizing': 1, 'finished.': 1, '09066364349': 1, 'box434sk38wp150ppm18+': 1, 'opposed': 1, 'sunday?': 1, 'msg:we': 1, 'shortcode': 1, '83332.please': 1, '08081263000': 1, 'refunded.this': 1, 'somerset...': 1, 'far!': 1, 'overtime': 1, 'nigpun?': 1, 'dismissial': 1, 'test:-).': 1, 'screwd': 1, '08712402972': 1, 'cooking': 1, 'bull.': 1, 'floating': 1, '09058095201': 1, 'heehee': 1, 'arithmetic': 1, 'percentages.': 1, 'least,': 1, 'honey.': 1, \"'an\": 1, \"quote''\": 1, '\"sometimes': 1, 'wrong!!': 1, 'tear....\"': 1, 'chillaxin,': 1, 'das': 1, 'cool...': 1, 'iknow': 1, 'wellda': 1, 'peril': 1, 'studentfinancial': 1, 'crisis!spk': 1, 'hill.....': 1, 'monster!': 1, 'though!': 1, 'obey': 1, 'didnt.': 1, 'pic.': 1, 're-send.': 1, 'uhhhhrmm': 1, 'enuff': 1, 'mb...': 1, 'gbp/sms': 1, '600': 1, '400': 1, 'deltomorrow': 1, '09066368470': 1, 'welcome!': 1, 'begin.': 1, 'e.g': 1, '24m': 1, '1-month': 1, 'calls!': 1, 'smartcall': 1, '68866.': 1, 'subscriptn3gbp/wk': 1, 'help:': 1, '08448714184': 1, 'stop?txt': 1, 'landlineonly': 1, '£s': 1, 'texts/weekend': 1, 'callback': 1, 'orno': 1, 'fink': 1, '09099726553': 1, 'promised': 1, 'carlie': 1, 'calls£1/minmobsmore': 1, 'lkpobox177hp51fl': 1, 'youphone': 1, 'athome': 1, 'youwanna': 1, 'jack': 1, 'say/ask': 1, 'helpful': 1, 'pretend': 1, 'hypotheticalhuagauahahuagahyuhagga': 1, 'brainy': 1, 'occasion': 1, 'celebrated': 1, 'reflection': 1, 'ur...': 1, 'values...,': 1, 'desires...,': 1, 'affections...&amp;': 1, 'traditions....': 1, 'christmas...': 1, 'cantdo': 1, 'anythingtomorrow': 1, 'myparents': 1, 'aretaking': 1, 'outfor': 1, 'meal.': 1, 'katexxx': 1, 'level': 1, 'record:)': 1, 'gate?': 1, '89105.': 1, 'lingerie': 1, 'www.bridal.petticoatdreams.co.uk': 1, 'weddingfriend': 1, 'board': 1, 'overheating': 1, 'reslove.': 1, 'inst': 1, 'pending.': 1, \"8'o\": 1, 'la,': 1, 'western': 1, 'food...': 1, 'prefer...': 1, 'incident..': 1, 'nowadays': 1, 'notixiquating': 1, 'laxinorficated': 1, 'bambling': 1, 'entropication....': 1, 'oblisingately': 1, 'opted': 1, 'books': 1, 'masteriastering': 1, 'amplikater': 1, 'fidalfication?': 1, 'champlaxigating,': 1, 'atrocious..': 1, 'wotz': 1, 'opinion????': 1, 'junna': 1, 'thk.': 1, 'bathe.': 1, 'door:)': 1, 'knickers': 1, '01223585236': 1, 'nikiyu4.net': 1, 'a30.': 1, 'divert': 1, 'wadebridge.i': 1, 'brilliant': 1, 'k..': 1, 'vill': 1, 'nb.': 1, '2,': 1, 'orc': 1, '4...': 1, 'seeking': 1, 'sheets.': 1, 'figures,': 1, 'day:)except': 1, 'sunday..': 1, 'bus!': 1, 'ended.': 1, \"wherre's\": 1, 'phone750': 1, 'prospects.': 1, '*a': 1, 'resolution.': 1, 'reply.be': 1, 'frank...good': 1, 'windows': 1, 'logoff': 1, 'sound..': 1, 'parkin': 1, 'vale...': 1, 'asa': 1, '09050000878.': 1, 'prince': 1, 'charming': 1, 'hard...': 1, 'mention': 1, 'served': 1, 'arnt': 1, 'xxxxxxxxxxxxxx': 1, 'dorothy@kiefer.com': 1, 'thurs...': 1, 'alle': 1, 'mone,eppolum': 1, 'oru': 1, 'pole': 1, 'allalo': 1, 'fundamentals': 1, 'life:': 1, '\"walk,': 1, 'king\"...!': 1, '\"walk': 1, 'care,whoever': 1, 'king\"!...': 1, '10.1mega': 1, 'pixels,': 1, '3optical': 1, '5digital': 1, 'dooms.': 1, 'holiday,': 1, 'both!': 1, 'petey!noi\\x92m': 1, 'time-hope': 1, 'alrite.have': 1, 'nit': 1, 'js': 1, 'am.x': 1, 'burgundy': 1, 'captaining': 1, 'amrita': 1, 'profile': 1, 'bpo..': 1, 'nighters.': 1, 'persevered': 1, 'apologise': 1, 'advance.': 1, 'cheaper.': 1, 'regretted': 1, 'wasn\\x92t': 1, 'spouse': 1, 'pmt': 1, 'sumthin!': 1, '4give': 1, 'shldxxxx': 1, 'mate!!': 1, \"that'd\": 1, 'scenario': 1, 'tonite...': 1, 'spun-out': 1, 'mo...': 1, 'wrld.': 1, 'nytho,': 1, 'tx': 1, 'fonin': 1, 'hon,': 1, '2mwen': 1, 'frmcloud': 1, '09071517866': 1, '150ppmpobox10183bhamb64xe': 1, 'club,': 1, '10am': 1, '8pm,': 1, 'thurs,': 1, 'fast!': 1, '(getting': 1, '8th)': 1, '9,': 1, 'pounded': 1, 'actually,': 1, 'oic': 1, 'sea*': 1, 'broadband': 1, 'processed': 1, 'successfully.': 1, 'installation': 1, 'tensed': 1, '3,': 1, 'coughing': 1, 'lt': 1, 'survey...': 1, 'send.': 1, 'warned': 1, 'sprint': 1, 'gower': 1, 'am!?!': 1, 'man?': 1, '\\x91morrow.': 1, 'wk?': 1, '4?': 1, 'random!': 1, 'chik.': 1, \"100's\": 1, '&xxx': 1, 'filth': 1, '69669.': 1, 'saristar': 1, 'e14': 1, '9yt': 1, '08701752560.': 1, '450p': 1, 'stop2': 1, 'sick?': 1, '420': 1, '50%': 1, '9061100010': 1, 'wire3.net': 1, '1st4terms': 1, 'pobox84': 1, 'mobcudb': 1, 'already..sabarish': 1, 'go..': 1, '09050000460': 1, 'j89.': 1, 'box245c2150pm': 1, 'inpersonation': 1, 'flea': 1, 'forums.': 1, 'banneduk': 1, 'highest': 1, '£54.': 1, 'maximum': 1, '£71.': 1, 'bid,': 1, '(to': 1, '£10)': 1, '83383.': 1, 'luck.': 1, \"ny's\": 1, 'taj': 1, 'lesser': 1, 'known': 1, 'facts': 1, \"shahjahan's\": 1, 'wifes.': 1, 'shahjahan': 1, 'arises': 1, 'love?:-|': 1, '-the': 1, 'hari-': 1, 'ok..come': 1, 'chat..': 1, \"valentine's\": 1, 'text:': 1, '69101.': 1, 'www.rtf.sphosting.com': 1, 'webadres': 1, 'geting': 1, 'confirmed': 1, 'passport': 1, 'dat..': 1, 'account..': 1, 'multiply': 1, 'independently': 1, 'division,': 1, 'showed': 1, 'be.': 1, 'twins': 1, 'maga': 1, 'strt': 1, 'ltdhelpdesk:': 1, '02085076972': 1, 'equally': 1, 'uneventful': 1, 'pesky': 1, 'cyclists': 1, ';).': 1, 'were/are': 1, 'nalla': 1, 'adi': 1, 'entey': 1, 'nattil': 1, 'kittum': 1, 'wkend.': 1, 'hire': 1, 'hitman': 1, 'year!': 1, 'august': 1, 'draw.': 1, '09066660100': 1, '2309.': 1, 'cps': 1, 'outages': 1, 'conserve': 1, 'energy.': 1, 'ask:-)': 1, 'pa...': 1, 'jordan': 1, 'voted': 1, 'nite!': 1, 'epi,': 1, 'bare': 1, 'cal.': 1, 'bhaskar,': 1, 'extra,': 1, 'individual': 1, 'gong.': 1, 'kaypoh..': 1, 'collecting.': 1, 'basketball.': 1, 'outdoors.': 1, 'range': 1, 'interfued': 1, 'listed': 1, ':zed': 1, 'apology': 1, 'hustle': 1, 'forth': 1, 'harlem.': 1, 'workout': 1, 'fats...': 1, 'zac': 1, 'sent:)': 1, 'fri!': 1, 'sexy...': 1, 'those!': 1, 'hui': 1, 'xin': 1, 'lib.': 1, 'difference.': 1, 'versus': 1, 'cry.': 1, 'else,': 1, 'pushes': 1, 'edge.': 1, 'underdtand': 1, 'it+both': 1, '+cheer': 1, 'up+not': 1, 'muchxxlove': 1, 'locaxx': 1, '07090298926': 1, 'ref:9307622': 1, 'skateboarding': 1, 'thrown': 1, 'winds': 1, 'bandages': 1, '\"stop': 1, 'mix\"': 1, 'my-tone.com/enjoy.': 1, 'html': 1, 'terms.': 1, 'gbp4.50/week.': 1, 'mfl,': 1, '1146': 1, '(2/3)': 1, 'upstairs.': 1, 'hectic': 1, 'swoop.': 1, 'date.': 1, 'wamma': 1, 'laid?want': 1, 'doggin': 1, 'dogs': 1, 'now!nyt.': 1, '£1.50/msg.': 1, 'cancel,': 1, 'forgiven!': 1, 'langport.': 1, 'virtual': 1, 'hug?...': 1, 'apnt': 1, '5pm.': 1, 'really??': 1, 'air?': 1, 'talent?': 1, 'pants.': 1, 'wait.i': 1, 'out..': 1, 'weekend!': 1, 'langport?': 1, 'xmas!': 1, 'go2sri': 1, 'lanka?': 1, 'word.....not': 1, 'merely': 1, 'relationship.....its': 1, 'wherevr..': 1, 'whenevr..': 1, 'forevr...': 1, 'gudnyt': 1, 'cannot?': 1, 'mistakes?': 1, 'sweet...': 1, 'sweetheart': 1, 'plum': 1, '*smacks': 1, 'ass*': 1, '50s?': 1, 'alot': 1, 'class:-)': 1, 'formatting...': 1, 'attracts': 1, 'promotion': 1, 'number:': 1, '8714714': 1, 'lou': 1, 'reply-': 1, 'lancaster,': 1, 'neway': 1, 'couldn\\x92t': 1, 'b\\x92day': 1, 'soc...': 1, 'ar...': 1, 'morning:)': 1, 'bsn': 1, 'advising': 1, 'lobby': 1, 'showered': 1, \"er'ything!\": 1, 'lubly!': 1, 'rs.5': 1, '087147123779am-7pm.': 1, 's:)but': 1, 'luck.2': 1, 'catches': 1, 'down:)': 1, 'specify': 1, 'domain': 1, 'nusstu...': 1, 'oh...i': 1, 'haha...take': 1, 'pouch?': 1, 'loverboy!': 1, 'studying?': 1, 'vale': 1, 'habit..': 1, 'bari': 1, 'hudgi': 1, 'yorge': 1, 'pataistha': 1, 'ertini': 1, 'kano:-)': 1, 'pa?': 1, 'commercial': 1, 'hasbro...in': 1, 'august!': 1, 'jump': 1, 'hoops': 1, 'late,so': 1, 'morning.take': 1, 'dreams....u': 1, 'me...ummifying...bye.': 1, 'associate.': 1, 'rip': 1, 'uterus.': 1, 'jacuzzi': 1, 'x49.': 1, '09065989182.': 1, 'from:': 1, '[colour=red]text[/colour]txtstar': 1, 'blank.': 1, 'blank?': 1, 'movie...': 1, '2nights': 1, 'uve': 1, 'xchat,': 1, 'wildest': 1, 'chat!': 1, 'spl..wat': 1, 'whr': 1, 'yet..': 1, 'aldrine,': 1, 'rakhesh': 1, 'rtm': 1, 'here.pls': 1, 'call.urgent.': 1, 'sources': 1, 'unhappiness!': 1, 'comes!': 1, 'any,': 1, 'necesity': 1, 'life?': 1, 'witout': 1, 'frnd..': 1, \"hw'd\": 1, 'colleg?': 1, \"wat'll\": 1, 'wth': 1, 'cell?': 1, 'functions?': 1, 'events': 1, \"espe'll\": 1, 'cared,': 1, 'irritated': 1, '4wrd': 1, 'dear-loving': 1, 'wthout': 1, 'takecare..:)': 1, 'univ.': 1, 'rajas': 1, 'burrito,': 1, 'stitch': 1, 'trouser': 1, '2/2': 1, '146tf150p': 1, 'cheetos': 1, 'penis': 1, 'synced': 1, 'shangela.': 1, 'passes': 1, '08704439680.': 1, 'buzz!': 1, 'again*loving': 1, 'crazy,': 1, 'early?': 1, 'poo': 1, 'gloucesterroad': 1, 'uup': 1, 'ouch': 1, 'asked,': 1, 'forgiveness?\"': 1, '\"it': 1, 'fruit': 1, 'stone..': 1, 'night......': 1, 'ask.': 1, 'glo': 1, '09058095107': 1, 's3xy': 1, 'yes.mum': 1, 'strong:)': 1, 'sore...': 1, 'wlcome': 1, 'timi': 1, 'hrishi.': 1, 'again..': 1, 'fishrman': 1, 'mrng.': 1, 'dark.': 1, 'sack': 1, 'stones.': 1, 'strtd': 1, 'throwin': 1, 'thm': 1, '1stone,': 1, 'stones,': 1, 'diamonds.': 1, 'moral:\"dont': 1, \"mrng''\": 1, 'spree,': 1, '08717895698': 1, 'mobstorequiz10ppm': 1, 'physics': 1, 'a-?': 1, 'ar.praveesh.': 1, 'delicious': 1, 'transaction?': 1, 'salad': 1, 'desert': 1, 'something...': 1, 'beers': 1, 'whore': 1, 'unbelievable.': 1, '\"get': 1, 'warm?': 1, '*adoring': 1, 'twinks,': 1, 'bears,': 1, 'scallies,': 1, 'skins': 1, 'jocks': 1, '08712466669': 1, '08712460324(nat': 1, 'flood': 1, 'cum...': 1, 'dr.': 1, 'beads': 1, 'ever.': 1, 'wishlist': 1, 'section': 1, 'forums': 1, 'nitro': 1, 'requests.': 1, \"'need'\": 1, \"'comfort'\": 1, \"'luxury'\": 1, 'sold': 1, 'india..!!': 1, 'onion-rs.': 1, 'petrol-rs.': 1, 'beer-rs.': 1, 'nvm,': 1, \"armand's\": 1, 'bro.': 1, 'creative.': 1, 'fake..my': 1, 'reffering': 1, 'u..if': 1, 'link,': 1, 'getiing': 1, 'rs..i': 1, 'rs..': 1, 'weirdy': 1, 'brownies': 1, 'cookies.': 1, '09061701851.': 1, 'k61.': 1, '12hours': 1, 'restrict': 1, 'audrey': 1, '7.30': 1, '8.30': 1, 'age.': 1, 'god.not': 1, 'jesus.': 1, 'her...': 1, 'chikku..k,': 1, 'irritating': 1, 'msging': 1, 'vivek..': 1, '74355': 1, 'exams,': 1, 'at,': 1, 'issue.': 1, 'out--if': 1, 'there--': 1, 'greece.': 1, 'recorded': 1, 'someday': 1, 'goodmorning,my': 1, 'grandfather': 1, 'expired..so': 1, 'november': 1, '09061104276': 1, 'cost£3.75max': 1, 'yuou': 1, 'spot': 1, 'agree.': 1, 'bunch': 1, 'lotto': 1, 'tickets.': 1, 'deal?': 1, 'auction..': 1, 'bird!': 1, 'purchases': 1, 'rent.': 1, 'authorise': 1, 'payment.': 1, 'erm': 1, '6.45pm.': 1, 'honey?did': 1, 'holiday?': 1, 'gimmi': 1, 'goss!x': 1, 'pain.it': 1, 'today.do': 1, 'ystrday.ice': 1, 'chile,': 1, 'subletting': 1, 'feb-april': 1, 'season.': 1, 'ammae....life': 1, 'steering...': 1, 'thought,': 1, \"anything's\": 1, 'mmmm....': 1, 'excuses': 1, 'cuddling..': 1, 'sleeps': 1, 'rounder:)so': 1, 'required:)': 1, 'true..k,do': 1, 'lambu': 1, 'ji': 1, 'come..til': 1, 'batchlor': 1, 'party:-)': 1, 'open.': 1, 'zoom': 1, 'cine...': 1, 'area!': 1, 'now!send': 1, '62220cncl': 1, 'stopcs': 1, '08717890890£1.50': 1, 'cheese.': 1, '\\x93harry': 1, 'yep.': 1, 'ringtone!from:': 1, 'http://tms.': 1, 'wml?id=1b6a5ecef91ff9*37819&first=true18:0430-jul-05': 1, 'god!': 1, 'glad,': 1, 'xafter': 1, 'cst': 1, 'chg': 1, 'pure': 1, 'hearted': 1, 'his/her': 1, 'enemies': 1, 'enemy..': 1, 'smile..:)': 1, 'smiley': 1, 'sunday..:)': 1, 'girl,': 1, 'gail': 1, 'wrong!!take': 1, 'worry.c': 1, 'hun!love': 1, 'yaxxx': 1, 'theoretically': 1, 'hooked': 1, 'of,': 1, 'formally.pls': 1, 'praying.will': 1, 'is-': 1, 'more\"': 1, ':-):-).': 1, 'multimedia': 1, 'e-mail?': 1, 'fat...': 1, 'senthil.hsbc': 1, 'vague.': 1, 'accounting': 1, 'delayed': 1, 'housing': 1, 'agency': 1, 'renting': 1, 'juan.': 1, 'presents.': 1, 'nicky': 1, \"gumby's\": 1, 'cheese': 1, '$2': 1, 'http://alto18.co.uk/wave/wave.asp?o=44345': 1, 'sized': 1, 'same,': 1, 'tarpon': 1, 'springs': 1, 'cab': 1, 'available.they': 1, 'steps.': 1, 'ok....take': 1, 'care.umma': 1, 'limited': 1, 'call2optout/hf8': 1, '09061702893.': 1, 'confirmed...': 1, 'depends.': 1, 'treated?': 1, '08719181259': 1, 'xxxxx': 1, '26.03.05': 1, 'dear.take': 1, 'plan!': 1, 'cold!': 1, 'radiator!': 1, 'proper': 1, 'tongued': 1, 'shorts...': 1, 'qi...': 1, 'suddenly': 1, 'this...': 1, 'wish!': 1, 'flurries': 1, 'eek!': 1, 'born!': 1, 'free>ringtone!': 1, 'real1': 1, 'pushbutton': 1, 'dontcha': 1, 'babygoodbye': 1, 'golddigger': 1, 'webeburnin': 1, 'perform,': 1, 'cards': 1, 'raining?': 1, 'right..': 1, 'rebooting': 1, 'nigh': 1, 'urself.': 1, 'present.': 1, 'nooooooo': 1, 'cable': 1, 'outage.': 1, 'sos!': 1, 'playin': 1, 'poker,': 1, 'guoyang': 1, 'rahul': 1, 'dengra.': 1, 'bird': 1, 'antelope': 1, 'toplay': 1, 'fieldof': 1, 'selfindependence': 1, 'contention': 1, 'grow.random!': 1, 'doctor?': 1, 'gnarls': 1, 'barkleys': 1, '\"crazy\"': 1, 'borderline': 1, '545': 1, '??': 1, 'early,': 1, 'nightnight': 1, 'possibility': 1, 'grooved': 1, 'along.': 1, 'oso.': 1, 'mising': 1, 'bit...': 1, 'refused': 1, 'loan?': 1, 'secured': 1, 'unsecured?': 1, 'credit?': 1, '195': 1, '6669': 1, 'will!': 1, 'pop.': 1, 'yest?': 1, '=)': 1, 'training:-)': 1, 'lanre': 1, \"fakeye's\": 1, 'eckankar': 1, 'ph?': 1, '\"3000': 1, 'bruv!': 1, 'heater?': 1, 'heater': 1, 'degrees.': 1, 'sacrifice.': 1, 'process': 1, 'classes': 1, 'dodgey': 1, 'tomo!': 1, 'recovery,': 1, 'call2optout/674&': 1, 'j?': 1, 'seing': 1, 'face...............asssssholeeee................': 1, 'unsold': 1, 'rate..': 1, 'ceri': 1, 'rebel!': 1, 'dreamz': 1, 'buddy!!': 1, '2moro!': 1, 'blokes': 1, 'ringtoneking': 1, '84484': 1, 'have?': 1, 'nationwide': 1, 'that)': 1, 'newport': 1, 'juliana.': 1, 'nachos.': 1, 'eta.': 1, 'dizzamn,': 1, 'suitemates': 1, 'nimbomsons.': 1, 'cuddle!': 1, 'continent?': 1, 'k...k...when': 1, 'treat?': 1, '087104711148': 1, 'gift?': 1, 'emerging': 1, 'fiend/make': 1, 'much/impede': 1, 'hesitant': 1, 'ow': 1, 'dey.i': 1, '60,400thousad.i': 1, 'funny!': 1, 'afternoon?': 1, 'sumthin?xx': 1, 'ring.': 1, 'nose': 1, 'essay': 1, 'everywhere...': 1, 'tram.': 1, 'cousin': 1, 'vic': 1, 'coherently,': 1, 'triple': 1, 'echo': 1, 'cheap:-)': 1, 'eek': 1, 'gran': 1, 'onlyfound': 1, 'afew': 1, 'ago.cusoon': 1, 'honi': 1, 'bx526,': 1, 'southern': 1, 'rayan': 1, 'macleran': 1, 'balls.': 1, 'conform.': 1, 'moan?': 1, '[…]': 1, 'olave': 1, 'mandara': 1, 'kano': 1, 'trishul': 1, 'woo': 1, 'hoo': 1, 'dude!': 1, 'panties?': 1, 'thout': 1, 'flatter': 1, 'pints': 1, 'carlin': 1, 'please....': 1, 'scared!': 1, 'ciao!': 1, 'x49.your': 1, '09065989182': 1, 'starve': 1, 'impression': 1, 'motivate': 1, 'darkness,': 1, 'time.you': 1, 'wknd': 1, 'starting.': 1, 'yalrigu': 1, 'heltini..iyo': 1, 'me..so': 1, 'uttered': 1, 'trusting': 1, 'others..': 1, 'me..ok,': 1, 'chikku:-);-)b-)': 1, 'noice.': 1, 'esaplanade': 1, 'accessible.': 1, '08709501522': 1, 'details!': 1, '139,': 1, 'la3': 1, '2wu.': 1, '£1.50/week.': 1, 'occurs': 1, 'ages.': 1, 'prof:': 1, 'student:': 1, 'enna': 1, 'kalaachutaarama..!!': 1, 'prof:????': 1, 'mrng!': 1, 'coco': 1, 'sporadically': 1, '09064017305': 1, 'pobox75ldns7': 1, 'tbs/persolvo.': 1, 'for£38': 1, 'kath.': 1, 'manchester.': 1, 'you\\x92re': 1, 'burden': 1, 'noworriesloans.com': 1, '08717111821': 1, 'harder': 1, 'nbme': 1, 'sickness': 1, 'round.': 1, '87077:': 1, '2wks': 1, 'goals': 1, 'villa': 1, 'sathya': 1, 'sathya.': 1, 'gam': 1, 'smash': 1, 'religiously.': 1, 'feb.': 1, 'tm.': 1, 'move,': 1, 'guilty...': 1, 'heroes,': 1, 'tips': 1, '07973788240': 1, '08715203649': 1, 'dealing': 1, 'muhommad,': 1, 'penny': 1, 'fiting': 1, 'load': 1, 'abi': 1, 'hw,keep': 1, 'luv.': 1, 'mj': 1, 'unconvinced': 1, 'elaborate': 1, 'willpower': 1, '\"life': 1, '\".': 1, 'absence....': 1, 'answerin': 1, 'sleepy': 1, '»10': 1, 'evey': 1, 'mnth': 1, 'prin': 1, '…thanks': 1, 'gsoh?': 1, 'spam': 1, 'ladies?u': 1, 'gigolo?': 1, 'mens': 1, 'oncall.': 1, 'mjzgroup.': 1, '08714342399.2stop': 1, 'msg@£1.50rcvd': 1, 'ashwini': 1, '08707500020': 1, 'tomorrow/today?': 1, '<ukp>2000': 1, '09061790125': 1, 'joke--thet': 1, 'skinny': 1, 'line--you': 1, 'casting': 1, 'look.': 1, 'hockey': 1, 'elections': 1, 'shouldn‘t': 1, '116': 1, 'hlday': 1, 'camp': 1, 'amrca': 1, 'serena:)': 1, 'yunny...': 1, 'prescribed': 1, 'loverboy.': 1, 'meatballs': 1, 'approve': 1, 'panalam...but': 1, 'posts..': 1, 'spjanuary': 1, 'workin.': 1, 'job...': 1, 'someone.': 1, 'fortune': 1, 'allday!': 1, 'town.': 1, 'perf?': 1, 'legal.': 1, 'outsider': 1, 'receipts—well': 1, '(…)': 1, 'what‘s': 1, 'meh': 1, 'heavy...': 1, '98321561': 1, 'familiar': 1, 'expression': 1, 'everyone...': 1, 'depression': 1, 'ones..': 1, 'ni8;-)': 1, 'infact': 1, 'simpsons': 1, 'band': 1, 'film?': 1, 'a-green': 1, 'b-blue': 1, 'c-red': 1, '(send': 1, 'c)': 1, 'shame!': 1, 'can\\x92t': 1, 'cornwall.': 1, 'isn\\x92t': 1, 'shite.': 1, 'kip': 1, 'hont.': 1, 'amanda': 1, 'regard': 1, 'renewing': 1, 'upgrading': 1, 'handset': 1, '3680': 1, 'subject': 1, 'nannys': 1, 'eaten?': 1, 'fighting?': 1, 'puts': 1, 'perspective': 1, 'so...not': 1, 'conveying': 1, 'reason..': 1, 'he...': 1, 'planned?': 1, 'debating': 1, 'http://www.wtlp.co.uk/text.': 1, 'flaked.': 1, 'jb': 1, 'you,so': 1, \"joke's\": 1, 'florida': 1, 'wisdom': 1, 'hidden': 1, 'remove.': 1, 'queen.': 1, 'lag.': 1, 'teams': 1, 'swhrt': 1, 'dey,hope': 1, '2day.love': 1, 'miss.take': 1, 'planned.': 1, '0906346330.': 1, '47': 1, 'po19': 1, '2ez': 1, 'vote?': 1, 'sore!': 1, 'general': 1, '/oz,': 1, 'if/when/how': 1, 'day,has': 1, 'value-morning': 1, 'hope,afternoon': 1, 'faith,evening': 1, 'luv,night': 1, 'rest,wish': 1, 'today.good': 1, 'jetton': 1, 'friend-of-a-friend': 1, 'cmon': 1, 'horny,': 1, '*turn*': 1, '-)': 1, 'replies': 1, '£1.50.': 1, 'wylie': 1, 'dealer': 1, 'lunsford': 1, 'decision': 1, 'enjoying': 1, 'semester?': 1, '0796xxxxxx.': 1, 'day!2': 1, 'prizeawaiting': 1, 'first..': 1, 'kfc': 1, 'meals': 1, 'gravy.': 1, 'mark.': 1, 'da:)he': 1, 'da..always': 1, 'this:)don': 1, 'message.pandy': 1, 'mental:)': 1, 'oi': 1, '07008009200': 1, 'attended': 1, 'mw': 1, 'tuth': 1, 'ad.': 1, 'xy?': 1, \"mine's\": 1, 'eviction': 1, 'spiral': 1, 'michael': 1, 'riddance': 1, 'them!': 1, 'suffers': 1, 'silence': 1, 'people!,': 1, 'night....': 1, 'raglan': 1, 'edward': 1, 'cricket': 1, 'closeby': 1, 'da..please:)': 1, 'skye': 1, 'bookedthe': 1, 'hut?': 1, 'off?': 1, 'drastic.': 1, '3750': 1, 'garments': 1, 'random.': 1, 'sez,': 1, 'arab': 1, 'evry1': 1, 'eshxxxxxxxxxxx': 1, 'lay': 1, 'bimbo': 1, \"ugo's\": 1, 'numbers,': 1, 'detroit.': 1, 'colours!': 1, '2-4-1': 1, '3lions': 1, 'info!': 1, 'toshiba': 1, 'portege': 1, 'm100': 1, 'gd?': 1, 'semiobscure': 1, '69669': 1, 'ringtones.': 1, 'gprs': 1, 'repeat,': 1, 'loosu': 1, 'careless.': 1, 'eighth?': 1, 'freaking': 1, 'myspace': 1, 'logged': 1, \"partner's\": 1, 'method': 1, 'calculation.': 1, 'must.': 1, 'blur': 1, 'blur...': 1, 'clothes,': 1, 'jewelry,': 1, 'breaker': 1, 'deluxe': 1, 'features': 1, 'graphics': 1, 't-mobile.': 1, '£5': 1, 'bbdeluxe': 1, 'aah!': 1, 'fumbling!': 1, 'stone': 1, 'taunton.': 1, 'weekdays': 1, 'price...': 1, 'nails': 1, 'wat,': 1, \"nobody's\": 1, 'asia.': 1, 'stil': 1, 'tobed': 1, '430': 1, 'pimples': 1, 'connections': 1, 'those?': 1, 'asthma': 1, 'attack,': 1, 'ball': 1, 'lot.will': 1, 'spin': 1, ':)so': 1, 'bat:)': 1, 'haiyoh...': 1, 'million': 1, \"aunty's\": 1, 'glad.': 1, 'dreams.': 1, 'finally...': 1, 'urgent.': 1, '02': 1, 'prsn': 1, 'dem.': 1, 'somtimes': 1, 'saves': 1, 'quiet': 1, 'relation..': 1, 'eveb-)': 1, 'science': 1, 'bcoz,i': 1, 'audiitions': 1, 'relocate.': 1, 'pocked': 1, 'congrats.': 1, 'motivating': 1, 'sharing': 1, 'me.........': 1, 'care:-)': 1, 'brison': 1, 'language': 1, 'okay,': 1, 'problem,': 1, 'thanx!': 1, 'information,': 1, 'spelled': 1, 'caps.': 1, 'yelling.': 1, 'bullshit': 1, 'less.': 1, 'g.w.r': 1, 'drunk': 1, 'motherfucker': 1, 'kit': 1, 'strip': 1, '1013': 1, 'ig11': 1, 'oja': 1, '08712402578': 1, 'thesmszone.com': 1, 'anonymous': 1, 'masked': 1, 'messages..im': 1, 'there..do': 1, 'abuse???': 1, 'erm...': 1, 'woodland': 1, 'avenue': 1, 'somewhere.': 1, 'parish': 1, 'magazine,': 1, 'available?': 1, 'type.': 1, 'billy': 1, 'jogging,': 1, 'concert?': 1, 'awww': 1, 'useless': 1, 'loo': 1, 'hello-ed': 1, 'swollen': 1, 'glands': 1, 'big?': 1, 'report.': 1, 'room:)': 1, 'speak,': 1, 'bcaz': 1, 'stu': 1, '2.im': 1, 'truble': 1, 'evone': 1, 'hates': 1, 'bck': 1, 's...i': 1, 'only:)': 1, 'gautham?': 1, 'view': 1, 'gays': 1, 'dual': 1, 'hostile': 1, 'haircut.': 1, 'breezy': 1, '1apple/day=no': 1, '1tulsi': 1, 'leaf/day=no': 1, '1lemon/day=no': 1, 'fat.': 1, '1cup': 1, 'milk/day=no': 1, 'problms': 1, 'litres': 1, 'watr/day=no': 1, 'diseases': 1, 'snd': 1, 'care..:-)': 1, 'hill': 1, 'lavender?': 1, 'manky': 1, 'scouse': 1, 'steve,like!': 1, 'travelling': 1, 'home.wot': 1, 'inmind': 1, 'recreation': 1, 'gym.': 1, 'ha!': 1, 'seemed.': 1, 'judgemental....i': 1, 'fridays': 1, 'best?': 1, 'hi:)did': 1, 'waheeda': 1, 'half-8th': 1, 'bot': 1, 'notes': 1, 'got...': 1, 'save.': 1, 'dear?y': 1, 'smiling?': 1, 'fact:': 1, 'eventually': 1, 'tolerance': 1, 'smokes,': 1, 'hits': 1, '0789xxxxxxx.': 1, 'hellogorgeous,': 1, 'nitw': 1, 'texd': 1, 'hopeu': 1, '4ward': 1, 'c-in': 1, 'jaz': 1, 'shy!': 1, '09058091870': 1, 'page...': 1, 'exorcism': 1, 'emily': 1, 'snogs!': 1, 'second,': 1, 'evry': 1, 'emotion': 1, 'words.evry': 1, 'prayrs..': 1, 'smile,d': 1, 'u.othrwise': 1, 'u.so': 1, 'ujhhhhhhh': 1, 'shipped': 1, 'sandiago': 1, 'parantella': 1, 'lane.': 1, 'hugging': 1, 'both.': 1, 'sweater': 1, 'mango': 1, 'irritating.': 1, 'involved': 1, '£600.': 1, 'question:': 1, 'landmark,': 1, 'a.': 1, 'bob,': 1, 'barry': 1, 'c.': 1, '?.': 1, '83738.': 1, 'consent': 1, 'forms': 1, 'tonexs': 1, 'renewed': 1, 'www.clubzed.co.uk': 1, '*billing': 1, '9ja.': 1, 'can‘t': 1, 'mathews': 1, 'tait': 1, 'edwards': 1, 'anderson': 1, 'haunt': 1, 'promoting': 1, 'hex': 1, '.by': 1, 'crowd': 1, '8000930705': 1, 'snowboarding': 1, 'go..a': 1, 'cheers,': 1, \"s.i'm\": 1, 'christmassy': 1, 'ready,': 1, 'plans?': 1, 'recpt': 1, '1/3.': 1, 'ringtone.': 1, 'processed...': 1, 'baaaaaaaabe!': 1, 'ignoring': 1, 'was.': 1, ':-/': 1, 'shola': 1, 'medicine': 1, 'department,': 1, 'secretary': 1, 'sagamu': 1, 'lautech.': 1, 'vital': 1, 'completes': 1, 'education': 1, 'zealand.': 1, 'qet...': 1, 'other..': 1, 'other...': 1, 'words,': 1, 'browser': 1, 'surf...': 1, 'subscribers': 1, 'g.b.': 1, 'enter.': 1, 'well.you': 1, 'life.you': 1, 'that.i': 1, 'conversations': 1, 'us.get': 1, 'time.your': 1, 'senses.respect': 1, 'overemphasise.or': 1, 'headset': 1, '\"adp\"': 1, 'internal': 1, 'extract': 1, 'de:-)': 1, 'god.you': 1, 'immed.': 1, 'to,': 1, 'skint': 1, 'fancied': 1, 'bevies.waz': 1, '&othrs': 1, 'spoon': 1, 'watchng': 1, 'planet': 1, 'earth&sofa': 1, 'comfey;': 1, 'quitting': 1, 'least5times': 1, \"wudn't\": 1, 'darlings': 1, 'coast...': 1, 'back...': 1, 'advice.': 1, \"i'ma\": 1, 'sleep...': 1, 'frequently': 1, 'message.it': 1, 'money?': 1, 'cupboard': 1, 'noe?': 1, 'route': 1, '2mro': 1, 'lib': 1, 'floppy...': 1, 'snappy': 1, 'happy!': 1, 'risk': 1, 'grasp': 1, 'tea.': 1, 'flavour': 1, 'laready': 1, 'reaching?': 1, 'denying': 1, 'dom': 1, 'roger?': 1, 'ffffuuuuuuu': 1, 'b\\x92day,': 1, 'annie!': 1, '\"julianaland\"': 1, 'oblivious': 1, \"upset--it's\": 1, 'upset': 1, 'mad.': 1, 'dehydrated.': 1, 'reach?': 1, 'mapquest': 1, '\"usf': 1, 'dogwood': 1, 'drive\",': 1, 'tiny': 1, 'archive.': 1, 'sad...': 1, 'uk-mobile-date': 1, '08719839835.': 1, 'mgs': 1, '\"go': 1, 'stop\"': 1, '89123': 1, 'speechless.': 1, 'lengths': 1, 'behalf': 1, 'stunning.': 1, 'visa': 1, 'gucci': 1, 'bags.': 1, 'sha.': 1, \"shit's\": 1, 'roommate,': 1, 'babe.sozi': 1, 'culdnt': 1, 'talkbut': 1, 'wannatell': 1, 'wenwecan': 1, 'smsing': 1, 'wa...': 1, 'efficient...': 1, '5.15pm': 1, ':-)only': 1, 'erutupalam': 1, 'thandiyachu': 1, 'invention': 1, \"fly..i'm\": 1, 'joking.,': 1, 'no..its': 1, 'lyrics..': 1, 'nevr': 1, 'unrecognized.': 1, 'somone': 1, 'mistakes': 1, 'valuing': 1, 'definitly': 1, 'undrstnd': 1, 'ger': 1, 'toking': 1, 'syd': 1, 'leh...haha': 1, 'khelate': 1, 'kintu': 1, 'opponenter': 1, 'dhorte': 1, 'lage.': 1, 'rule.': 1, 'wins.': 1, 'fried': 1, 'spares': 1, 'looovvve': 1, 'warwick,': 1, 'tmw,': 1, 'canceled,': 1, \"havn't\": 1, 'ages,': 1, 'sometime!': 1, 'tops': 1, 'grandma': 1, 'parade': 1, '+£400': 1, 'proze': 1, 'with:': 1, '83355': 1, 'norcorp': 1, 'ltd.£1,50/mtmsgrcvd18+': 1, 'decision?': 1, 'bitch?': 1, 'posting': 1, 'chennai:)because': 1, '7cfca1a': 1, 'grumble': 1, 'linear': 1, 'algebra': 1, '(an': 1, 'decorating)': 1, 'lesson,': 1, 'wining': 1, '946': 1, 'roomate': 1, 'graduated': 1, 'intelligent,': 1, 'caring,': 1, 'loving,': 1, 'adjustable,': 1, 'cooperative': 1, 'wife.': 1, 'allows': 1, 'wife....': 1, 'valentine?': 1, 'nottingham': 1, '63miles.': 1, '40mph.': 1, 'clearly.': 1, 'mornin..': 1, 'thanku': 1, 'same..': 1, 'part..': 1, 'guessed': 1, 'cock!': 1, \"hubby's\": 1, '89938': 1, 'strings': 1, 'action.': 1, '(txt': 1, 'end,': 1, '£1.50ea.': 1, 'otbox': 1, '731': 1, 'la1': 1, '7ws.': 1, 'college!': 1, 'it?xx': 1, 'beside': 1, 'brisk': 1, 'walks': 1, 'tonite?': 1, 'invited?': 1, 'sexiest': 1, 'dirtiest': 1, 'steve': 1, 'tellmiss': 1, 'daily:)': 1, 'ask...': 1, 'car?': 1, \"party's\": 1, '(but': 1, 'contribute': 1, 'greatly': 1, 'appreciated)': 1, 'urgh,': 1, 'coach': 1, 'smells': 1, 'fat!': 1, 'duvet': 1, '(not': 1, 'predictive': 1, 'word).': 1, 'hiya.': 1, 'clothes': 1, 'meet?': 1, 'moby.': 1, 'pic?': 1, 'chat?im': 1, 'w8in': 1, '4utxt': 1, 'success': 1, 'lazy...': 1, 'url': 1, 'weight': 1, 'eyes...': 1, 'share...': 1, '24th': 1, 'sept.': 1, 'beverage': 1, 'v.pist': 1, 'surrender': 1, 'symptoms': 1, '\"1.u': 1, '2.u': 1, '3.u': 1, 'on...': 1, 'rdy': 1, 'it.(now': 1, 'backwards)': 1, 'abstract?': 1, \"vikky..i'm\": 1, 'torch.': 1, 'g?': 1, 'africa?': 1, 'avin': 1, 'laugh?': 1, 'chit-chat': 1, 'logon': 1, '8883': 1, '4217': 1, 'w1a': 1, '6zf': 1, '118p/msg': 1, 'quiteamuzing': 1, 'that\\x92scool': 1, 'babe,probpop': 1, 'cu': 1, 'satthen': 1, '4brekkie!': 1, 'psxtra': 1, 'lrg': 1, 'portions': 1, '£1000call': 1, '09071512432': 1, '300603t&csbcm4235wc1n3xx.callcost150ppmmobilesvary.': 1, 'behind...': 1, 'rows': 1, '....my': 1, 'engagement': 1, 'fixd': 1, 'bt....hmm': 1, 'njan': 1, 'vilikkam....t': 1, 'sudn;-(.': 1, 'maths': 1, 'chapter': 1, 'finish.': 1, 'freak!': 1, 'chop': 1, 'off:-)': 1, 'noooooooo': 1, 'fair.': 1, '09065171142-stopsms-08718727870150ppm': 1, 'bit,': 1, 'firsg': 1, 'split': 1, 'wasnt': 1, 'yours!': 1, 'change.': 1, 'heat': 1, 'pa:-)': 1, 'applyed': 1, 'oil': 1, 'lt...': 1, 'rest?': 1, 'sumfing': 1, 'better,': 1, 'hopeso': 1, 'hunny.': 1, 'amnow': 1, 'ithink': 1, 'tonsolitusaswell!': 1, 'layin': 1, 'bedreal': 1, 'lotsof': 1, 'gee,': 1, 'kaiez,': 1, 'hiphop': 1, 'managed': 1, 'oxygen!': 1, 'resort': 1, 'roller': 1, 'option!': 1, 'pending': 1, 'hard?': 1, '4.30': 1, 'quiz!': 1, 'recorder': 1, 'canname': 1, 'australia?': 1, 'mquiz': 1, 'bottom...': 1, 'nvm...': 1, 'shoes': 1, 'anyway...': 1, 'showr': 1, 'received,': 1, 'upon!': 1, 'ceiling.': 1, 'presnts': 1, 'bcz': 1, '\"jeevithathile': 1, 'irulinae': 1, 'neekunna': 1, 'prakasamanu': 1, 'sneham\"': 1, 'prakasam': 1, 'ennal': 1, \"'that\": 1, 'mns': 1, \"is'love'\": 1, 'blowing': 1, '7634': 1, '7684': 1, 'difficult:)': 1, 'adventure': 1, 'gay.': 1, 'firmware': 1, 'hair...': 1, 'vijaykanth': 1, 'tv..he': 1, 'anythiing': 1, 'havent.': 1, 'ripped': 1, 'www.clubmoby.com': 1, '08717509990': 1, 'poly/true/pix/ringtones/games': 1, 'keypad.': 1, 'chennai?': 1, 'btwn': 1, 'hands..': 1, 'happened..!': 1, 'decades..!': 1, 'petrol!': 1, 'goverment': 1, 'expects': 1, '\"drink\".': 1, '\"drive': 1, 'spice': 1, 'prasanth': 1, 'ettans': 1, '08718738002': 1, '48922': 1, '21/11/04': 1, 'india:-):': 1, 'appy': 1, 'fizz.': 1, 'contains': 1, 'genus': 1, 'robinson': 1, 'not..tel': 1, 'name..': 1, 'outs': 1, 'soz': 1, 'imat': 1, 'mums': 1, 'idiot\".': 1, 'competition\".': 1, 'freinds': 1, 'msg..sometext': 1, 'missing,': 1, '07099833605': 1, 'ref:9280114': 1, 'chloe,': 1, '150p/text': 1, 'wewa': 1, '130.': 1, 'iriver': 1, '255.': 1, '128': 1, 'mb.': 1, 'bw': 1, 'da..jst': 1, 'hmmm.but': 1, 'try,': 1, 'surly': 1, 'review.': 1, 'ending,': 1, 'complete.': 1, 'sugar.': 1, 'slowly.': 1, '07808726822': 1, '0871-872-9758': 1, 'dumb': 1, 'dokey,': 1, 'anytime...': 1, 'mmmmmmm': 1, '*snuggles': 1, 'you*': 1, '...*deep': 1, 'contented': 1, '*whispers*': 1, 'error.': 1, 'healthy.': 1, 'package.': 1, 'bold,': 1, '2bold?': 1, 'giv..its': 1, 'kano..anyway': 1, 'salary..:-);-)': 1, 'brother‘s': 1, 'scraped': 1, 'barrel': 1, 'misfits': 1, 'enuff...': 1, 'ü..': 1, 's:)8': 1, 'lunch:)': 1, 'care,': 1, 'okie,': 1, 'sections': 1, 'clearer..': 1, 'peach!': 1, 'cake': 1, 'tasts': 1, 'rayman': 1, 'golf': 1, 'post,': 1, 'activ8.': 1, 'termsapply': 1, \"there'll\": 1, 'shindig': 1, 'interested?': 1, 'mins/texts.': 1, '(career': 1, 'tel)': 1, 'phonebook': 1, 'k:)eng': 1, 'rocking': 1, 'ashes:)': 1, \"xin's\": 1, 'hostel?': 1, 'shijutta...........': 1, 'k:)after': 1, 'possession,': 1, 'offense': 1, 'bbd..thts': 1, 'dvg': 1, 'cold..heard': 1, 'vinobanagar': 1, 'condition..and': 1, 'ovulate.when': 1, '3wks.': 1, '\"woah\"': 1, 'realising': 1, '\"oh\"': 1, 'orh': 1, 'show.': 1, 'second..': 1, 'hides': 1, 'secrets.': 1, 'n8': 1, 'darlin!im': 1, 'soon.xxx': 1, 'cool-mob': 1, '!this': 1, 'frog-axel': 1, 'f>>>': 1, 'akon-lonely>>>': 1, 'eyed-dont': 1, '>>>more': 1, 'wasted': 1, 'cashbin.co.uk': 1, '(get': 1, 'weekend!)': 1, 'www.cashbin.co.uk': 1, 'away!!': 1, 'these..': 1, 'canteen': 1, 'stressfull..': 1, 'laugh..': 1, 'adds': 1, 'years!!': 1, 'ni8..swt': 1, 'continued': 1, 'president?': 1, '$140': 1, 'ard...é': 1, '$180': 1, 'least...which': 1, 'bedrm': 1, '($900)': 1, 'pleasured': 1, 'hi.:)technical': 1, 'support.providing': 1, 'assistance': 1, 'email:)': 1, 'whens': 1, 'show?': 1, '1172.': 1, 'built': 1, 'lonlines': 1, 'lotz': 1, 'memories!': 1, 'feeling..': 1, 'lou!': 1, 'came!': 1, 'gailxx': 1, 'hi..i': 1, 'repeat': 1, 'complacent...': 1, 'pop': 1, 'seen.': 1, 'mina?': 1, 'finance': 1, 'miwa': 1, 'jiayin': 1, 'hsbc.': 1, 'statement,': 1, 'nyc!': 1, '-call': 1, '09066649731from': 1, 'flies,': 1, 'mth': 1, 'opposite': 1, 'heavily': 1, 'outside.': 1, 'resume:-)': 1, 'dolls': 1, 'patrick': 1, 'swayze': 1, '09061702893': 1, '09077818151': 1, 'calls1.50ppm': 1, '30s': 1, 'www.santacalling.com': 1, 'miserable': 1, 'quarter,': 1, 'paperwork': 1, 'nervous': 1, 'fired?': 1, 'limping': 1, 'aa': 1, '078498****7': 1, '08719180219': 1, '06.05.05': 1, 'oga.': 1, 'poorly': 1, 'punishment': 1, 'brb': 1, 'kill': 1, 'honey,': 1, 'predicte': 1, 'reaching...': 1, 'situations:': 1, 'first-': 1, 'second-': 1, 'loosing': 1, 'prescription': 1, 'paper?': 1, 'smaller': 1, 'capacity': 1, 'videos': 1, 'sms.shsex.netun': 1, 'fgkslpopw': 1, 'fgkslpo': 1, '0871277810710p/min': 1, 'interesting': 1, 'defer': 1, 'admission': 1, '\"checkmate\"': 1, 'chess': 1, 'persian': 1, 'phrase': 1, '\"shah': 1, 'maat\"': 1, 'means;': 1, 'dead..\"': 1, 'goodmorning..': 1, 'day..:)': 1, ':-):):-):-):-).': 1, 'rats.': 1, 'themes?': 1, '£1.': 1, 'txtauction.': 1, 'pee': 1, 'tonite.': 1, 'rite.': 1, 'pete,': 1, 'week+': 1, '2geva': 1, 'together!': 1, '....photoshop': 1, 'california': 1, 'manageable': 1, '08715203652': 1, '42810': 1, '29/10/0': 1, 'hmmm....': 1, 'hotel...': 1, 'inshah': 1, 'ashley': 1, 's.this': 1, 'increase': 1, 'winning.': 1, 'instead???': 1, 'wife.dont': 1, 'it.i': 1, 'too.lets': 1, 'north': 1, 'carolina': 1, 'texas': 1, 'gre': 1, 'stretch': 1, 'pussy!': 1, 'bomb': 1, 'say!': 1, 'breathing': 1, 'bud,': 1, 'powerful': 1, 'weapon': 1, \"'heart'...\": 1, 'u\"...': 1, 'night..swt': 1, 'dreams..take': 1, 'lovly..': 1, '**free': 1, 'message**thanks': 1, '150p/msgrcvd': 1, 'customercare': 1, 'play..i': 1, 'clas..': 1, 'lit': 1, 'fire': 1, 'trip!': 1, 'loooooool': 1, '\"sleep': 1, 'couch\"': 1, 'rents?': 1, 'dokey': 1, 'swashbuckling': 1, '5.terror': 1, '6.cruel': 1, '7.romantic': 1, '8.lovable': 1, '9.decent': 1, '.joker': 1, \"dip's\": 1, 'dead.': 1, 'mean.': 1, 'gek1510...': 1, 'pete!': 1, 'mayb?': 1, 'lyricalladie(21/f)': 1, 'yes-910': 1, 'no-910.': 1, 'www.sms.ac/u/hmmross': 1, \"world's\": 1, 'happiest': 1, 'characters...': 1, 'differences...': 1, 'lists.': 1, 'list.': 1, \"tyler's\": 1, 'crisis': 1, 'when/where': 1, 'antibiotic': 1, 'abdomen': 1, 'gynae': 1, 'infections': 1, 'infections.': 1, '6times': 1, 'exposed': 1, 'vomiting.': 1, 'chastity': 1, 'device': 1, 'beatings': 1, 'dog.': 1, 'uses': 1, 'miserable.': 1, 'effects': 1, 'gut': 1, 'wrenching': 1, 'months.': 1, 'friendship:-)': 1, \"fuck's\": 1, 'sake': 1, 'tallahassee': 1, 'ou': 1, 'taka': 1, 'free*': 1, 'pobox202': 1, 'nr31': 1, '7zs': 1, '450pw': 1, 'i;m': 1, \"*didn't*\": 1, 'wrote': 1, 'ritten': 1, 'clean,': 1, 'fold': 1, 'laundry,': 1, 'etc.?': 1, '83118': 1, 'colin': 1, 'farrell': 1, 'swat': 1, '@warner': 1, 'med.': 1, 'popcorn!just': 1, 'msg+ticket@kiosk.valid': 1, '4-7/12.': 1, '@kiosk.': 1, 'mre': 1, 'solihull,': 1, 'anything?': 1, 'nhs': 1, 'mistake.u': 1, 'born.please': 1, '2b': 1, 'terminated.we': 1, 'inconvenience': 1, 'dentists': 1, 'goal!': 1, '(henry,': 1, 'henry': 1, 'yards': 1, 'bergkamp': 1, 'margin': 1, '78': 1, 'parent.': 1, \"it'snot\": 1, \"child's\": 1, 'parent...not': 1, 'unintentional.': 1, 'nonetheless.': 1, 'hooch': 1, 'toaday': 1, 'splat!': 1, 'grazed': 1, 'knees': 1, 'everything!': 1, 'tomorrow!': 1, 'call;': 1, 'confirm/deny': 1, 'hearin': 1, 'now....': 1, 'evng.': 1, 'yah...': 1, 'intro...': 1, 'torture': 1, 'england?': 1, 'art?!': 1, ':d': 1, 'hopeing': 1, 'wasn‘t': 1, 'sisters': 1, 'sexychat': 1, 'chatting.': 1, 'lips': 1, 'started.india': 1, 'buy:)': 1, 'k..k.:)congratulation': 1, 'court.': 1, 'liao?': 1, 'chapel': 1, 'frontierville?': 1, 'stuff?': 1, 'mountain': 1, 'deer': 1, 'mail.i': 1, 'mailed': 1, 'varma': 1, 'membership.take': 1, 'care.insha': 1, 'allah.': 1, 'secure': 1, 'amy,': 1, 'days,': 1, 'parties...': 1, 'bored!': 1, 'farting': 1, '7:30': 1, 'ortxt': 1, 'select,': 1, 'benefits.': 1, 'trained': 1, 'advisors': 1, 'dialling': 1, '402.': 1, 'woot': 1, 'woot!': 1, 'stuffing': 1, 'face!': 1, 'ahhhh...just': 1, 'up!had': 1, 'tho,so': 1, 'vivek:)i': 1, 'check,': 1, '9-6.': 1, 'da:)do': 1, 'dining': 1, 'experiencehttp://www.vouch4me.com/etlp/dining.asp': 1, 'kaila': 1, '09058094507': 1, \"unicef's\": 1, 'asian': 1, 'tsunami': 1, 'disaster': 1, 'fund': 1, '864233.': 1, 'tomorrow.....!': 1, 'today...!': 1, 'present...': 1, 'cme': 1, 'hos': 1, '2morow.': 1, 'cme.': 1, 'trip...': 1, 'online!': 1, 'msn...': 1, 'called.': 1, 'collapsed': 1, 'crazy.': 1, 'yar...': 1, 'gorgeous!': 1, 'cumming': 1, 'jade': 1, 'paul.': 1, 'barmed?': 1, 'slept?': 1, 'thinkthis': 1, 'pm)': 1, 'dangerous': 1, 'goldviking': 1, '(29/m)': 1, 'yes-762': 1, 'no-762': 1, 'him:': 1, 'www.sms.ac/u/goldviking': 1, 'stress': 1, 'busy...': 1, 'rushing.': 1, 'channel:-):-):):-).': 1, 'coulda': 1, \"wasn't?\": 1, 'nothing!!': 1, 'phony': 1, 'eta': 1, '12:30': 1, 'planned,': 1, 'okday?!': 1, ':-xx': 1, 'kate,': 1, 'buz': 1, 'wedlunch.': 1, 'outsomewhere': 1, 'adrink': 1, 'town..cud': 1, '2watershd': 1, 'fromwrk': 1, 'bthere.': 1, 'petexxx.': 1, 'read.': 1, 'monday,': 1, 'else...': 1, 'hmph.': 1, 'head,': 1, 'baller.': 1, 'punto.': 1, 'worse.': 1, 'ayo': 1, 'travelled,': 1, '4u:': 1, '£125': 1, 'freeentry': 1, 'xt': 1, 'toyota': 1, 'camry': 1, \"olayiwola's\": 1, 'mileage': 1, 'k.its': 1, 'landing': 1, 'clover': 1, 'number.pls': 1, 'id.convey': 1, 'achan,amma.rakhesh.qatar': 1, \"'rencontre'\": 1, 'mountains': 1, 'dont....': 1, '08714712412': 1, 'gals...u': 1, 'nìte?': 1, 'puppy': 1, 'noise': 1, 'sarasota': 1, '150p/meg.': 1, '08715203685': 1, 'code:4xx26': 1, '13/10/04': 1, 'crossing': 1, 'deepest': 1, 'darkest': 1, 'fantasies.': 1, '09094646631': 1, 'inconvenient': 1, 'vl..do': 1, 'adsense': 1, 'approved..': 1, 'dudette,': 1, 'perumbavoor': 1, 'stage': 1, 'laugh.': 1, '(you': 1, 'me)': 1, 'clarify': 1, 'preponed': 1, 'kerala.': 1, 'natalie': 1, '(20/f)': 1, 'yes-165': 1, 'no-165': 1, 'www.sms.ac/u/natalie2k9': 1, 'younger': 1, 'babies': 1, 'jamster!': 1, '88888': 1, '08701213186.': 1, 'ic': 1, 'desires-': 1, 'liver.': 1, 'stylish.': 1, 'managed.': 1, 'hmmm.still': 1, 'opener?': 1, 'guides': 1, 'watched': 1, 'loneliness': 1, 'skyving': 1, 'ho!': 1, 'thangam': 1, 'course...': 1, 'bugis...': 1, 'that...': 1, 'sat....': 1, 'call2optout/674': 1, \"dad's\": 1, 'show...': 1, 'haf...': 1, 'onwords': 1, 'mtnl': 1, 'mumbai.': 1, '83039': 1, '62735=£450': 1, 'accommodationvouchers': 1, 'mustprovide': 1, '15541': 1, 'friends...': 1, 'number..:)': 1, 'rajitha': 1, '(ranju)': 1, '5p': 1, 'styles?': 1, '88039.': 1, 'tscs08714740323': 1, '1winawk!': 1, '£1.50perweeksub.': 1, '09066361921': 1, 'disagreeable': 1, 'madam.': 1, 'afterwards.': 1, 'heart,': 1, \"b'coz\": 1, 'battle.': 1, '-vivekanand-': 1, '9t..': 1, 'sd..': 1, 'uawake?feellikw': 1, 'shit.justfound': 1, 'aletter': 1, 'thatmum': 1, 'gotmarried': 1, '4thnov.behind': 1, 'ourbacks': 1, 'fuckinnice!selfish,deviousbitch.anyway,i\\x92l': 1, 'rearrange': 1, 'meaning...': 1, 'dormitory': 1, 'astronomer': 1, 'starer': 1, 'election': 1, 'lies': 1, 'recount': 1, 'mother-in-law': 1, 'hitler': 1, 'eleven': 1, '=twelve': 1, 'amazing...': 1, '!:-)': 1, 'worms': 1, 'suffering': 1, 'dysentry': 1, '..will': 1, 'sing?': 1, 'andre,': 1, \"virgil's\": 1, 'lor,goin': 1, 'tt...': 1, 'gokila': 1, 'aha:)': 1, 'shanil,rakhesh': 1, 'here.thanks,i': 1, 'exchanged': 1, 'uncut': 1, 'diamond': 1, 'stuff.leaving': 1, 'dino': 1, 'prem.': 1, 'k.k.this': 1, 'kotees': 1, 'themob>hit': 1, 'panther': 1, 'sugababes,': 1, 'zebra': 1, 'badass': 1, 'hoody': 1, 'wallpaper-all': 1, '-tho': 1, 'resent': 1, 'error': 1, 'queries': 1, 'customersqueries@netvision.uk.com': 1, 'hassling': 1, 'andres': 1, 'haughaighgtujhyguj': 1, 'fassyole!': 1, 'blacko': 1, 'londn': 1, 'responsibilities.': 1, '08715205273': 1, 'vco': 1, 'humanities': 1, '1st?': 1, 'reassurance!': 1, 'aslamalaikkum....insha': 1, 'tohar': 1, 'beeen': 1, 'muht': 1, 'albi': 1, 'mufti': 1, 'mahfuuz...meaning': 1, 'training?': 1, '078': 1, 'enufcredeit': 1, 'tocall.shall': 1, 'ileave': 1, '+get': 1, 'treats': 1, 'sub,': 1, 'okors,': 1, 'ibored.': 1, 'adding': 1, 'zeros.': 1, 'savings.': 1, 'hmm...': 1, 'leh,': 1, 'goigng': 1, 'small.': 1, 'perfume,': 1, 'keep.': 1, 'sday': 1, 'joined.so': 1, 'grocers.': 1, 'pubs': 1, 'frankie': 1, 'bennys': 1, 'cinema?': 1, 'before...': 1, 'yoga?': 1, 'changing': 1, 'diapers': 1, 'owed': 1, 'unlike': 1, 'patients': 1, 'turkeys.': 1, 'ideas': 1, 'link.': 1, 'helens': 1, 'princes': 1, 'da:)where': 1, 'unintentionally': 1, 'along!': 1, 'warning.': 1, 'k..then': 1, 'wenever': 1, 'time..:-)': 1, 'family...may': 1, 'stability': 1, 'tranquility': 1, 'vibrant': 1, 'colourful': 1, 'life:):)': 1, 'renewal.': 1, 'bawling': 1, 'failure': 1, 'failing': 1, 'boyfriend.': 1, 'velusamy': 1, \"sir's\": 1, 'facilities': 1, 'k:)': 1, 'karnan': 1, '6pm': 1, 'bluray': 1, 'sch?': 1, 'i‘ve': 1, 'salt,': 1, 'wounds': 1, 'like!': 1, 'logging': 1, 'desert.': 1, 'geoenvironmental': 1, 'implications.': 1, 'strange.': 1, \"hasn't,\": 1, 'gently': 1, 'fuuuuck': 1, 'cooked': 1, 'salmon': 1, 'uploaded': 1, 'wrkin?': 1, 'ree': 1, '5000': 1, 'compensation': 1, 'sarasota?': 1, 'dinner...': 1, 'awkward.': 1, 'cheap!': 1, 'splash': 1, 'better..': 1, 'difficulties': 1, 'request.': 1, 'leg': 1, 'hurts.': 1, 'musta': 1, 'overdid': 1, 'www.telediscount.co.uk': 1, 'student': 1, 'books?': 1, 'hi.what': 1, 'match?': 1, 'installing.': 1, 'k.k.how': 1, 'selected.': 1, 'wrk,': 1, 'foned': 1, 'chuck.:-)': 1, 'nights...we': 1, 'port': 1, 'liao...too': 1, 'stuffs.': 1, 'fuck.': 1, 'juswoke': 1, 'boatin': 1, 'docks.': 1, 'spinout!': 1, 're-met': 1, 'dealing!': 1, '<fone': 1, 'no>': 1, '08715203656': 1, '42049': 1, '26/10/04': 1, 'nope,': 1, 'bother.': 1, 'aha': 1, 'uworld': 1, 'site.': 1, 'qbank': 1, 'assessment': 1, 'also?': 1, 'someonone': 1, 'service!': 1, '09064015307': 1, 'first,': 1, 'tke': 1, 'care..': 1, 'temales': 1, 'thank.': 1, 'booty...': 1, 'vid..not': 1, 'finishd..': 1, '&cs': 1, '177': 1, 'before,': 1, 'dull': 1, 'fun!': 1, 'studies': 1, 'anyones': 1, 'study.': 1, 'dreams...': 1, 'surprise!': 1, 'cbe.': 1, 'chennai.': 1, 'swoop': 1, 'treadmill': 1, 'craigslist': 1, 'absolutely': 1, 'park!': 1, 'film:)': 1, 'friendship.': 1, 'ni8.swt': 1, 'drms.take': 1, 'swan': 1, 'mo..yep.': 1, 'sall': 1, 'hehe': 1, ';>': 1, 'shexy?': 1, 'teeth?if': 1, 'asap.ok': 1, 'hello.how': 1, 'doing?what': 1, '2?when': 1, 'lamp,': 1, 'caroline!': 1, 'late:)but': 1, 'k.wish': 1, 'walk,': 1, 'eight.': 1, 'clearly': 1, 'foward': 1, 'friendship..': 1, 'night:-)': 1, '09061790126': 1, '*childish': 1, 'misundrstud': 1, 'frnd:': 1, 'urself:-(': 1, 'gn:-)': 1, '2u2.': 1, 'havent...': 1, '177.': 1, 'genes': 1, 'www.ldew.com1win150ppmx3age16subscription': 1, 'resuming.': 1, 'reapply?': 1, \"treatin'\": 1, 'treacle?': 1, 'fixed.': 1, 'mumhas': 1, 'beendropping': 1, 'theplace!': 1, 'adress?': 1, 'thursday.': 1, 'yay.': 1, '7.30.': 1, \"k.k:)i'm\": 1, '..i': 1, '.so': 1, 'money.i': 1, 'oyster...': 1, 'sashimi...': 1, 'rumbling...': 1, 'tv...': 1, 'marandratha.': 1, 'topic': 1, 'problem...': 1, 'correctly...': 1, 'thanks,': 1, 'aah': 1, 'bless!': 1, 'arm?': 1, 'sir,salam': 1, 'alaikkum.pride': 1, 'shop.we': 1, 'qatar.rakhesh': 1, 'indian.pls': 1, 'number.respectful': 1, 'regards.': 1, 'gal-can': 1, 'hand?': 1, 'boy-y?': 1, 'away?': 1, 'gal-no,': 1, 'heaven': 1, 'prince..gn:-)': 1, 'letter.': 1, 'pisces.': 1, 'aquarius': 1, '2yrs.': 1, 'steyn': 1, 'wicket:)': 1, '[in': 1, 'sterm': 1, 'voice]': 1, 'resolved,': 1, 'eggs,': 1, 'jam,': 1, 'bread,': 1, 'hannaford': 1, 'wheat': 1, 'chex': 1, 'pride.': 1, 'kid.': 1, 'grownup': 1, 'stuff--why': 1, 'costume.': 1, 'jerk!': 1, 'stink!': 1, 'textcomp': 1, 'comp.': 1, 'wk?s': 1, 'follows,': 1, 'subsequent': 1, 'wks': 1, 'charged@150p/msg.2': 1, '84128,custcare': 1, '08712405020': 1, 'openings': 1, 'upcharge.': 1, '8-hr': 1, 'paragon...': 1, 'guai...': 1, 'naughty...': 1, 'jogging...': 1, 'difficult...;-)': 1, 'bottle.': 1, 'white?': 1, 'select': 1, 'astrology....': 1, 'waiting.': 1, \"ryan's\": 1, 'program.': 1, 'slacking.': 1, 'office..still': 1, 'forms.don': 1, 'mentor': 1, 'percent': 1, '09095350301': 1, 'erotic': 1, 'ecstacy.': 1, 'attempt.': 1, 'dept.': 1, '13/4/04.': 1, '08717507382': 1, 'dating:i': 1, 'these.': 1, 'coincidence?': 1, 'lol,': 1, 'mins,': 1, 'sane.': 1, 'helping.': 1, 'leading': 1, '151.': 1, 'pause': 1, 'care:': 1, 'gr8prizes': 1, '8800,': 1, 'psp': 1, 'wk.txt': 1, '80878': 1, 'http//www.gr8prizes.com': 1, '08715705022': 1, 'website': 1, 'spacebucks': 1, \"weather's\": 1, '0207-083-6089': 1, 'squeezed': 1, 'me.remove': 1, 'maintaining': 1, 'babes.': 1, 'nights': 1, '5.i\\x92m': 1, 'dreading': 1, 'thou': 1, 'problems?': 1, 'suggestion': 1, 'lands': 1, 'helps': 1, 'forgt': 1, 'nite!!': 1, 'ajith': 1, 'ooooooh': 1, 'yoville': 1, 'asda': 1, 'counts': 1, 'doing!': 1, 'oni.': 1, 'officer': 1, 'respectful': 1, 'bffs': 1, 'carly': 1, 'true:': 1, 'someone....that': 1, 'seperated...!鈥┾??〨ud': 1, 'evening...': 1, 'brolly': 1, 'franxx': 1, 'well!i': 1, 'kisses': 1, 'cream...': 1, 'prometazine': 1, 'syrup.': 1, '5mls': 1, 'feed.': 1, 'then?': 1, 'me:': 1, 'yijue?': 1, 'daddy,': 1, 'singapore': 1, 'victoria': 1, 'traffic.': 1, 'album': 1, 'pocay': 1, 'wocay': 1, '2morrowxxxx': 1, 'coast': 1, 'broth': 1, 'ramen': 1, 'slave!': 1, 'light!': 1, 'really.': 1, 'fowler': 1, '(long': 1, 'story)': 1, 'confirmed?': 1, 'k..sry': 1, 'siva..tats': 1, 'askd..': 1, 'gal...': 1, 'diet': 1, 'flew': 1, 'window': 1, '09058094583': 1, '15:26,': 1, 'pub/cafe': 1, 'attention': 1, 'help!': 1, 'tix': 1, \"biola's\": 1, 'fne': 1, 'youdoing': 1, 'worc': 1, 'foregate': 1, 'shrub': 1, 'watch,': 1, 'get4an18th.': 1, 'much!': 1, '32000': 1, '(18+).': 1, 'legitimat': 1, 'efreefone': 1, 'think???': 1, 'shop--the': 1, 'hour.': 1, 'receipts.': 1, 'pendent?': 1, 'toilet': 1, 'stolen,': 1, 'cops': 1, 'on:)': 1, 'hu.': 1, 'navigate': 1, 'through.': 1, 'choosing': 1, 'require': 1, 'guidance.': 1, 'what????': 1, 'talks': 1, 'chick': 1, 'boobs.': 1, 'revealing': 1, 'sparkling': 1, 'breaks': 1, '45': 1, 'person;': 1, '0121': 1, '2025050': 1, 'www.shortbreaks.org.uk': 1, 'loud': 1, 'gyno': 1, 'belong': 1, 'www.gamb.tv': 1, 'treasure': 1, 'http//tms.': 1, 'wml?id=820554ad0a1705572711&first=true¡c': 1, 'ringtone¡': 1, 'holiday!': 1, '09050000332': 1, \"mummy's\": 1, 'positive': 1, 'negative': 1, 'hmmmm?': 1, 'dhoni': 1, 'title.so': 1, 'win:)': 1, 'command...': 1, 'stressful.': 1, 'holby?!': 1, '09064017295': 1, 'k52': 1, 'li': 1, 'hai...': 1, 'lecturer': 1, 'repeating': 1, 'yeovil': 1, 'motor': 1, 'max.': 1, 'rhode': 1, 'bong': 1, 'ofcourse': 1, '08448350055': 1, 'planettalkinstant.com': 1, \"c's.\": 1, 'lot..i': 1, 'eggs': 1, 'marvel': 1, 'ultimate': 1, 'spider-man': 1, '(£4.50)': 1, 'spider': 1, '83338': 1, '8ball': 1, 'tamilnadu..then': 1, 'tip': 1, 'yes...': 1, 'alive....': 1, '07808247860': 1, '08719899229': 1, '40411': 1, '06/11/04': 1, 'apo': 1, 'perhaps': 1, 'identification,': 1, 'spoken.': 1, 'limit.': 1, 'measure.': 1, 'boundaries.': 1, 'endless': 1, 'blessings': 1, 'machan': 1, 'reassuring,': 1, 'dinner,': 1, 'lor...we': 1, 'young': 1, 'referin': 1, \"mei's\": 1, 'treat,': 1, 'liao...so': 1, 'gd,': 1, 'onwards...': 1, 'smiles': 1, 'difference..?': 1, ':-)keep': 1, 'smiling..': 1, 'saibaba': 1, 'colany': 1, 'chic.': 1, 'declare': 1, '49557': 1, '26/11/04': 1, 'disappointment,': 1, 'effect': 1, 'irritation.': 1, \"tantrum's\": 1, 'compliments': 1, 'system.': 1, 'adventuring': 1, 'chief,': 1, 'june.': 1, 'gsex': 1, '2667': 1, 'wc1n': 1, '3xx': 1, '3mobile': 1, 'chatlines': 1, 'inclu': 1, 'servs': 1, 'l8er': 1, 'bill.': 1, 'bailiff': 1, 'walmart,': 1, 'mouse': 1, 'desk': 1, 'durban': 1, 'childporn': 1, 'records.': 1, ';v': 1, 'wear.': 1, 'shirts,': 1, 'jumpers,': 1, 'hat,': 1, 'belt,': 1, 'cribbs': 1, 'spiritual': 1, 'deep.': 1, 'barring': 1, 'sudden': 1, 'influx': 1, 'yeh.': 1, 'kane': 1, 'he.': 1, 'shud': 1, 'pshew...missing': 1, 'calculation': 1, 'units': 1, 'accent.': 1, '4years': 1, 'dental': 1, 'nmde': 1, 'exam.': 1, 'dump': 1, 'heap.': 1, 'lowes.': 1, 'salesman...': 1, 'considering...': 1, 'o2:': 1, '2.50': 1, 'name,': 1, '£750': 1, '087187272008': 1, 'now1!': 1, 'pity,': 1, 'so...any': 1, 'suggestions?': 1, 'bitching': 1, 'rofl.': 1})\n"
     ]
    }
   ],
   "source": [
    "# get word count\n",
    "from collections import Counter\n",
    "results = Counter()\n",
    "data['text'].str.lower().str.split().apply(results.update)\n",
    "print(results)"
   ]
  },
  {
   "cell_type": "markdown",
   "id": "45d1dc25",
   "metadata": {},
   "source": [
    "# bag of words\n",
    "---\n",
    "Again, I want to see what my data looks like at every step. Notice that the beginning and end of the shown vectors are all 0's, this would normally be the case because each sentence only has a handful of words from the entire corpus."
   ]
  },
  {
   "cell_type": "code",
   "execution_count": 8,
   "id": "36941250",
   "metadata": {},
   "outputs": [
    {
     "data": {
      "text/plain": [
       "array([[0, 0, 0, ..., 0, 0, 0],\n",
       "       [0, 0, 0, ..., 0, 0, 0],\n",
       "       [0, 0, 0, ..., 0, 0, 0],\n",
       "       ...,\n",
       "       [0, 0, 0, ..., 0, 0, 0],\n",
       "       [0, 0, 0, ..., 0, 0, 0],\n",
       "       [0, 0, 0, ..., 0, 0, 0]])"
      ]
     },
     "execution_count": 8,
     "metadata": {},
     "output_type": "execute_result"
    }
   ],
   "source": [
    "from sklearn.feature_extraction.text import CountVectorizer\n",
    "\n",
    "count = CountVectorizer()\n",
    "bag_of_words = count.fit_transform(data.text)\n",
    "# Show feature matrix\n",
    "bag_of_words.toarray()"
   ]
  },
  {
   "cell_type": "code",
   "execution_count": 9,
   "id": "ee7d845e",
   "metadata": {},
   "outputs": [
    {
     "data": {
      "text/plain": [
       "(5572, 8713)"
      ]
     },
     "execution_count": 9,
     "metadata": {},
     "output_type": "execute_result"
    }
   ],
   "source": [
    "bag_of_words.shape"
   ]
  },
  {
   "cell_type": "markdown",
   "id": "177cf706",
   "metadata": {},
   "source": [
    "# TFIDF\n",
    "---\n",
    "We do the same for TFIDF."
   ]
  },
  {
   "cell_type": "code",
   "execution_count": 10,
   "id": "1287985b",
   "metadata": {},
   "outputs": [
    {
     "data": {
      "text/plain": [
       "array([[0., 0., 0., ..., 0., 0., 0.],\n",
       "       [0., 0., 0., ..., 0., 0., 0.],\n",
       "       [0., 0., 0., ..., 0., 0., 0.],\n",
       "       ...,\n",
       "       [0., 0., 0., ..., 0., 0., 0.],\n",
       "       [0., 0., 0., ..., 0., 0., 0.],\n",
       "       [0., 0., 0., ..., 0., 0., 0.]])"
      ]
     },
     "execution_count": 10,
     "metadata": {},
     "output_type": "execute_result"
    }
   ],
   "source": [
    "# term freq inverse doc freq (divide by word freq to weigh accordingly)\n",
    "from sklearn.feature_extraction.text import TfidfVectorizer\n",
    "\n",
    "tfidf = TfidfVectorizer()\n",
    "tfidf_vec = tfidf.fit_transform(data.text)\n",
    "# Show feature matrix\n",
    "tfidf_vec.toarray()"
   ]
  },
  {
   "cell_type": "markdown",
   "id": "351f0e6d",
   "metadata": {},
   "source": [
    "Here we take a look at the numer of tokens vs the number vectorized. This difference can be attributed to a number of things such as words not in the corpus, erratic punctuation, etc."
   ]
  },
  {
   "cell_type": "code",
   "execution_count": 11,
   "id": "137ad63a",
   "metadata": {},
   "outputs": [
    {
     "data": {
      "text/plain": [
       "matrix([[18],\n",
       "        [ 5],\n",
       "        [27],\n",
       "        ...,\n",
       "        [10],\n",
       "        [24],\n",
       "        [ 6]])"
      ]
     },
     "execution_count": 11,
     "metadata": {},
     "output_type": "execute_result"
    }
   ],
   "source": [
    "import numpy as np\n",
    "np.sum(bag_of_words, axis=1)"
   ]
  },
  {
   "cell_type": "code",
   "execution_count": 12,
   "id": "ebc9d388",
   "metadata": {},
   "outputs": [
    {
     "data": {
      "text/plain": [
       "0       20\n",
       "1        6\n",
       "2       28\n",
       "3       11\n",
       "4       13\n",
       "        ..\n",
       "5567    30\n",
       "5568     8\n",
       "5569    10\n",
       "5570    26\n",
       "5571     6\n",
       "Name: text, Length: 5572, dtype: int64"
      ]
     },
     "execution_count": 12,
     "metadata": {},
     "output_type": "execute_result"
    }
   ],
   "source": [
    "data.text.str.lower().str.split(\" \").apply(lambda x: len(x))"
   ]
  },
  {
   "cell_type": "code",
   "execution_count": 13,
   "id": "8567195c",
   "metadata": {},
   "outputs": [
    {
     "data": {
      "text/plain": [
       "'Go until jurong point, crazy.. Available only in bugis n great world la e buffet... Cine there got amore wat...'"
      ]
     },
     "execution_count": 13,
     "metadata": {},
     "output_type": "execute_result"
    }
   ],
   "source": [
    "data.text[0]"
   ]
  },
  {
   "cell_type": "code",
   "execution_count": 14,
   "id": "60871442",
   "metadata": {},
   "outputs": [
    {
     "data": {
      "text/plain": [
       "matrix([[4.0774551 ],\n",
       "        [2.18215459],\n",
       "        [4.45232481],\n",
       "        ...,\n",
       "        [2.91815309],\n",
       "        [4.59574031],\n",
       "        [2.0992315 ]])"
      ]
     },
     "execution_count": 14,
     "metadata": {},
     "output_type": "execute_result"
    }
   ],
   "source": [
    "np.sum(tfidf_vec, axis=1)"
   ]
  },
  {
   "cell_type": "markdown",
   "id": "c6c0dc22",
   "metadata": {},
   "source": [
    "Now it's time to run the vectorized data through a classifier, I chose Random Forest as I believe it is a solid baseline model that can be used as a benchmark for any further testing."
   ]
  },
  {
   "cell_type": "code",
   "execution_count": 15,
   "id": "ea6a734f",
   "metadata": {},
   "outputs": [],
   "source": [
    "from sklearn.ensemble import RandomForestClassifier as rfc\n",
    "from sklearn.model_selection import train_test_split"
   ]
  },
  {
   "cell_type": "code",
   "execution_count": 16,
   "id": "bf40bf0e",
   "metadata": {},
   "outputs": [
    {
     "data": {
      "text/plain": [
       "<5572x8713 sparse matrix of type '<class 'numpy.int64'>'\n",
       "\twith 74169 stored elements in Compressed Sparse Row format>"
      ]
     },
     "execution_count": 16,
     "metadata": {},
     "output_type": "execute_result"
    }
   ],
   "source": [
    "bag_of_words"
   ]
  },
  {
   "cell_type": "code",
   "execution_count": 17,
   "id": "f794b65c",
   "metadata": {},
   "outputs": [],
   "source": [
    "X_train, X_test, y_train, y_test = train_test_split(bag_of_words, data.label, test_size=0.33, random_state=42)"
   ]
  },
  {
   "cell_type": "code",
   "execution_count": 18,
   "id": "eae3064e",
   "metadata": {},
   "outputs": [
    {
     "data": {
      "text/plain": [
       "RandomForestClassifier(max_depth=2, random_state=0)"
      ]
     },
     "execution_count": 18,
     "metadata": {},
     "output_type": "execute_result"
    }
   ],
   "source": [
    "clf = rfc(max_depth=2, random_state=0)\n",
    "clf.fit(X_train, y_train)"
   ]
  },
  {
   "cell_type": "code",
   "execution_count": 19,
   "id": "466855d3",
   "metadata": {},
   "outputs": [],
   "source": [
    "preds = clf.predict(X_test)"
   ]
  },
  {
   "cell_type": "code",
   "execution_count": 20,
   "id": "8a7c429b",
   "metadata": {},
   "outputs": [
    {
     "data": {
      "text/plain": [
       "ham    1839\n",
       "dtype: int64"
      ]
     },
     "execution_count": 20,
     "metadata": {},
     "output_type": "execute_result"
    }
   ],
   "source": [
    "pd.Series(preds).value_counts()"
   ]
  },
  {
   "cell_type": "markdown",
   "id": "0af9ec36",
   "metadata": {},
   "source": [
    "We see below that both the BOW ad TFIDF models are going all in on ham, resulting in ~0.93 accuracy score. This is likely due to the uneven distribution of the dataset itself."
   ]
  },
  {
   "cell_type": "code",
   "execution_count": 21,
   "id": "2c2784ec",
   "metadata": {},
   "outputs": [],
   "source": [
    "from sklearn.metrics import confusion_matrix, f1_score"
   ]
  },
  {
   "cell_type": "code",
   "execution_count": 22,
   "id": "b0f2622b",
   "metadata": {},
   "outputs": [
    {
     "data": {
      "text/plain": [
       "array([[1593,    0],\n",
       "       [ 246,    0]])"
      ]
     },
     "execution_count": 22,
     "metadata": {},
     "output_type": "execute_result"
    }
   ],
   "source": [
    "confusion_matrix(y_test, preds)"
   ]
  },
  {
   "cell_type": "code",
   "execution_count": 23,
   "id": "8395f022",
   "metadata": {},
   "outputs": [
    {
     "data": {
      "text/plain": [
       "0.9283216783216783"
      ]
     },
     "execution_count": 23,
     "metadata": {},
     "output_type": "execute_result"
    }
   ],
   "source": [
    "f1_score(y_test, preds, pos_label=\"ham\")"
   ]
  },
  {
   "cell_type": "code",
   "execution_count": 24,
   "id": "548b857c",
   "metadata": {},
   "outputs": [],
   "source": [
    "X_train, X_test, y_train, y_test = train_test_split(tfidf_vec, data.label, test_size=0.33, random_state=42)"
   ]
  },
  {
   "cell_type": "code",
   "execution_count": 25,
   "id": "a394ed4b",
   "metadata": {},
   "outputs": [
    {
     "data": {
      "text/plain": [
       "RandomForestClassifier(max_depth=2, random_state=0)"
      ]
     },
     "execution_count": 25,
     "metadata": {},
     "output_type": "execute_result"
    }
   ],
   "source": [
    "clf = rfc(max_depth=2, random_state=0)\n",
    "clf.fit(X_train, y_train)"
   ]
  },
  {
   "cell_type": "code",
   "execution_count": 26,
   "id": "1c6965ac",
   "metadata": {},
   "outputs": [],
   "source": [
    "preds = clf.predict(X_test)"
   ]
  },
  {
   "cell_type": "code",
   "execution_count": 27,
   "id": "73cc2e86",
   "metadata": {},
   "outputs": [
    {
     "data": {
      "text/plain": [
       "ham    1839\n",
       "dtype: int64"
      ]
     },
     "execution_count": 27,
     "metadata": {},
     "output_type": "execute_result"
    }
   ],
   "source": [
    "pd.Series(preds).value_counts()"
   ]
  },
  {
   "cell_type": "code",
   "execution_count": 28,
   "id": "1ce7ebca",
   "metadata": {},
   "outputs": [
    {
     "data": {
      "text/plain": [
       "array([[1593,    0],\n",
       "       [ 246,    0]])"
      ]
     },
     "execution_count": 28,
     "metadata": {},
     "output_type": "execute_result"
    }
   ],
   "source": [
    "confusion_matrix(y_test, preds)"
   ]
  },
  {
   "cell_type": "code",
   "execution_count": 29,
   "id": "51efb356",
   "metadata": {},
   "outputs": [
    {
     "data": {
      "text/plain": [
       "0.9283216783216783"
      ]
     },
     "execution_count": 29,
     "metadata": {},
     "output_type": "execute_result"
    }
   ],
   "source": [
    "f1_score(y_test, preds, pos_label=\"ham\")"
   ]
  },
  {
   "cell_type": "markdown",
   "id": "10173e8f",
   "metadata": {},
   "source": [
    "# Word2Vec\n",
    "---\n",
    "Now I move on to some word vectorizers in hopes of improving my score."
   ]
  },
  {
   "cell_type": "code",
   "execution_count": 30,
   "id": "7e7ac25e",
   "metadata": {},
   "outputs": [],
   "source": [
    "import gensim"
   ]
  },
  {
   "cell_type": "code",
   "execution_count": 31,
   "id": "834e8a7c",
   "metadata": {},
   "outputs": [],
   "source": [
    "# glove maybe later\n",
    "# model = gensim.models.word2vec.Word2Vec.load_word2vec_format(os.path.join(os.path.dirname(__file__), 'GoogleNews-vectors-negative300.bin'), binary=True)"
   ]
  },
  {
   "cell_type": "code",
   "execution_count": 32,
   "id": "46af33dc",
   "metadata": {},
   "outputs": [
    {
     "name": "stdout",
     "output_type": "stream",
     "text": [
      "[--------------------------------------------------] 1.4% 23.4/1662.8MB downloaded"
     ]
    },
    {
     "name": "stderr",
     "output_type": "stream",
     "text": [
      "IOPub message rate exceeded.\n",
      "The notebook server will temporarily stop sending output\n",
      "to the client in order to avoid crashing it.\n",
      "To change this limit, set the config variable\n",
      "`--NotebookApp.iopub_msg_rate_limit`.\n",
      "\n",
      "Current values:\n",
      "NotebookApp.iopub_msg_rate_limit=1000.0 (msgs/sec)\n",
      "NotebookApp.rate_limit_window=3.0 (secs)\n",
      "\n"
     ]
    },
    {
     "name": "stdout",
     "output_type": "stream",
     "text": [
      "[==------------------------------------------------] 4.2% 69.2/1662.8MB downloaded"
     ]
    },
    {
     "name": "stderr",
     "output_type": "stream",
     "text": [
      "IOPub message rate exceeded.\n",
      "The notebook server will temporarily stop sending output\n",
      "to the client in order to avoid crashing it.\n",
      "To change this limit, set the config variable\n",
      "`--NotebookApp.iopub_msg_rate_limit`.\n",
      "\n",
      "Current values:\n",
      "NotebookApp.iopub_msg_rate_limit=1000.0 (msgs/sec)\n",
      "NotebookApp.rate_limit_window=3.0 (secs)\n",
      "\n"
     ]
    },
    {
     "name": "stdout",
     "output_type": "stream",
     "text": [
      "[===-----------------------------------------------] 6.8% 113.5/1662.8MB downloaded"
     ]
    },
    {
     "name": "stderr",
     "output_type": "stream",
     "text": [
      "IOPub message rate exceeded.\n",
      "The notebook server will temporarily stop sending output\n",
      "to the client in order to avoid crashing it.\n",
      "To change this limit, set the config variable\n",
      "`--NotebookApp.iopub_msg_rate_limit`.\n",
      "\n",
      "Current values:\n",
      "NotebookApp.iopub_msg_rate_limit=1000.0 (msgs/sec)\n",
      "NotebookApp.rate_limit_window=3.0 (secs)\n",
      "\n"
     ]
    },
    {
     "name": "stdout",
     "output_type": "stream",
     "text": [
      "[====----------------------------------------------] 9.3% 155.1/1662.8MB downloaded"
     ]
    },
    {
     "name": "stderr",
     "output_type": "stream",
     "text": [
      "IOPub message rate exceeded.\n",
      "The notebook server will temporarily stop sending output\n",
      "to the client in order to avoid crashing it.\n",
      "To change this limit, set the config variable\n",
      "`--NotebookApp.iopub_msg_rate_limit`.\n",
      "\n",
      "Current values:\n",
      "NotebookApp.iopub_msg_rate_limit=1000.0 (msgs/sec)\n",
      "NotebookApp.rate_limit_window=3.0 (secs)\n",
      "\n"
     ]
    },
    {
     "name": "stdout",
     "output_type": "stream",
     "text": [
      "[=====---------------------------------------------] 12.0% 199.5/1662.8MB downloaded"
     ]
    },
    {
     "name": "stderr",
     "output_type": "stream",
     "text": [
      "IOPub message rate exceeded.\n",
      "The notebook server will temporarily stop sending output\n",
      "to the client in order to avoid crashing it.\n",
      "To change this limit, set the config variable\n",
      "`--NotebookApp.iopub_msg_rate_limit`.\n",
      "\n",
      "Current values:\n",
      "NotebookApp.iopub_msg_rate_limit=1000.0 (msgs/sec)\n",
      "NotebookApp.rate_limit_window=3.0 (secs)\n",
      "\n"
     ]
    },
    {
     "name": "stdout",
     "output_type": "stream",
     "text": [
      "[=======-------------------------------------------] 14.7% 245.3/1662.8MB downloaded"
     ]
    },
    {
     "name": "stderr",
     "output_type": "stream",
     "text": [
      "IOPub message rate exceeded.\n",
      "The notebook server will temporarily stop sending output\n",
      "to the client in order to avoid crashing it.\n",
      "To change this limit, set the config variable\n",
      "`--NotebookApp.iopub_msg_rate_limit`.\n",
      "\n",
      "Current values:\n",
      "NotebookApp.iopub_msg_rate_limit=1000.0 (msgs/sec)\n",
      "NotebookApp.rate_limit_window=3.0 (secs)\n",
      "\n"
     ]
    },
    {
     "name": "stdout",
     "output_type": "stream",
     "text": [
      "[========------------------------------------------] 17.5% 290.8/1662.8MB downloaded"
     ]
    },
    {
     "name": "stderr",
     "output_type": "stream",
     "text": [
      "IOPub message rate exceeded.\n",
      "The notebook server will temporarily stop sending output\n",
      "to the client in order to avoid crashing it.\n",
      "To change this limit, set the config variable\n",
      "`--NotebookApp.iopub_msg_rate_limit`.\n",
      "\n",
      "Current values:\n",
      "NotebookApp.iopub_msg_rate_limit=1000.0 (msgs/sec)\n",
      "NotebookApp.rate_limit_window=3.0 (secs)\n",
      "\n"
     ]
    },
    {
     "name": "stdout",
     "output_type": "stream",
     "text": [
      "[==========----------------------------------------] 20.0% 332.9/1662.8MB downloaded"
     ]
    },
    {
     "name": "stderr",
     "output_type": "stream",
     "text": [
      "IOPub message rate exceeded.\n",
      "The notebook server will temporarily stop sending output\n",
      "to the client in order to avoid crashing it.\n",
      "To change this limit, set the config variable\n",
      "`--NotebookApp.iopub_msg_rate_limit`.\n",
      "\n",
      "Current values:\n",
      "NotebookApp.iopub_msg_rate_limit=1000.0 (msgs/sec)\n",
      "NotebookApp.rate_limit_window=3.0 (secs)\n",
      "\n"
     ]
    },
    {
     "name": "stdout",
     "output_type": "stream",
     "text": [
      "[===========---------------------------------------] 22.5% 374.3/1662.8MB downloaded"
     ]
    },
    {
     "name": "stderr",
     "output_type": "stream",
     "text": [
      "IOPub message rate exceeded.\n",
      "The notebook server will temporarily stop sending output\n",
      "to the client in order to avoid crashing it.\n",
      "To change this limit, set the config variable\n",
      "`--NotebookApp.iopub_msg_rate_limit`.\n",
      "\n",
      "Current values:\n",
      "NotebookApp.iopub_msg_rate_limit=1000.0 (msgs/sec)\n",
      "NotebookApp.rate_limit_window=3.0 (secs)\n",
      "\n"
     ]
    },
    {
     "name": "stdout",
     "output_type": "stream",
     "text": [
      "[============--------------------------------------] 25.0% 416.1/1662.8MB downloaded"
     ]
    },
    {
     "name": "stderr",
     "output_type": "stream",
     "text": [
      "IOPub message rate exceeded.\n",
      "The notebook server will temporarily stop sending output\n",
      "to the client in order to avoid crashing it.\n",
      "To change this limit, set the config variable\n",
      "`--NotebookApp.iopub_msg_rate_limit`.\n",
      "\n",
      "Current values:\n",
      "NotebookApp.iopub_msg_rate_limit=1000.0 (msgs/sec)\n",
      "NotebookApp.rate_limit_window=3.0 (secs)\n",
      "\n"
     ]
    },
    {
     "name": "stdout",
     "output_type": "stream",
     "text": [
      "[=============-------------------------------------] 27.8% 462.6/1662.8MB downloaded"
     ]
    },
    {
     "name": "stderr",
     "output_type": "stream",
     "text": [
      "IOPub message rate exceeded.\n",
      "The notebook server will temporarily stop sending output\n",
      "to the client in order to avoid crashing it.\n",
      "To change this limit, set the config variable\n",
      "`--NotebookApp.iopub_msg_rate_limit`.\n",
      "\n",
      "Current values:\n",
      "NotebookApp.iopub_msg_rate_limit=1000.0 (msgs/sec)\n",
      "NotebookApp.rate_limit_window=3.0 (secs)\n",
      "\n"
     ]
    },
    {
     "name": "stdout",
     "output_type": "stream",
     "text": [
      "[===============-----------------------------------] 30.5% 506.5/1662.8MB downloaded"
     ]
    },
    {
     "name": "stderr",
     "output_type": "stream",
     "text": [
      "IOPub message rate exceeded.\n",
      "The notebook server will temporarily stop sending output\n",
      "to the client in order to avoid crashing it.\n",
      "To change this limit, set the config variable\n",
      "`--NotebookApp.iopub_msg_rate_limit`.\n",
      "\n",
      "Current values:\n",
      "NotebookApp.iopub_msg_rate_limit=1000.0 (msgs/sec)\n",
      "NotebookApp.rate_limit_window=3.0 (secs)\n",
      "\n"
     ]
    },
    {
     "name": "stdout",
     "output_type": "stream",
     "text": [
      "[================----------------------------------] 33.0% 548.0/1662.8MB downloaded"
     ]
    },
    {
     "name": "stderr",
     "output_type": "stream",
     "text": [
      "IOPub message rate exceeded.\n",
      "The notebook server will temporarily stop sending output\n",
      "to the client in order to avoid crashing it.\n",
      "To change this limit, set the config variable\n",
      "`--NotebookApp.iopub_msg_rate_limit`.\n",
      "\n",
      "Current values:\n",
      "NotebookApp.iopub_msg_rate_limit=1000.0 (msgs/sec)\n",
      "NotebookApp.rate_limit_window=3.0 (secs)\n",
      "\n"
     ]
    },
    {
     "name": "stdout",
     "output_type": "stream",
     "text": [
      "[=================---------------------------------] 35.1% 584.4/1662.8MB downloaded"
     ]
    },
    {
     "name": "stderr",
     "output_type": "stream",
     "text": [
      "IOPub message rate exceeded.\n",
      "The notebook server will temporarily stop sending output\n",
      "to the client in order to avoid crashing it.\n",
      "To change this limit, set the config variable\n",
      "`--NotebookApp.iopub_msg_rate_limit`.\n",
      "\n",
      "Current values:\n",
      "NotebookApp.iopub_msg_rate_limit=1000.0 (msgs/sec)\n",
      "NotebookApp.rate_limit_window=3.0 (secs)\n",
      "\n"
     ]
    },
    {
     "name": "stdout",
     "output_type": "stream",
     "text": [
      "[==================--------------------------------] 37.8% 628.6/1662.8MB downloaded"
     ]
    },
    {
     "name": "stderr",
     "output_type": "stream",
     "text": [
      "IOPub message rate exceeded.\n",
      "The notebook server will temporarily stop sending output\n",
      "to the client in order to avoid crashing it.\n",
      "To change this limit, set the config variable\n",
      "`--NotebookApp.iopub_msg_rate_limit`.\n",
      "\n",
      "Current values:\n",
      "NotebookApp.iopub_msg_rate_limit=1000.0 (msgs/sec)\n",
      "NotebookApp.rate_limit_window=3.0 (secs)\n",
      "\n"
     ]
    },
    {
     "name": "stdout",
     "output_type": "stream",
     "text": [
      "[====================------------------------------] 40.5% 673.9/1662.8MB downloaded"
     ]
    },
    {
     "name": "stderr",
     "output_type": "stream",
     "text": [
      "IOPub message rate exceeded.\n",
      "The notebook server will temporarily stop sending output\n",
      "to the client in order to avoid crashing it.\n",
      "To change this limit, set the config variable\n",
      "`--NotebookApp.iopub_msg_rate_limit`.\n",
      "\n",
      "Current values:\n",
      "NotebookApp.iopub_msg_rate_limit=1000.0 (msgs/sec)\n",
      "NotebookApp.rate_limit_window=3.0 (secs)\n",
      "\n"
     ]
    },
    {
     "name": "stdout",
     "output_type": "stream",
     "text": [
      "[=====================-----------------------------] 43.2% 717.5/1662.8MB downloaded"
     ]
    },
    {
     "name": "stderr",
     "output_type": "stream",
     "text": [
      "IOPub message rate exceeded.\n",
      "The notebook server will temporarily stop sending output\n",
      "to the client in order to avoid crashing it.\n",
      "To change this limit, set the config variable\n",
      "`--NotebookApp.iopub_msg_rate_limit`.\n",
      "\n",
      "Current values:\n",
      "NotebookApp.iopub_msg_rate_limit=1000.0 (msgs/sec)\n",
      "NotebookApp.rate_limit_window=3.0 (secs)\n",
      "\n"
     ]
    },
    {
     "name": "stdout",
     "output_type": "stream",
     "text": [
      "[======================----------------------------] 45.6% 758.3/1662.8MB downloaded"
     ]
    },
    {
     "name": "stderr",
     "output_type": "stream",
     "text": [
      "IOPub message rate exceeded.\n",
      "The notebook server will temporarily stop sending output\n",
      "to the client in order to avoid crashing it.\n",
      "To change this limit, set the config variable\n",
      "`--NotebookApp.iopub_msg_rate_limit`.\n",
      "\n",
      "Current values:\n",
      "NotebookApp.iopub_msg_rate_limit=1000.0 (msgs/sec)\n",
      "NotebookApp.rate_limit_window=3.0 (secs)\n",
      "\n"
     ]
    },
    {
     "name": "stdout",
     "output_type": "stream",
     "text": [
      "[========================--------------------------] 48.1% 800.3/1662.8MB downloaded"
     ]
    },
    {
     "name": "stderr",
     "output_type": "stream",
     "text": [
      "IOPub message rate exceeded.\n",
      "The notebook server will temporarily stop sending output\n",
      "to the client in order to avoid crashing it.\n",
      "To change this limit, set the config variable\n",
      "`--NotebookApp.iopub_msg_rate_limit`.\n",
      "\n",
      "Current values:\n",
      "NotebookApp.iopub_msg_rate_limit=1000.0 (msgs/sec)\n",
      "NotebookApp.rate_limit_window=3.0 (secs)\n",
      "\n"
     ]
    },
    {
     "name": "stdout",
     "output_type": "stream",
     "text": [
      "[=========================-------------------------] 50.5% 840.2/1662.8MB downloaded"
     ]
    },
    {
     "name": "stderr",
     "output_type": "stream",
     "text": [
      "IOPub message rate exceeded.\n",
      "The notebook server will temporarily stop sending output\n",
      "to the client in order to avoid crashing it.\n",
      "To change this limit, set the config variable\n",
      "`--NotebookApp.iopub_msg_rate_limit`.\n",
      "\n",
      "Current values:\n",
      "NotebookApp.iopub_msg_rate_limit=1000.0 (msgs/sec)\n",
      "NotebookApp.rate_limit_window=3.0 (secs)\n",
      "\n"
     ]
    },
    {
     "name": "stdout",
     "output_type": "stream",
     "text": [
      "[==========================------------------------] 53.0% 881.2/1662.8MB downloaded"
     ]
    },
    {
     "name": "stderr",
     "output_type": "stream",
     "text": [
      "IOPub message rate exceeded.\n",
      "The notebook server will temporarily stop sending output\n",
      "to the client in order to avoid crashing it.\n",
      "To change this limit, set the config variable\n",
      "`--NotebookApp.iopub_msg_rate_limit`.\n",
      "\n",
      "Current values:\n",
      "NotebookApp.iopub_msg_rate_limit=1000.0 (msgs/sec)\n",
      "NotebookApp.rate_limit_window=3.0 (secs)\n",
      "\n"
     ]
    },
    {
     "name": "stdout",
     "output_type": "stream",
     "text": [
      "[===========================-----------------------] 55.5% 922.4/1662.8MB downloaded"
     ]
    },
    {
     "name": "stderr",
     "output_type": "stream",
     "text": [
      "IOPub message rate exceeded.\n",
      "The notebook server will temporarily stop sending output\n",
      "to the client in order to avoid crashing it.\n",
      "To change this limit, set the config variable\n",
      "`--NotebookApp.iopub_msg_rate_limit`.\n",
      "\n",
      "Current values:\n",
      "NotebookApp.iopub_msg_rate_limit=1000.0 (msgs/sec)\n",
      "NotebookApp.rate_limit_window=3.0 (secs)\n",
      "\n"
     ]
    },
    {
     "name": "stdout",
     "output_type": "stream",
     "text": [
      "[=============================---------------------] 58.0% 964.5/1662.8MB downloaded"
     ]
    },
    {
     "name": "stderr",
     "output_type": "stream",
     "text": [
      "IOPub message rate exceeded.\n",
      "The notebook server will temporarily stop sending output\n",
      "to the client in order to avoid crashing it.\n",
      "To change this limit, set the config variable\n",
      "`--NotebookApp.iopub_msg_rate_limit`.\n",
      "\n",
      "Current values:\n",
      "NotebookApp.iopub_msg_rate_limit=1000.0 (msgs/sec)\n",
      "NotebookApp.rate_limit_window=3.0 (secs)\n",
      "\n"
     ]
    },
    {
     "name": "stdout",
     "output_type": "stream",
     "text": [
      "[==============================--------------------] 60.6% 1008.4/1662.8MB downloaded"
     ]
    },
    {
     "name": "stderr",
     "output_type": "stream",
     "text": [
      "IOPub message rate exceeded.\n",
      "The notebook server will temporarily stop sending output\n",
      "to the client in order to avoid crashing it.\n",
      "To change this limit, set the config variable\n",
      "`--NotebookApp.iopub_msg_rate_limit`.\n",
      "\n",
      "Current values:\n",
      "NotebookApp.iopub_msg_rate_limit=1000.0 (msgs/sec)\n",
      "NotebookApp.rate_limit_window=3.0 (secs)\n",
      "\n"
     ]
    },
    {
     "name": "stdout",
     "output_type": "stream",
     "text": [
      "[===============================-------------------] 63.2% 1050.6/1662.8MB downloaded"
     ]
    },
    {
     "name": "stderr",
     "output_type": "stream",
     "text": [
      "IOPub message rate exceeded.\n",
      "The notebook server will temporarily stop sending output\n",
      "to the client in order to avoid crashing it.\n",
      "To change this limit, set the config variable\n",
      "`--NotebookApp.iopub_msg_rate_limit`.\n",
      "\n",
      "Current values:\n",
      "NotebookApp.iopub_msg_rate_limit=1000.0 (msgs/sec)\n",
      "NotebookApp.rate_limit_window=3.0 (secs)\n",
      "\n"
     ]
    },
    {
     "name": "stdout",
     "output_type": "stream",
     "text": [
      "[================================------------------] 65.7% 1092.2/1662.8MB downloaded"
     ]
    },
    {
     "name": "stderr",
     "output_type": "stream",
     "text": [
      "IOPub message rate exceeded.\n",
      "The notebook server will temporarily stop sending output\n",
      "to the client in order to avoid crashing it.\n",
      "To change this limit, set the config variable\n",
      "`--NotebookApp.iopub_msg_rate_limit`.\n",
      "\n",
      "Current values:\n",
      "NotebookApp.iopub_msg_rate_limit=1000.0 (msgs/sec)\n",
      "NotebookApp.rate_limit_window=3.0 (secs)\n",
      "\n"
     ]
    },
    {
     "name": "stdout",
     "output_type": "stream",
     "text": [
      "[==================================----------------] 68.2% 1133.3/1662.8MB downloaded"
     ]
    },
    {
     "name": "stderr",
     "output_type": "stream",
     "text": [
      "IOPub message rate exceeded.\n",
      "The notebook server will temporarily stop sending output\n",
      "to the client in order to avoid crashing it.\n",
      "To change this limit, set the config variable\n",
      "`--NotebookApp.iopub_msg_rate_limit`.\n",
      "\n",
      "Current values:\n",
      "NotebookApp.iopub_msg_rate_limit=1000.0 (msgs/sec)\n",
      "NotebookApp.rate_limit_window=3.0 (secs)\n",
      "\n"
     ]
    },
    {
     "name": "stdout",
     "output_type": "stream",
     "text": [
      "[===================================---------------] 70.6% 1174.1/1662.8MB downloaded"
     ]
    },
    {
     "name": "stderr",
     "output_type": "stream",
     "text": [
      "IOPub message rate exceeded.\n",
      "The notebook server will temporarily stop sending output\n",
      "to the client in order to avoid crashing it.\n",
      "To change this limit, set the config variable\n",
      "`--NotebookApp.iopub_msg_rate_limit`.\n",
      "\n",
      "Current values:\n",
      "NotebookApp.iopub_msg_rate_limit=1000.0 (msgs/sec)\n",
      "NotebookApp.rate_limit_window=3.0 (secs)\n",
      "\n"
     ]
    },
    {
     "name": "stdout",
     "output_type": "stream",
     "text": [
      "[====================================--------------] 72.9% 1213.0/1662.8MB downloaded"
     ]
    },
    {
     "name": "stderr",
     "output_type": "stream",
     "text": [
      "IOPub message rate exceeded.\n",
      "The notebook server will temporarily stop sending output\n",
      "to the client in order to avoid crashing it.\n",
      "To change this limit, set the config variable\n",
      "`--NotebookApp.iopub_msg_rate_limit`.\n",
      "\n",
      "Current values:\n",
      "NotebookApp.iopub_msg_rate_limit=1000.0 (msgs/sec)\n",
      "NotebookApp.rate_limit_window=3.0 (secs)\n",
      "\n"
     ]
    },
    {
     "name": "stdout",
     "output_type": "stream",
     "text": [
      "[=====================================-------------] 75.5% 1254.6/1662.8MB downloaded"
     ]
    },
    {
     "name": "stderr",
     "output_type": "stream",
     "text": [
      "IOPub message rate exceeded.\n",
      "The notebook server will temporarily stop sending output\n",
      "to the client in order to avoid crashing it.\n",
      "To change this limit, set the config variable\n",
      "`--NotebookApp.iopub_msg_rate_limit`.\n",
      "\n",
      "Current values:\n",
      "NotebookApp.iopub_msg_rate_limit=1000.0 (msgs/sec)\n",
      "NotebookApp.rate_limit_window=3.0 (secs)\n",
      "\n"
     ]
    },
    {
     "name": "stdout",
     "output_type": "stream",
     "text": [
      "[=======================================-----------] 78.0% 1297.2/1662.8MB downloaded"
     ]
    },
    {
     "name": "stderr",
     "output_type": "stream",
     "text": [
      "IOPub message rate exceeded.\n",
      "The notebook server will temporarily stop sending output\n",
      "to the client in order to avoid crashing it.\n",
      "To change this limit, set the config variable\n",
      "`--NotebookApp.iopub_msg_rate_limit`.\n",
      "\n",
      "Current values:\n",
      "NotebookApp.iopub_msg_rate_limit=1000.0 (msgs/sec)\n",
      "NotebookApp.rate_limit_window=3.0 (secs)\n",
      "\n"
     ]
    },
    {
     "name": "stdout",
     "output_type": "stream",
     "text": [
      "[========================================----------] 80.5% 1338.0/1662.8MB downloaded"
     ]
    },
    {
     "name": "stderr",
     "output_type": "stream",
     "text": [
      "IOPub message rate exceeded.\n",
      "The notebook server will temporarily stop sending output\n",
      "to the client in order to avoid crashing it.\n",
      "To change this limit, set the config variable\n",
      "`--NotebookApp.iopub_msg_rate_limit`.\n",
      "\n",
      "Current values:\n",
      "NotebookApp.iopub_msg_rate_limit=1000.0 (msgs/sec)\n",
      "NotebookApp.rate_limit_window=3.0 (secs)\n",
      "\n"
     ]
    },
    {
     "name": "stdout",
     "output_type": "stream",
     "text": [
      "[=========================================---------] 82.8% 1377.4/1662.8MB downloaded"
     ]
    },
    {
     "name": "stderr",
     "output_type": "stream",
     "text": [
      "IOPub message rate exceeded.\n",
      "The notebook server will temporarily stop sending output\n",
      "to the client in order to avoid crashing it.\n",
      "To change this limit, set the config variable\n",
      "`--NotebookApp.iopub_msg_rate_limit`.\n",
      "\n",
      "Current values:\n",
      "NotebookApp.iopub_msg_rate_limit=1000.0 (msgs/sec)\n",
      "NotebookApp.rate_limit_window=3.0 (secs)\n",
      "\n"
     ]
    },
    {
     "name": "stdout",
     "output_type": "stream",
     "text": [
      "[==========================================--------] 85.2% 1417.1/1662.8MB downloaded"
     ]
    },
    {
     "name": "stderr",
     "output_type": "stream",
     "text": [
      "IOPub message rate exceeded.\n",
      "The notebook server will temporarily stop sending output\n",
      "to the client in order to avoid crashing it.\n",
      "To change this limit, set the config variable\n",
      "`--NotebookApp.iopub_msg_rate_limit`.\n",
      "\n",
      "Current values:\n",
      "NotebookApp.iopub_msg_rate_limit=1000.0 (msgs/sec)\n",
      "NotebookApp.rate_limit_window=3.0 (secs)\n",
      "\n"
     ]
    },
    {
     "name": "stdout",
     "output_type": "stream",
     "text": [
      "[===========================================-------] 87.8% 1459.2/1662.8MB downloaded"
     ]
    },
    {
     "name": "stderr",
     "output_type": "stream",
     "text": [
      "IOPub message rate exceeded.\n",
      "The notebook server will temporarily stop sending output\n",
      "to the client in order to avoid crashing it.\n",
      "To change this limit, set the config variable\n",
      "`--NotebookApp.iopub_msg_rate_limit`.\n",
      "\n",
      "Current values:\n",
      "NotebookApp.iopub_msg_rate_limit=1000.0 (msgs/sec)\n",
      "NotebookApp.rate_limit_window=3.0 (secs)\n",
      "\n"
     ]
    },
    {
     "name": "stdout",
     "output_type": "stream",
     "text": [
      "[=============================================-----] 90.2% 1499.5/1662.8MB downloaded"
     ]
    },
    {
     "name": "stderr",
     "output_type": "stream",
     "text": [
      "IOPub message rate exceeded.\n",
      "The notebook server will temporarily stop sending output\n",
      "to the client in order to avoid crashing it.\n",
      "To change this limit, set the config variable\n",
      "`--NotebookApp.iopub_msg_rate_limit`.\n",
      "\n",
      "Current values:\n",
      "NotebookApp.iopub_msg_rate_limit=1000.0 (msgs/sec)\n",
      "NotebookApp.rate_limit_window=3.0 (secs)\n",
      "\n"
     ]
    },
    {
     "name": "stdout",
     "output_type": "stream",
     "text": [
      "[==============================================----] 92.8% 1543.0/1662.8MB downloaded"
     ]
    },
    {
     "name": "stderr",
     "output_type": "stream",
     "text": [
      "IOPub message rate exceeded.\n",
      "The notebook server will temporarily stop sending output\n",
      "to the client in order to avoid crashing it.\n",
      "To change this limit, set the config variable\n",
      "`--NotebookApp.iopub_msg_rate_limit`.\n",
      "\n",
      "Current values:\n",
      "NotebookApp.iopub_msg_rate_limit=1000.0 (msgs/sec)\n",
      "NotebookApp.rate_limit_window=3.0 (secs)\n",
      "\n"
     ]
    },
    {
     "name": "stdout",
     "output_type": "stream",
     "text": [
      "[===============================================---] 95.3% 1585.4/1662.8MB downloaded"
     ]
    },
    {
     "name": "stderr",
     "output_type": "stream",
     "text": [
      "IOPub message rate exceeded.\n",
      "The notebook server will temporarily stop sending output\n",
      "to the client in order to avoid crashing it.\n",
      "To change this limit, set the config variable\n",
      "`--NotebookApp.iopub_msg_rate_limit`.\n",
      "\n",
      "Current values:\n",
      "NotebookApp.iopub_msg_rate_limit=1000.0 (msgs/sec)\n",
      "NotebookApp.rate_limit_window=3.0 (secs)\n",
      "\n"
     ]
    },
    {
     "name": "stdout",
     "output_type": "stream",
     "text": [
      "[================================================--] 97.8% 1625.4/1662.8MB downloaded"
     ]
    },
    {
     "name": "stderr",
     "output_type": "stream",
     "text": [
      "IOPub message rate exceeded.\n",
      "The notebook server will temporarily stop sending output\n",
      "to the client in order to avoid crashing it.\n",
      "To change this limit, set the config variable\n",
      "`--NotebookApp.iopub_msg_rate_limit`.\n",
      "\n",
      "Current values:\n",
      "NotebookApp.iopub_msg_rate_limit=1000.0 (msgs/sec)\n",
      "NotebookApp.rate_limit_window=3.0 (secs)\n",
      "\n"
     ]
    },
    {
     "name": "stdout",
     "output_type": "stream",
     "text": [
      "[==================================================] 100.0% 1662.8/1662.8MB downloaded\n"
     ]
    },
    {
     "data": {
      "text/plain": [
       "<gensim.models.keyedvectors.KeyedVectors at 0x7ff3fc626fa0>"
      ]
     },
     "execution_count": 32,
     "metadata": {},
     "output_type": "execute_result"
    }
   ],
   "source": [
    "# word2vec\n",
    "import gensim.downloader as api\n",
    "\n",
    "api.load(\"word2vec-google-news-300\")\n",
    "\n",
    "# Load Google's pre-trained Word2Vec model.\n",
    "# model = gensim.models.KeyedVectors.load_word2vec_format('https://s3.amazonaws.com/dl4j-distribution/GoogleNews-vectors-negative300.bin.gz', binary=True) "
   ]
  },
  {
   "cell_type": "code",
   "execution_count": 33,
   "id": "ad824fbf",
   "metadata": {},
   "outputs": [],
   "source": [
    "model_word2vec = api.load(\"word2vec-google-news-300\")"
   ]
  },
  {
   "cell_type": "markdown",
   "id": "a0d89e1f",
   "metadata": {},
   "source": [
    "Note when formatting the vector I must average the vectors of each word in a sentence to put it in a similar one-sentence-one-vector format that I used in BOW and TFIDF. This way I can contexualize each sentence's vector such that they can be compared.\n",
    "\n",
    "At this point I also notice that there are some NaN/Null values that must be taken care of, I decided to just fill the spots with vectors containing all ones. This will of course have an effect on the results and is somewhere to look if refinement is to be done."
   ]
  },
  {
   "cell_type": "code",
   "execution_count": 34,
   "id": "c30029dc",
   "metadata": {},
   "outputs": [],
   "source": [
    "vectors_model_word2vec = [sum([model_word2vec[word] for word in sent.split(\" \") if word in model_word2vec]) / len(sent) for sent in data.text]"
   ]
  },
  {
   "cell_type": "code",
   "execution_count": 35,
   "id": "9f664c49",
   "metadata": {},
   "outputs": [],
   "source": [
    "vectors_model_word2vec = [np.ones(300) if isinstance(vec, float) else vec for vec in vectors_model_word2vec]"
   ]
  },
  {
   "cell_type": "code",
   "execution_count": 36,
   "id": "a8a56f3c",
   "metadata": {},
   "outputs": [],
   "source": [
    "word2vec_df = pd.DataFrame.from_dict(zip(data.label, vectors_model_word2vec))"
   ]
  },
  {
   "cell_type": "code",
   "execution_count": 37,
   "id": "9c4ceb66",
   "metadata": {},
   "outputs": [
    {
     "data": {
      "text/html": [
       "<div>\n",
       "<style scoped>\n",
       "    .dataframe tbody tr th:only-of-type {\n",
       "        vertical-align: middle;\n",
       "    }\n",
       "\n",
       "    .dataframe tbody tr th {\n",
       "        vertical-align: top;\n",
       "    }\n",
       "\n",
       "    .dataframe thead th {\n",
       "        text-align: right;\n",
       "    }\n",
       "</style>\n",
       "<table border=\"1\" class=\"dataframe\">\n",
       "  <thead>\n",
       "    <tr style=\"text-align: right;\">\n",
       "      <th></th>\n",
       "      <th>0</th>\n",
       "      <th>1</th>\n",
       "    </tr>\n",
       "  </thead>\n",
       "  <tbody>\n",
       "    <tr>\n",
       "      <th>0</th>\n",
       "      <td>ham</td>\n",
       "      <td>[0.0046023806, 0.005155546, -0.0020323058, 0.0...</td>\n",
       "    </tr>\n",
       "    <tr>\n",
       "      <th>1</th>\n",
       "      <td>ham</td>\n",
       "      <td>[-0.015317719, 0.010817955, 0.006785426, 0.009...</td>\n",
       "    </tr>\n",
       "    <tr>\n",
       "      <th>2</th>\n",
       "      <td>spam</td>\n",
       "      <td>[-0.0018367151, -0.009888286, -0.00878355, -0....</td>\n",
       "    </tr>\n",
       "    <tr>\n",
       "      <th>3</th>\n",
       "      <td>ham</td>\n",
       "      <td>[-0.010165468, 0.008688168, 0.021725401, 0.018...</td>\n",
       "    </tr>\n",
       "    <tr>\n",
       "      <th>4</th>\n",
       "      <td>ham</td>\n",
       "      <td>[0.018930905, 0.0112199625, 0.008914134, 0.025...</td>\n",
       "    </tr>\n",
       "  </tbody>\n",
       "</table>\n",
       "</div>"
      ],
      "text/plain": [
       "      0                                                  1\n",
       "0   ham  [0.0046023806, 0.005155546, -0.0020323058, 0.0...\n",
       "1   ham  [-0.015317719, 0.010817955, 0.006785426, 0.009...\n",
       "2  spam  [-0.0018367151, -0.009888286, -0.00878355, -0....\n",
       "3   ham  [-0.010165468, 0.008688168, 0.021725401, 0.018...\n",
       "4   ham  [0.018930905, 0.0112199625, 0.008914134, 0.025..."
      ]
     },
     "execution_count": 37,
     "metadata": {},
     "output_type": "execute_result"
    }
   ],
   "source": [
    "word2vec_df.head()"
   ]
  },
  {
   "cell_type": "code",
   "execution_count": 38,
   "id": "32f7f1ca",
   "metadata": {},
   "outputs": [],
   "source": [
    "word2vec_df.columns = [\"label\", \"vec\"]\n",
    "word2vec_df = pd.DataFrame(word2vec_df.vec.to_list())"
   ]
  },
  {
   "cell_type": "markdown",
   "id": "27faa28a",
   "metadata": {},
   "source": [
    "The result here is not a huge difference by any measure but a change nonetheless! We now have a singe data point correctly labeled as spam. "
   ]
  },
  {
   "cell_type": "code",
   "execution_count": 39,
   "id": "2cdfa7e3",
   "metadata": {},
   "outputs": [
    {
     "name": "stdout",
     "output_type": "stream",
     "text": [
      "[[1593    0]\n",
      " [ 245    1]]\n"
     ]
    },
    {
     "data": {
      "text/plain": [
       "0.9285922471582628"
      ]
     },
     "execution_count": 39,
     "metadata": {},
     "output_type": "execute_result"
    }
   ],
   "source": [
    "X_train, X_test, y_train, y_test = train_test_split(word2vec_df, data.label, test_size=0.33, random_state=42)\n",
    "\n",
    "clf = rfc(max_depth=2, random_state=0)\n",
    "clf.fit(X_train, y_train)\n",
    "\n",
    "preds = clf.predict(X_test)\n",
    "\n",
    "pd.Series(preds).value_counts()\n",
    "\n",
    "print(confusion_matrix(y_test, preds))\n",
    "\n",
    "f1_score(y_test, preds, pos_label=\"ham\")"
   ]
  },
  {
   "cell_type": "markdown",
   "id": "e87dc008",
   "metadata": {},
   "source": [
    "# glove\n",
    "---\n",
    "Another word vectorizer, I simply used the same process after working it out in the last one."
   ]
  },
  {
   "cell_type": "code",
   "execution_count": 40,
   "id": "6ede5cff",
   "metadata": {},
   "outputs": [
    {
     "name": "stdout",
     "output_type": "stream",
     "text": [
      "[=================---------------------------------] 35.5% 23.4/66.0MB downloaded"
     ]
    },
    {
     "name": "stderr",
     "output_type": "stream",
     "text": [
      "IOPub message rate exceeded.\n",
      "The notebook server will temporarily stop sending output\n",
      "to the client in order to avoid crashing it.\n",
      "To change this limit, set the config variable\n",
      "`--NotebookApp.iopub_msg_rate_limit`.\n",
      "\n",
      "Current values:\n",
      "NotebookApp.iopub_msg_rate_limit=1000.0 (msgs/sec)\n",
      "NotebookApp.rate_limit_window=3.0 (secs)\n",
      "\n"
     ]
    },
    {
     "name": "stdout",
     "output_type": "stream",
     "text": [
      "[==================================================] 100.0% 66.0/66.0MB downloaded\n"
     ]
    }
   ],
   "source": [
    "model_glove = api.load(\"glove-wiki-gigaword-50\")"
   ]
  },
  {
   "cell_type": "code",
   "execution_count": 41,
   "id": "cc90e110",
   "metadata": {},
   "outputs": [],
   "source": [
    "vectors_model_glove = [sum([model_glove[word] for word in sent.split(\" \") if word in model_glove]) / len(sent) for sent in data.text]"
   ]
  },
  {
   "cell_type": "code",
   "execution_count": 42,
   "id": "04828a05",
   "metadata": {},
   "outputs": [],
   "source": [
    "vectors_model_glove = [np.ones(300) if isinstance(vec, float) else vec for vec in vectors_model_glove]\n",
    "\n",
    "glove_df = pd.DataFrame.from_dict(zip(data.label, vectors_model_glove))"
   ]
  },
  {
   "cell_type": "code",
   "execution_count": 43,
   "id": "bbadc42e",
   "metadata": {},
   "outputs": [],
   "source": [
    "glove_df.columns = [\"label\", \"vec\"]\n",
    "glove_df = pd.DataFrame(glove_df.vec.to_list())"
   ]
  },
  {
   "cell_type": "code",
   "execution_count": 44,
   "id": "70dbf16b",
   "metadata": {},
   "outputs": [],
   "source": [
    "glove_df.fillna(1.0, inplace=True)"
   ]
  },
  {
   "cell_type": "markdown",
   "id": "aca6df94",
   "metadata": {},
   "source": [
    "Here we backpedal a bit and lose our only spam prediction, the loss is immeasureable."
   ]
  },
  {
   "cell_type": "code",
   "execution_count": 45,
   "id": "7078e1b2",
   "metadata": {},
   "outputs": [
    {
     "name": "stdout",
     "output_type": "stream",
     "text": [
      "[[1593    0]\n",
      " [ 246    0]]\n"
     ]
    },
    {
     "data": {
      "text/plain": [
       "0.9283216783216783"
      ]
     },
     "execution_count": 45,
     "metadata": {},
     "output_type": "execute_result"
    }
   ],
   "source": [
    "X_train, X_test, y_train, y_test = train_test_split(glove_df, data.label, test_size=0.33, random_state=42)\n",
    "\n",
    "clf = rfc(max_depth=2, random_state=0)\n",
    "clf.fit(X_train, y_train)\n",
    "\n",
    "preds = clf.predict(X_test)\n",
    "\n",
    "pd.Series(preds).value_counts()\n",
    "\n",
    "print(confusion_matrix(y_test, preds))\n",
    "\n",
    "f1_score(y_test, preds, pos_label=\"ham\")"
   ]
  },
  {
   "cell_type": "markdown",
   "id": "80fd9fb9",
   "metadata": {},
   "source": [
    "Here I come to the realization that we could potentially improve the models by training them on a twitter corpora or on our data."
   ]
  },
  {
   "cell_type": "markdown",
   "id": "8389f076",
   "metadata": {},
   "source": [
    "# Byte Pair Encoding\n",
    "---"
   ]
  },
  {
   "cell_type": "code",
   "execution_count": 46,
   "id": "6fd73a91",
   "metadata": {},
   "outputs": [],
   "source": [
    "from bpemb import BPEmb"
   ]
  },
  {
   "cell_type": "code",
   "execution_count": 47,
   "id": "4bdfef40",
   "metadata": {},
   "outputs": [
    {
     "name": "stdout",
     "output_type": "stream",
     "text": [
      "downloading https://nlp.h-its.org/bpemb/en/en.wiki.bpe.vs10000.model\n"
     ]
    },
    {
     "name": "stderr",
     "output_type": "stream",
     "text": [
      "100%|██████████| 400869/400869 [00:00<00:00, 1042677.48B/s]\n"
     ]
    },
    {
     "name": "stdout",
     "output_type": "stream",
     "text": [
      "downloading https://nlp.h-its.org/bpemb/en/en.wiki.bpe.vs10000.d50.w2v.bin.tar.gz\n"
     ]
    },
    {
     "name": "stderr",
     "output_type": "stream",
     "text": [
      "100%|██████████| 1924908/1924908 [00:00<00:00, 3176234.93B/s]\n"
     ]
    }
   ],
   "source": [
    "bpemb_en = BPEmb(lang=\"en\", dim=50)"
   ]
  },
  {
   "cell_type": "code",
   "execution_count": 48,
   "id": "579a5b5f",
   "metadata": {},
   "outputs": [],
   "source": [
    "vectors_model_bpemb = [sum(bpemb_en.embed(sent)) / len(sent) for sent in data.text]\n",
    "\n",
    "vectors_model_bpemb = [np.ones(300) if isinstance(vec, float) else vec for vec in vectors_model_bpemb]\n",
    "\n",
    "bpemb_df = pd.DataFrame.from_dict(zip(data.label, vectors_model_bpemb))\n",
    "\n",
    "bpemb_df.columns = [\"label\", \"vec\"]\n",
    "\n",
    "bpemb_df = pd.DataFrame(bpemb_df.vec.to_list())\n",
    "\n",
    "bpemb_df.fillna(1.0, inplace=True)\n",
    "\n"
   ]
  },
  {
   "cell_type": "markdown",
   "id": "733ee175",
   "metadata": {},
   "source": [
    "Finally! We see some marked improvement in our model's labeling, even with our biased dataset. A jump of ~3%."
   ]
  },
  {
   "cell_type": "code",
   "execution_count": 49,
   "id": "38bfa0bc",
   "metadata": {},
   "outputs": [
    {
     "name": "stdout",
     "output_type": "stream",
     "text": [
      "[[1583   10]\n",
      " [ 106  140]]\n"
     ]
    },
    {
     "data": {
      "text/plain": [
       "0.9646556977452773"
      ]
     },
     "execution_count": 49,
     "metadata": {},
     "output_type": "execute_result"
    }
   ],
   "source": [
    "X_train, X_test, y_train, y_test = train_test_split(bpemb_df, data.label, test_size=0.33, random_state=42)\n",
    "\n",
    "clf = rfc(max_depth=2, random_state=0)\n",
    "clf.fit(X_train, y_train)\n",
    "\n",
    "preds = clf.predict(X_test)\n",
    "\n",
    "pd.Series(preds).value_counts()\n",
    "\n",
    "print(confusion_matrix(y_test, preds))\n",
    "\n",
    "f1_score(y_test, preds, pos_label=\"ham\")"
   ]
  },
  {
   "cell_type": "markdown",
   "id": "75d2c2f0",
   "metadata": {},
   "source": [
    "# Transformer model\n",
    "---\n",
    "A BERT vectorizer and RoBERTa for classification."
   ]
  },
  {
   "cell_type": "code",
   "execution_count": 50,
   "id": "a369bfbf",
   "metadata": {},
   "outputs": [],
   "source": [
    "from simpletransformers.classification import ClassificationModel, ClassificationArgs\n",
    "from sklearn.metrics import confusion_matrix, f1_score\n",
    "from sklearn.model_selection import train_test_split\n",
    "from sklearn import preprocessing\n",
    "import pandas as pd\n",
    "import logging"
   ]
  },
  {
   "cell_type": "markdown",
   "id": "7ec62af3",
   "metadata": {},
   "source": [
    "Before this I ran everything on my laptop's CPU with no issues, but when using transformer models a GPU is all but mandatory. The runtime went from 3 hours to 5 minutes."
   ]
  },
  {
   "cell_type": "code",
   "execution_count": 51,
   "id": "38bc5a26",
   "metadata": {
    "scrolled": true
   },
   "outputs": [
    {
     "name": "stderr",
     "output_type": "stream",
     "text": [
      "Some weights of the model checkpoint at roberta-base were not used when initializing RobertaForSequenceClassification: ['lm_head.dense.bias', 'lm_head.layer_norm.weight', 'lm_head.dense.weight', 'lm_head.layer_norm.bias', 'lm_head.decoder.weight', 'lm_head.bias']\n",
      "- This IS expected if you are initializing RobertaForSequenceClassification from the checkpoint of a model trained on another task or with another architecture (e.g. initializing a BertForSequenceClassification model from a BertForPreTraining model).\n",
      "- This IS NOT expected if you are initializing RobertaForSequenceClassification from the checkpoint of a model that you expect to be exactly identical (initializing a BertForSequenceClassification model from a BertForSequenceClassification model).\n",
      "Some weights of RobertaForSequenceClassification were not initialized from the model checkpoint at roberta-base and are newly initialized: ['classifier.dense.bias', 'classifier.dense.weight', 'classifier.out_proj.bias', 'classifier.out_proj.weight']\n",
      "You should probably TRAIN this model on a down-stream task to be able to use it for predictions and inference.\n",
      "INFO:simpletransformers.classification.classification_utils: Converting to features started. Cache is not used.\n"
     ]
    },
    {
     "data": {
      "application/vnd.jupyter.widget-view+json": {
       "model_id": "109246bbec6f4074b225afec392fbdda",
       "version_major": 2,
       "version_minor": 0
      },
      "text/plain": [
       "  0%|          | 0/3733 [00:00<?, ?it/s]"
      ]
     },
     "metadata": {},
     "output_type": "display_data"
    },
    {
     "name": "stderr",
     "output_type": "stream",
     "text": [
      "INFO:simpletransformers.classification.classification_utils: Saving features into cached file cache_dir/cached_train_roberta_128_2_2\n"
     ]
    },
    {
     "data": {
      "application/vnd.jupyter.widget-view+json": {
       "model_id": "91712c33ca37438d9a40158a4b02cd73",
       "version_major": 2,
       "version_minor": 0
      },
      "text/plain": [
       "Epoch:   0%|          | 0/3 [00:00<?, ?it/s]"
      ]
     },
     "metadata": {},
     "output_type": "display_data"
    },
    {
     "data": {
      "application/vnd.jupyter.widget-view+json": {
       "model_id": "378f650c7857404d9b7cc532ad595fbc",
       "version_major": 2,
       "version_minor": 0
      },
      "text/plain": [
       "Running Epoch 0 of 3:   0%|          | 0/467 [00:00<?, ?it/s]"
      ]
     },
     "metadata": {},
     "output_type": "display_data"
    },
    {
     "name": "stderr",
     "output_type": "stream",
     "text": [
      "/storage/de30373/anaconda3/envs/nlp/lib/python3.8/site-packages/simpletransformers/classification/classification_model.py:941: FutureWarning: Non-finite norm encountered in torch.nn.utils.clip_grad_norm_; continuing anyway. Note that the default behavior will change in a future release to error out if a non-finite total norm is encountered. At that point, setting error_if_nonfinite=false will be required to retain the old behavior.\n",
      "  torch.nn.utils.clip_grad_norm_(\n"
     ]
    },
    {
     "data": {
      "application/vnd.jupyter.widget-view+json": {
       "model_id": "d8ecdae2616b40d19f5259c297291fe0",
       "version_major": 2,
       "version_minor": 0
      },
      "text/plain": [
       "Running Epoch 1 of 3:   0%|          | 0/467 [00:00<?, ?it/s]"
      ]
     },
     "metadata": {},
     "output_type": "display_data"
    },
    {
     "data": {
      "application/vnd.jupyter.widget-view+json": {
       "model_id": "fa48e80e33db4d8db8f49e1c4e5e4812",
       "version_major": 2,
       "version_minor": 0
      },
      "text/plain": [
       "Running Epoch 2 of 3:   0%|          | 0/467 [00:00<?, ?it/s]"
      ]
     },
     "metadata": {},
     "output_type": "display_data"
    },
    {
     "name": "stderr",
     "output_type": "stream",
     "text": [
      "INFO:simpletransformers.classification.classification_model: Training of roberta model complete. Saved to outputs/.\n"
     ]
    },
    {
     "data": {
      "text/plain": [
       "(1401, 0.0743371880751869)"
      ]
     },
     "execution_count": 51,
     "metadata": {},
     "output_type": "execute_result"
    }
   ],
   "source": [
    "logging.basicConfig(level=logging.INFO)\n",
    "transformers_logger = logging.getLogger(\"transformers\")\n",
    "transformers_logger.setLevel(logging.WARNING)\n",
    "\n",
    "\n",
    "# Preparing train data\n",
    "data_df = pd.read_csv(\"train.txt\", delimiter = \"\\t\", header=None, names=[\"labels\", \"text\"])\n",
    "\n",
    "le = preprocessing.LabelEncoder()\n",
    "data_df.labels = le.fit_transform(data_df.labels)\n",
    "\n",
    "\n",
    "X_train, X_test, y_train, y_test = train_test_split(data_df, data_df.labels, test_size=0.33, random_state=42)\n",
    "\n",
    "# Optional model configuration\n",
    "model_args = ClassificationArgs(num_train_epochs=3,overwrite_output_dir=True)\n",
    "\n",
    "# Create a ClassificationModel\n",
    "model = ClassificationModel(\n",
    "    \"roberta\",\n",
    "    \"roberta-base\",\n",
    "    args=model_args,\n",
    "    cuda_device=7\n",
    ")\n",
    "\n",
    "# Train the model\n",
    "model.train_model(X_train)\n"
   ]
  },
  {
   "cell_type": "markdown",
   "id": "a632fec9",
   "metadata": {},
   "source": [
    "Another milestone in our little comparison venture, we have another increase in 3% with an accuracy score of 0.99"
   ]
  },
  {
   "cell_type": "code",
   "execution_count": 52,
   "id": "ccd2778f",
   "metadata": {},
   "outputs": [
    {
     "name": "stderr",
     "output_type": "stream",
     "text": [
      "INFO:simpletransformers.classification.classification_utils: Converting to features started. Cache is not used.\n"
     ]
    },
    {
     "data": {
      "application/vnd.jupyter.widget-view+json": {
       "model_id": "2e54d51ba0f04365a2b5f9a1568d9435",
       "version_major": 2,
       "version_minor": 0
      },
      "text/plain": [
       "  0%|          | 0/1839 [00:00<?, ?it/s]"
      ]
     },
     "metadata": {},
     "output_type": "display_data"
    },
    {
     "name": "stderr",
     "output_type": "stream",
     "text": [
      "INFO:simpletransformers.classification.classification_utils: Saving features into cached file cache_dir/cached_dev_roberta_128_2_2\n"
     ]
    },
    {
     "data": {
      "application/vnd.jupyter.widget-view+json": {
       "model_id": "86e22b3998c04560aac012e198c135e8",
       "version_major": 2,
       "version_minor": 0
      },
      "text/plain": [
       "Running Evaluation:   0%|          | 0/230 [00:00<?, ?it/s]"
      ]
     },
     "metadata": {},
     "output_type": "display_data"
    },
    {
     "name": "stderr",
     "output_type": "stream",
     "text": [
      "INFO:simpletransformers.classification.classification_model:{'mcc': 0.971756935133147, 'tp': 239, 'tn': 1588, 'fp': 5, 'fn': 7, 'auroc': 0.99863095146959, 'auprc': 0.9934571301121983, 'acc': 0.9934747145187602, 'eval_loss': 0.03973725932354801}\n"
     ]
    }
   ],
   "source": [
    "from sklearn.metrics import accuracy_score\n",
    "\n",
    "# Make predictions with the model\n",
    "X_test_df = pd.DataFrame(X_test)\n",
    "result, model_outputs, wrong_predictions = model.eval_model(X_test_df, acc=accuracy_score)"
   ]
  },
  {
   "cell_type": "markdown",
   "id": "515b4aab",
   "metadata": {},
   "source": [
    "Here is the BPE's confusion matrix and accuracy score for comparison.\n",
    "\n",
    "\\[1583   10\\]\n",
    "\n",
    "\\[ 106  140\\]\n",
    "\n",
    "0.9646556977452773\n"
   ]
  },
  {
   "cell_type": "code",
   "execution_count": null,
   "id": "7e96f331",
   "metadata": {},
   "outputs": [],
   "source": []
  }
 ],
 "metadata": {
  "kernelspec": {
   "display_name": "Python [conda env:.conda-nlp] *",
   "language": "python",
   "name": "conda-env-.conda-nlp-py"
  },
  "language_info": {
   "codemirror_mode": {
    "name": "ipython",
    "version": 3
   },
   "file_extension": ".py",
   "mimetype": "text/x-python",
   "name": "python",
   "nbconvert_exporter": "python",
   "pygments_lexer": "ipython3",
   "version": "3.8.0"
  }
 },
 "nbformat": 4,
 "nbformat_minor": 5
}
